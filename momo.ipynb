{
 "cells": [
  {
   "cell_type": "code",
   "execution_count": 664,
   "metadata": {},
   "outputs": [],
   "source": [
    "import numpy as np\n",
    "import pandas as pd\n",
    "import matplotlib.pyplot as plt\n",
    "import seaborn as sns\n",
    "import datetime"
   ]
  },
  {
   "cell_type": "code",
   "execution_count": 665,
   "metadata": {},
   "outputs": [],
   "source": [
    "Transactions=pd.read_excel('2022 Case challenge_ DA update.xlsx',sheet_name='Data. Transactions')"
   ]
  },
  {
   "cell_type": "code",
   "execution_count": 666,
   "metadata": {},
   "outputs": [],
   "source": [
    "Transactions=Transactions[['User_id','Order_id','DATE','GMV','Service Group','MerchantID']]\n"
   ]
  },
  {
   "cell_type": "code",
   "execution_count": 667,
   "metadata": {},
   "outputs": [],
   "source": [
    "Transactions['User_id']=Transactions['User_id'].astype(str)\n",
    "Transactions['Order_id']=Transactions['Order_id'].astype(str)\n",
    "Transactions['MerchantID']=Transactions['MerchantID'].astype(str)"
   ]
  },
  {
   "cell_type": "code",
   "execution_count": 668,
   "metadata": {},
   "outputs": [
    {
     "data": {
      "text/html": [
       "<div>\n",
       "<style scoped>\n",
       "    .dataframe tbody tr th:only-of-type {\n",
       "        vertical-align: middle;\n",
       "    }\n",
       "\n",
       "    .dataframe tbody tr th {\n",
       "        vertical-align: top;\n",
       "    }\n",
       "\n",
       "    .dataframe thead th {\n",
       "        text-align: right;\n",
       "    }\n",
       "</style>\n",
       "<table border=\"1\" class=\"dataframe\">\n",
       "  <thead>\n",
       "    <tr style=\"text-align: right;\">\n",
       "      <th></th>\n",
       "      <th>User_id</th>\n",
       "      <th>Order_id</th>\n",
       "      <th>DATE</th>\n",
       "      <th>GMV</th>\n",
       "      <th>Service Group</th>\n",
       "      <th>MerchantID</th>\n",
       "    </tr>\n",
       "  </thead>\n",
       "  <tbody>\n",
       "    <tr>\n",
       "      <th>0</th>\n",
       "      <td>61386143</td>\n",
       "      <td>8733622706</td>\n",
       "      <td>2021-01-01</td>\n",
       "      <td>100000</td>\n",
       "      <td>marketplace</td>\n",
       "      <td>37</td>\n",
       "    </tr>\n",
       "    <tr>\n",
       "      <th>1</th>\n",
       "      <td>48453125</td>\n",
       "      <td>8726857991</td>\n",
       "      <td>2021-01-01</td>\n",
       "      <td>5000</td>\n",
       "      <td>supermarket</td>\n",
       "      <td>9</td>\n",
       "    </tr>\n",
       "    <tr>\n",
       "      <th>2</th>\n",
       "      <td>49921027</td>\n",
       "      <td>8737326894</td>\n",
       "      <td>2021-01-01</td>\n",
       "      <td>106600</td>\n",
       "      <td>supermarket</td>\n",
       "      <td>9</td>\n",
       "    </tr>\n",
       "    <tr>\n",
       "      <th>3</th>\n",
       "      <td>46022523</td>\n",
       "      <td>8732579078</td>\n",
       "      <td>2021-01-01</td>\n",
       "      <td>270000</td>\n",
       "      <td>supermarket</td>\n",
       "      <td>9</td>\n",
       "    </tr>\n",
       "    <tr>\n",
       "      <th>4</th>\n",
       "      <td>44014594</td>\n",
       "      <td>8725567343</td>\n",
       "      <td>2021-01-01</td>\n",
       "      <td>68000</td>\n",
       "      <td>cvs</td>\n",
       "      <td>8</td>\n",
       "    </tr>\n",
       "  </tbody>\n",
       "</table>\n",
       "</div>"
      ],
      "text/plain": [
       "    User_id    Order_id       DATE     GMV Service Group MerchantID\n",
       "0  61386143  8733622706 2021-01-01  100000   marketplace         37\n",
       "1  48453125  8726857991 2021-01-01    5000   supermarket          9\n",
       "2  49921027  8737326894 2021-01-01  106600   supermarket          9\n",
       "3  46022523  8732579078 2021-01-01  270000   supermarket          9\n",
       "4  44014594  8725567343 2021-01-01   68000           cvs          8"
      ]
     },
     "execution_count": 668,
     "metadata": {},
     "output_type": "execute_result"
    }
   ],
   "source": [
    "Transactions.head()"
   ]
  },
  {
   "cell_type": "code",
   "execution_count": 669,
   "metadata": {},
   "outputs": [
    {
     "name": "stdout",
     "output_type": "stream",
     "text": [
      "Tổng tiền :7,561,407,694 VND\n"
     ]
    }
   ],
   "source": [
    "Total_GMV=Transactions['GMV'].sum()\n",
    "print('Tổng tiền :{:,.0f}'.format(Total_GMV)+' VND')\n"
   ]
  },
  {
   "cell_type": "code",
   "execution_count": 670,
   "metadata": {},
   "outputs": [],
   "source": [
    "Loyalty_Points=pd.read_excel('2022 Case challenge_ DA update.xlsx',sheet_name='Data. Loyalty Points')"
   ]
  },
  {
   "cell_type": "code",
   "execution_count": 671,
   "metadata": {},
   "outputs": [
    {
     "data": {
      "text/html": [
       "<div>\n",
       "<style scoped>\n",
       "    .dataframe tbody tr th:only-of-type {\n",
       "        vertical-align: middle;\n",
       "    }\n",
       "\n",
       "    .dataframe tbody tr th {\n",
       "        vertical-align: top;\n",
       "    }\n",
       "\n",
       "    .dataframe thead th {\n",
       "        text-align: right;\n",
       "    }\n",
       "</style>\n",
       "<table border=\"1\" class=\"dataframe\">\n",
       "  <thead>\n",
       "    <tr style=\"text-align: right;\">\n",
       "      <th></th>\n",
       "      <th>Service Group</th>\n",
       "      <th>Point Mechanism</th>\n",
       "      <th>Maximum Point Per Trans</th>\n",
       "    </tr>\n",
       "  </thead>\n",
       "  <tbody>\n",
       "    <tr>\n",
       "      <th>0</th>\n",
       "      <td>supermarket</td>\n",
       "      <td>1 points/1000VND GMV</td>\n",
       "      <td>500 points</td>\n",
       "    </tr>\n",
       "    <tr>\n",
       "      <th>1</th>\n",
       "      <td>data</td>\n",
       "      <td>10 points/1000VND GMV</td>\n",
       "      <td>1000 points</td>\n",
       "    </tr>\n",
       "    <tr>\n",
       "      <th>2</th>\n",
       "      <td>cvs</td>\n",
       "      <td>1 points/1000VND GMV</td>\n",
       "      <td>300 points</td>\n",
       "    </tr>\n",
       "    <tr>\n",
       "      <th>3</th>\n",
       "      <td>marketplace</td>\n",
       "      <td>1 points/1000VND GMV</td>\n",
       "      <td>500 points</td>\n",
       "    </tr>\n",
       "    <tr>\n",
       "      <th>4</th>\n",
       "      <td>Coffee chains and Milk tea</td>\n",
       "      <td>1 points/1000VND GMV</td>\n",
       "      <td>500 points</td>\n",
       "    </tr>\n",
       "    <tr>\n",
       "      <th>5</th>\n",
       "      <td>Offline Beverage</td>\n",
       "      <td>1 points/1000VND GMV</td>\n",
       "      <td>300 points</td>\n",
       "    </tr>\n",
       "  </tbody>\n",
       "</table>\n",
       "</div>"
      ],
      "text/plain": [
       "                Service Group        Point Mechanism Maximum Point Per Trans\n",
       "0                 supermarket   1 points/1000VND GMV              500 points\n",
       "1                        data  10 points/1000VND GMV             1000 points\n",
       "2                         cvs   1 points/1000VND GMV              300 points\n",
       "3                 marketplace   1 points/1000VND GMV              500 points\n",
       "4  Coffee chains and Milk tea   1 points/1000VND GMV              500 points\n",
       "5            Offline Beverage   1 points/1000VND GMV              300 points"
      ]
     },
     "execution_count": 671,
     "metadata": {},
     "output_type": "execute_result"
    }
   ],
   "source": [
    "Loyalty_Points"
   ]
  },
  {
   "cell_type": "code",
   "execution_count": 672,
   "metadata": {},
   "outputs": [],
   "source": [
    "Loyalty_Benefits=pd.read_excel('2022 Case challenge_ DA update.xlsx',sheet_name='Data. Loyalty benefits')"
   ]
  },
  {
   "cell_type": "code",
   "execution_count": 673,
   "metadata": {},
   "outputs": [
    {
     "data": {
      "text/html": [
       "<div>\n",
       "<style scoped>\n",
       "    .dataframe tbody tr th:only-of-type {\n",
       "        vertical-align: middle;\n",
       "    }\n",
       "\n",
       "    .dataframe tbody tr th {\n",
       "        vertical-align: top;\n",
       "    }\n",
       "\n",
       "    .dataframe thead th {\n",
       "        text-align: right;\n",
       "    }\n",
       "</style>\n",
       "<table border=\"1\" class=\"dataframe\">\n",
       "  <thead>\n",
       "    <tr style=\"text-align: right;\">\n",
       "      <th></th>\n",
       "      <th>Class ID</th>\n",
       "      <th>Group</th>\n",
       "      <th>%cashback</th>\n",
       "    </tr>\n",
       "  </thead>\n",
       "  <tbody>\n",
       "    <tr>\n",
       "      <th>0</th>\n",
       "      <td>2</td>\n",
       "      <td>cvs</td>\n",
       "      <td>5</td>\n",
       "    </tr>\n",
       "    <tr>\n",
       "      <th>1</th>\n",
       "      <td>2</td>\n",
       "      <td>Offline Beverage</td>\n",
       "      <td>5</td>\n",
       "    </tr>\n",
       "    <tr>\n",
       "      <th>2</th>\n",
       "      <td>2</td>\n",
       "      <td>data</td>\n",
       "      <td>5</td>\n",
       "    </tr>\n",
       "    <tr>\n",
       "      <th>3</th>\n",
       "      <td>3</td>\n",
       "      <td>cvs</td>\n",
       "      <td>7</td>\n",
       "    </tr>\n",
       "    <tr>\n",
       "      <th>4</th>\n",
       "      <td>3</td>\n",
       "      <td>Offline Beverage</td>\n",
       "      <td>7</td>\n",
       "    </tr>\n",
       "    <tr>\n",
       "      <th>5</th>\n",
       "      <td>3</td>\n",
       "      <td>data</td>\n",
       "      <td>7</td>\n",
       "    </tr>\n",
       "    <tr>\n",
       "      <th>6</th>\n",
       "      <td>3</td>\n",
       "      <td>marketplace</td>\n",
       "      <td>2</td>\n",
       "    </tr>\n",
       "    <tr>\n",
       "      <th>7</th>\n",
       "      <td>3</td>\n",
       "      <td>supermarket</td>\n",
       "      <td>2</td>\n",
       "    </tr>\n",
       "    <tr>\n",
       "      <th>8</th>\n",
       "      <td>4</td>\n",
       "      <td>cvs</td>\n",
       "      <td>12</td>\n",
       "    </tr>\n",
       "    <tr>\n",
       "      <th>9</th>\n",
       "      <td>4</td>\n",
       "      <td>Offline Beverage</td>\n",
       "      <td>12</td>\n",
       "    </tr>\n",
       "    <tr>\n",
       "      <th>10</th>\n",
       "      <td>4</td>\n",
       "      <td>data</td>\n",
       "      <td>12</td>\n",
       "    </tr>\n",
       "    <tr>\n",
       "      <th>11</th>\n",
       "      <td>4</td>\n",
       "      <td>marketplace</td>\n",
       "      <td>5</td>\n",
       "    </tr>\n",
       "    <tr>\n",
       "      <th>12</th>\n",
       "      <td>4</td>\n",
       "      <td>supermarket</td>\n",
       "      <td>5</td>\n",
       "    </tr>\n",
       "  </tbody>\n",
       "</table>\n",
       "</div>"
      ],
      "text/plain": [
       "   Class ID             Group  %cashback\n",
       "0         2               cvs          5\n",
       "1         2  Offline Beverage          5\n",
       "2         2              data          5\n",
       "3         3               cvs          7\n",
       "4         3  Offline Beverage          7\n",
       "5         3              data          7\n",
       "6         3       marketplace          2\n",
       "7         3       supermarket          2\n",
       "8         4               cvs         12\n",
       "9         4  Offline Beverage         12\n",
       "10        4              data         12\n",
       "11        4       marketplace          5\n",
       "12        4       supermarket          5"
      ]
     },
     "execution_count": 673,
     "metadata": {},
     "output_type": "execute_result"
    }
   ],
   "source": [
    "Loyalty_Benefits['Class ID']=Loyalty_Benefits['Class ID'].astype(str)\n",
    "Loyalty_Benefits"
   ]
  },
  {
   "cell_type": "code",
   "execution_count": 674,
   "metadata": {},
   "outputs": [],
   "source": [
    "# Loyalty_Benefits.dtypes"
   ]
  },
  {
   "attachments": {},
   "cell_type": "markdown",
   "metadata": {},
   "source": [
    "# Part 1"
   ]
  },
  {
   "attachments": {},
   "cell_type": "markdown",
   "metadata": {},
   "source": [
    "1,"
   ]
  },
  {
   "cell_type": "code",
   "execution_count": 675,
   "metadata": {},
   "outputs": [
    {
     "name": "stderr",
     "output_type": "stream",
     "text": [
      "C:\\Users\\ACER\\AppData\\Local\\Temp\\ipykernel_8524\\1909542948.py:2: SettingWithCopyWarning: \n",
      "A value is trying to be set on a copy of a slice from a DataFrame.\n",
      "Try using .loc[row_indexer,col_indexer] = value instead\n",
      "\n",
      "See the caveats in the documentation: https://pandas.pydata.org/pandas-docs/stable/user_guide/indexing.html#returning-a-view-versus-a-copy\n",
      "  new_Loyalty_Points['Maximum Point Per Trans']=new_Loyalty_Points['Maximum Point Per Trans'].apply(lambda x: x.split(' ')[0])\n"
     ]
    }
   ],
   "source": [
    "new_Loyalty_Points=Loyalty_Points[['Service Group','Maximum Point Per Trans']]\n",
    "new_Loyalty_Points['Maximum Point Per Trans']=new_Loyalty_Points['Maximum Point Per Trans'].apply(lambda x: x.split(' ')[0])\n",
    "Transactions=Transactions.merge(new_Loyalty_Points,on='Service Group',how='left')"
   ]
  },
  {
   "cell_type": "code",
   "execution_count": 676,
   "metadata": {},
   "outputs": [],
   "source": [
    "# Transactions['Loyalty Points 1'] =Transactions.apply(lambda row: int(row['GMV'] / 1000 * 10) if row['Service Group'] == 'data'\n",
    "#                                                        else int(row['GMV'] / 1000 * 1), axis=1)\n",
    "\n",
    "TIME = pd.to_datetime('2022-01-01')\n",
    "def calculate_loyalty_points(row):\n",
    "    if row['DATE'] >= TIME:\n",
    "        if row['Service Group'] == 'data':\n",
    "            return int(row['GMV'] / 1000 * 10)\n",
    "        else:\n",
    "            return int(row['GMV'] / 1000 * 1)\n",
    "    else:\n",
    "        return 0\n",
    "\n",
    "Transactions['Loyalty Points 1'] = Transactions.apply(calculate_loyalty_points, axis=1)"
   ]
  },
  {
   "cell_type": "code",
   "execution_count": 677,
   "metadata": {},
   "outputs": [
    {
     "data": {
      "text/html": [
       "<div>\n",
       "<style scoped>\n",
       "    .dataframe tbody tr th:only-of-type {\n",
       "        vertical-align: middle;\n",
       "    }\n",
       "\n",
       "    .dataframe tbody tr th {\n",
       "        vertical-align: top;\n",
       "    }\n",
       "\n",
       "    .dataframe thead th {\n",
       "        text-align: right;\n",
       "    }\n",
       "</style>\n",
       "<table border=\"1\" class=\"dataframe\">\n",
       "  <thead>\n",
       "    <tr style=\"text-align: right;\">\n",
       "      <th></th>\n",
       "      <th>User_id</th>\n",
       "      <th>Order_id</th>\n",
       "      <th>DATE</th>\n",
       "      <th>GMV</th>\n",
       "      <th>Service Group</th>\n",
       "      <th>MerchantID</th>\n",
       "      <th>Maximum Point Per Trans</th>\n",
       "      <th>Loyalty Points 1</th>\n",
       "    </tr>\n",
       "  </thead>\n",
       "  <tbody>\n",
       "    <tr>\n",
       "      <th>0</th>\n",
       "      <td>61386143</td>\n",
       "      <td>8733622706</td>\n",
       "      <td>2021-01-01</td>\n",
       "      <td>100000</td>\n",
       "      <td>marketplace</td>\n",
       "      <td>37</td>\n",
       "      <td>500</td>\n",
       "      <td>0</td>\n",
       "    </tr>\n",
       "    <tr>\n",
       "      <th>1</th>\n",
       "      <td>48453125</td>\n",
       "      <td>8726857991</td>\n",
       "      <td>2021-01-01</td>\n",
       "      <td>5000</td>\n",
       "      <td>supermarket</td>\n",
       "      <td>9</td>\n",
       "      <td>500</td>\n",
       "      <td>0</td>\n",
       "    </tr>\n",
       "    <tr>\n",
       "      <th>2</th>\n",
       "      <td>49921027</td>\n",
       "      <td>8737326894</td>\n",
       "      <td>2021-01-01</td>\n",
       "      <td>106600</td>\n",
       "      <td>supermarket</td>\n",
       "      <td>9</td>\n",
       "      <td>500</td>\n",
       "      <td>0</td>\n",
       "    </tr>\n",
       "    <tr>\n",
       "      <th>3</th>\n",
       "      <td>46022523</td>\n",
       "      <td>8732579078</td>\n",
       "      <td>2021-01-01</td>\n",
       "      <td>270000</td>\n",
       "      <td>supermarket</td>\n",
       "      <td>9</td>\n",
       "      <td>500</td>\n",
       "      <td>0</td>\n",
       "    </tr>\n",
       "    <tr>\n",
       "      <th>4</th>\n",
       "      <td>44014594</td>\n",
       "      <td>8725567343</td>\n",
       "      <td>2021-01-01</td>\n",
       "      <td>68000</td>\n",
       "      <td>cvs</td>\n",
       "      <td>8</td>\n",
       "      <td>300</td>\n",
       "      <td>0</td>\n",
       "    </tr>\n",
       "  </tbody>\n",
       "</table>\n",
       "</div>"
      ],
      "text/plain": [
       "    User_id    Order_id       DATE     GMV Service Group MerchantID  \\\n",
       "0  61386143  8733622706 2021-01-01  100000   marketplace         37   \n",
       "1  48453125  8726857991 2021-01-01    5000   supermarket          9   \n",
       "2  49921027  8737326894 2021-01-01  106600   supermarket          9   \n",
       "3  46022523  8732579078 2021-01-01  270000   supermarket          9   \n",
       "4  44014594  8725567343 2021-01-01   68000           cvs          8   \n",
       "\n",
       "  Maximum Point Per Trans  Loyalty Points 1  \n",
       "0                     500                 0  \n",
       "1                     500                 0  \n",
       "2                     500                 0  \n",
       "3                     500                 0  \n",
       "4                     300                 0  "
      ]
     },
     "execution_count": 677,
     "metadata": {},
     "output_type": "execute_result"
    }
   ],
   "source": [
    "Transactions.head()"
   ]
  },
  {
   "cell_type": "code",
   "execution_count": 678,
   "metadata": {},
   "outputs": [],
   "source": [
    "Transactions['Maximum Point Per Trans']=Transactions['Maximum Point Per Trans'].astype(int)"
   ]
  },
  {
   "cell_type": "code",
   "execution_count": 679,
   "metadata": {},
   "outputs": [],
   "source": [
    "Transactions['Loyalty Points']=Transactions.apply(lambda row : row['Loyalty Points 1'] if row['Loyalty Points 1'] < row['Maximum Point Per Trans'] \n",
    "                                                  else row['Maximum Point Per Trans'],axis=1)"
   ]
  },
  {
   "cell_type": "code",
   "execution_count": 680,
   "metadata": {},
   "outputs": [],
   "source": [
    "Transactions.drop(['Maximum Point Per Trans','Loyalty Points 1'],axis=1,inplace=True)\n"
   ]
  },
  {
   "cell_type": "code",
   "execution_count": 681,
   "metadata": {},
   "outputs": [
    {
     "data": {
      "text/html": [
       "<div>\n",
       "<style scoped>\n",
       "    .dataframe tbody tr th:only-of-type {\n",
       "        vertical-align: middle;\n",
       "    }\n",
       "\n",
       "    .dataframe tbody tr th {\n",
       "        vertical-align: top;\n",
       "    }\n",
       "\n",
       "    .dataframe thead th {\n",
       "        text-align: right;\n",
       "    }\n",
       "</style>\n",
       "<table border=\"1\" class=\"dataframe\">\n",
       "  <thead>\n",
       "    <tr style=\"text-align: right;\">\n",
       "      <th></th>\n",
       "      <th>User_id</th>\n",
       "      <th>Order_id</th>\n",
       "      <th>DATE</th>\n",
       "      <th>GMV</th>\n",
       "      <th>Service Group</th>\n",
       "      <th>MerchantID</th>\n",
       "      <th>Loyalty Points</th>\n",
       "    </tr>\n",
       "  </thead>\n",
       "  <tbody>\n",
       "    <tr>\n",
       "      <th>0</th>\n",
       "      <td>61386143</td>\n",
       "      <td>8733622706</td>\n",
       "      <td>2021-01-01</td>\n",
       "      <td>100000</td>\n",
       "      <td>marketplace</td>\n",
       "      <td>37</td>\n",
       "      <td>0</td>\n",
       "    </tr>\n",
       "    <tr>\n",
       "      <th>1</th>\n",
       "      <td>48453125</td>\n",
       "      <td>8726857991</td>\n",
       "      <td>2021-01-01</td>\n",
       "      <td>5000</td>\n",
       "      <td>supermarket</td>\n",
       "      <td>9</td>\n",
       "      <td>0</td>\n",
       "    </tr>\n",
       "    <tr>\n",
       "      <th>2</th>\n",
       "      <td>49921027</td>\n",
       "      <td>8737326894</td>\n",
       "      <td>2021-01-01</td>\n",
       "      <td>106600</td>\n",
       "      <td>supermarket</td>\n",
       "      <td>9</td>\n",
       "      <td>0</td>\n",
       "    </tr>\n",
       "    <tr>\n",
       "      <th>3</th>\n",
       "      <td>46022523</td>\n",
       "      <td>8732579078</td>\n",
       "      <td>2021-01-01</td>\n",
       "      <td>270000</td>\n",
       "      <td>supermarket</td>\n",
       "      <td>9</td>\n",
       "      <td>0</td>\n",
       "    </tr>\n",
       "    <tr>\n",
       "      <th>4</th>\n",
       "      <td>44014594</td>\n",
       "      <td>8725567343</td>\n",
       "      <td>2021-01-01</td>\n",
       "      <td>68000</td>\n",
       "      <td>cvs</td>\n",
       "      <td>8</td>\n",
       "      <td>0</td>\n",
       "    </tr>\n",
       "  </tbody>\n",
       "</table>\n",
       "</div>"
      ],
      "text/plain": [
       "    User_id    Order_id       DATE     GMV Service Group MerchantID  \\\n",
       "0  61386143  8733622706 2021-01-01  100000   marketplace         37   \n",
       "1  48453125  8726857991 2021-01-01    5000   supermarket          9   \n",
       "2  49921027  8737326894 2021-01-01  106600   supermarket          9   \n",
       "3  46022523  8732579078 2021-01-01  270000   supermarket          9   \n",
       "4  44014594  8725567343 2021-01-01   68000           cvs          8   \n",
       "\n",
       "   Loyalty Points  \n",
       "0               0  \n",
       "1               0  \n",
       "2               0  \n",
       "3               0  \n",
       "4               0  "
      ]
     },
     "execution_count": 681,
     "metadata": {},
     "output_type": "execute_result"
    }
   ],
   "source": [
    "Transactions.head()"
   ]
  },
  {
   "cell_type": "code",
   "execution_count": 682,
   "metadata": {},
   "outputs": [],
   "source": [
    "# x=input('nhập date (yyyy-mm-dd):')\n",
    "# current_date = datetime.datetime.strptime(x,'%Y-%m-%d')\n",
    "current_date = datetime.datetime(2022,3,31)\n",
    "days_to_reset = 30\n",
    "reset_date = current_date - datetime.timedelta(days=days_to_reset)\n",
    "# print(reset_date)\n",
    "Transactions.loc[Transactions['DATE'] < reset_date , 'Loyalty Points'] = 0\n"
   ]
  },
  {
   "cell_type": "code",
   "execution_count": 683,
   "metadata": {},
   "outputs": [],
   "source": [
    "Loyalty_Ranking=Transactions.groupby('User_id')['Loyalty Points'].sum().reset_index()"
   ]
  },
  {
   "cell_type": "code",
   "execution_count": 684,
   "metadata": {},
   "outputs": [
    {
     "data": {
      "text/html": [
       "<div>\n",
       "<style scoped>\n",
       "    .dataframe tbody tr th:only-of-type {\n",
       "        vertical-align: middle;\n",
       "    }\n",
       "\n",
       "    .dataframe tbody tr th {\n",
       "        vertical-align: top;\n",
       "    }\n",
       "\n",
       "    .dataframe thead th {\n",
       "        text-align: right;\n",
       "    }\n",
       "</style>\n",
       "<table border=\"1\" class=\"dataframe\">\n",
       "  <thead>\n",
       "    <tr style=\"text-align: right;\">\n",
       "      <th></th>\n",
       "      <th>User_id</th>\n",
       "      <th>Loyalty Points</th>\n",
       "    </tr>\n",
       "  </thead>\n",
       "  <tbody>\n",
       "    <tr>\n",
       "      <th>0</th>\n",
       "      <td>10056218</td>\n",
       "      <td>880</td>\n",
       "    </tr>\n",
       "    <tr>\n",
       "      <th>1</th>\n",
       "      <td>10071920</td>\n",
       "      <td>0</td>\n",
       "    </tr>\n",
       "    <tr>\n",
       "      <th>2</th>\n",
       "      <td>10093330</td>\n",
       "      <td>0</td>\n",
       "    </tr>\n",
       "    <tr>\n",
       "      <th>3</th>\n",
       "      <td>10154027</td>\n",
       "      <td>0</td>\n",
       "    </tr>\n",
       "    <tr>\n",
       "      <th>4</th>\n",
       "      <td>10156282</td>\n",
       "      <td>100</td>\n",
       "    </tr>\n",
       "  </tbody>\n",
       "</table>\n",
       "</div>"
      ],
      "text/plain": [
       "    User_id  Loyalty Points\n",
       "0  10056218             880\n",
       "1  10071920               0\n",
       "2  10093330               0\n",
       "3  10154027               0\n",
       "4  10156282             100"
      ]
     },
     "execution_count": 684,
     "metadata": {},
     "output_type": "execute_result"
    }
   ],
   "source": [
    "Loyalty_Ranking.head()"
   ]
  },
  {
   "cell_type": "code",
   "execution_count": 685,
   "metadata": {},
   "outputs": [],
   "source": [
    "Loyalty_Ranking.drop(Loyalty_Ranking[Loyalty_Ranking['Loyalty Points'] == 0].index, inplace=True)\n"
   ]
  },
  {
   "cell_type": "code",
   "execution_count": 686,
   "metadata": {},
   "outputs": [],
   "source": [
    "Loyalty_Ranking['Rank_name']=Loyalty_Ranking['Loyalty Points'].apply(lambda x: 'DIAMOND' if x>=5000 \n",
    "                                                                     else('GOLD' if x<5000 and x>=2000 \n",
    "                                                                          else('SILVER' if x<2000 and x >=1000 \n",
    "                                                                               else 'STANDARD')))"
   ]
  },
  {
   "cell_type": "code",
   "execution_count": 687,
   "metadata": {},
   "outputs": [],
   "source": [
    "Loyalty_Ranking['Class ID']=Loyalty_Ranking['Rank_name'].apply(lambda x : 1 if x=='STANDARD' \n",
    "                                                               else(2 if x=='SILVER' \n",
    "                                                                    else(3 if x=='GOLD' \n",
    "                                                                         else 4)))"
   ]
  },
  {
   "cell_type": "code",
   "execution_count": 688,
   "metadata": {},
   "outputs": [],
   "source": [
    "Loyalty_Ranking.rename(columns={'Loyalty Points':'Calculated_points'},inplace=True)"
   ]
  },
  {
   "cell_type": "code",
   "execution_count": 689,
   "metadata": {},
   "outputs": [
    {
     "data": {
      "text/html": [
       "<div>\n",
       "<style scoped>\n",
       "    .dataframe tbody tr th:only-of-type {\n",
       "        vertical-align: middle;\n",
       "    }\n",
       "\n",
       "    .dataframe tbody tr th {\n",
       "        vertical-align: top;\n",
       "    }\n",
       "\n",
       "    .dataframe thead th {\n",
       "        text-align: right;\n",
       "    }\n",
       "</style>\n",
       "<table border=\"1\" class=\"dataframe\">\n",
       "  <thead>\n",
       "    <tr style=\"text-align: right;\">\n",
       "      <th></th>\n",
       "      <th>User_id</th>\n",
       "      <th>Calculated_points</th>\n",
       "      <th>Rank_name</th>\n",
       "      <th>Class ID</th>\n",
       "    </tr>\n",
       "  </thead>\n",
       "  <tbody>\n",
       "    <tr>\n",
       "      <th>0</th>\n",
       "      <td>10056218</td>\n",
       "      <td>880</td>\n",
       "      <td>STANDARD</td>\n",
       "      <td>1</td>\n",
       "    </tr>\n",
       "    <tr>\n",
       "      <th>4</th>\n",
       "      <td>10156282</td>\n",
       "      <td>100</td>\n",
       "      <td>STANDARD</td>\n",
       "      <td>1</td>\n",
       "    </tr>\n",
       "    <tr>\n",
       "      <th>6</th>\n",
       "      <td>10184635</td>\n",
       "      <td>4000</td>\n",
       "      <td>GOLD</td>\n",
       "      <td>3</td>\n",
       "    </tr>\n",
       "    <tr>\n",
       "      <th>7</th>\n",
       "      <td>1018832</td>\n",
       "      <td>2130</td>\n",
       "      <td>GOLD</td>\n",
       "      <td>3</td>\n",
       "    </tr>\n",
       "    <tr>\n",
       "      <th>8</th>\n",
       "      <td>10247812</td>\n",
       "      <td>150</td>\n",
       "      <td>STANDARD</td>\n",
       "      <td>1</td>\n",
       "    </tr>\n",
       "  </tbody>\n",
       "</table>\n",
       "</div>"
      ],
      "text/plain": [
       "    User_id  Calculated_points Rank_name  Class ID\n",
       "0  10056218                880  STANDARD         1\n",
       "4  10156282                100  STANDARD         1\n",
       "6  10184635               4000      GOLD         3\n",
       "7   1018832               2130      GOLD         3\n",
       "8  10247812                150  STANDARD         1"
      ]
     },
     "execution_count": 689,
     "metadata": {},
     "output_type": "execute_result"
    }
   ],
   "source": [
    "Loyalty_Ranking.head()"
   ]
  },
  {
   "cell_type": "code",
   "execution_count": 690,
   "metadata": {},
   "outputs": [
    {
     "data": {
      "text/plain": [
       "STANDARD    1512\n",
       "SILVER       301\n",
       "GOLD         125\n",
       "DIAMOND       14\n",
       "Name: Rank_name, dtype: int64"
      ]
     },
     "execution_count": 690,
     "metadata": {},
     "output_type": "execute_result"
    }
   ],
   "source": [
    "Loyalty_Ranking['Rank_name'].value_counts()"
   ]
  },
  {
   "cell_type": "code",
   "execution_count": 691,
   "metadata": {},
   "outputs": [
    {
     "name": "stdout",
     "output_type": "stream",
     "text": [
      "Vào cuối tháng 3 năm 2022, có 125 người dùng đạt được thứ hạng Vàng\n"
     ]
    }
   ],
   "source": [
    "x=Loyalty_Ranking['Rank_name'].value_counts()['GOLD']\n",
    "print('Vào cuối tháng 3 năm 2022, có {} người dùng đạt được thứ hạng Vàng'.format(x))"
   ]
  },
  {
   "cell_type": "code",
   "execution_count": 692,
   "metadata": {},
   "outputs": [],
   "source": [
    "# Loyalty_Ranking.dtypes"
   ]
  },
  {
   "attachments": {},
   "cell_type": "markdown",
   "metadata": {},
   "source": [
    "2,"
   ]
  },
  {
   "cell_type": "code",
   "execution_count": 693,
   "metadata": {},
   "outputs": [],
   "source": [
    "Loyalty_Ranking['Class ID'] = Loyalty_Ranking['Class ID'].astype(str)"
   ]
  },
  {
   "cell_type": "code",
   "execution_count": 694,
   "metadata": {},
   "outputs": [],
   "source": [
    "Transactions_p2=Transactions.merge(Loyalty_Ranking[['User_id','Class ID']],on='User_id',how='left')"
   ]
  },
  {
   "cell_type": "code",
   "execution_count": 695,
   "metadata": {},
   "outputs": [],
   "source": [
    "# Transactions.dtypes"
   ]
  },
  {
   "cell_type": "code",
   "execution_count": 696,
   "metadata": {},
   "outputs": [],
   "source": [
    "Transactions_p2['Class ID'] = Transactions_p2['Class ID'].fillna('1')\n"
   ]
  },
  {
   "cell_type": "code",
   "execution_count": 697,
   "metadata": {},
   "outputs": [
    {
     "data": {
      "text/html": [
       "<div>\n",
       "<style scoped>\n",
       "    .dataframe tbody tr th:only-of-type {\n",
       "        vertical-align: middle;\n",
       "    }\n",
       "\n",
       "    .dataframe tbody tr th {\n",
       "        vertical-align: top;\n",
       "    }\n",
       "\n",
       "    .dataframe thead th {\n",
       "        text-align: right;\n",
       "    }\n",
       "</style>\n",
       "<table border=\"1\" class=\"dataframe\">\n",
       "  <thead>\n",
       "    <tr style=\"text-align: right;\">\n",
       "      <th></th>\n",
       "      <th>User_id</th>\n",
       "      <th>Order_id</th>\n",
       "      <th>DATE</th>\n",
       "      <th>GMV</th>\n",
       "      <th>Service Group</th>\n",
       "      <th>MerchantID</th>\n",
       "      <th>Loyalty Points</th>\n",
       "      <th>Class ID</th>\n",
       "    </tr>\n",
       "  </thead>\n",
       "  <tbody>\n",
       "    <tr>\n",
       "      <th>0</th>\n",
       "      <td>61386143</td>\n",
       "      <td>8733622706</td>\n",
       "      <td>2021-01-01</td>\n",
       "      <td>100000</td>\n",
       "      <td>marketplace</td>\n",
       "      <td>37</td>\n",
       "      <td>0</td>\n",
       "      <td>1</td>\n",
       "    </tr>\n",
       "    <tr>\n",
       "      <th>1</th>\n",
       "      <td>48453125</td>\n",
       "      <td>8726857991</td>\n",
       "      <td>2021-01-01</td>\n",
       "      <td>5000</td>\n",
       "      <td>supermarket</td>\n",
       "      <td>9</td>\n",
       "      <td>0</td>\n",
       "      <td>2</td>\n",
       "    </tr>\n",
       "    <tr>\n",
       "      <th>2</th>\n",
       "      <td>49921027</td>\n",
       "      <td>8737326894</td>\n",
       "      <td>2021-01-01</td>\n",
       "      <td>106600</td>\n",
       "      <td>supermarket</td>\n",
       "      <td>9</td>\n",
       "      <td>0</td>\n",
       "      <td>1</td>\n",
       "    </tr>\n",
       "    <tr>\n",
       "      <th>3</th>\n",
       "      <td>46022523</td>\n",
       "      <td>8732579078</td>\n",
       "      <td>2021-01-01</td>\n",
       "      <td>270000</td>\n",
       "      <td>supermarket</td>\n",
       "      <td>9</td>\n",
       "      <td>0</td>\n",
       "      <td>1</td>\n",
       "    </tr>\n",
       "    <tr>\n",
       "      <th>4</th>\n",
       "      <td>44014594</td>\n",
       "      <td>8725567343</td>\n",
       "      <td>2021-01-01</td>\n",
       "      <td>68000</td>\n",
       "      <td>cvs</td>\n",
       "      <td>8</td>\n",
       "      <td>0</td>\n",
       "      <td>1</td>\n",
       "    </tr>\n",
       "  </tbody>\n",
       "</table>\n",
       "</div>"
      ],
      "text/plain": [
       "    User_id    Order_id       DATE     GMV Service Group MerchantID  \\\n",
       "0  61386143  8733622706 2021-01-01  100000   marketplace         37   \n",
       "1  48453125  8726857991 2021-01-01    5000   supermarket          9   \n",
       "2  49921027  8737326894 2021-01-01  106600   supermarket          9   \n",
       "3  46022523  8732579078 2021-01-01  270000   supermarket          9   \n",
       "4  44014594  8725567343 2021-01-01   68000           cvs          8   \n",
       "\n",
       "   Loyalty Points Class ID  \n",
       "0               0        1  \n",
       "1               0        2  \n",
       "2               0        1  \n",
       "3               0        1  \n",
       "4               0        1  "
      ]
     },
     "execution_count": 697,
     "metadata": {},
     "output_type": "execute_result"
    }
   ],
   "source": [
    "Transactions_p2.head()"
   ]
  },
  {
   "cell_type": "code",
   "execution_count": 698,
   "metadata": {},
   "outputs": [],
   "source": [
    "# Transactions.dtypes"
   ]
  },
  {
   "cell_type": "code",
   "execution_count": 699,
   "metadata": {},
   "outputs": [],
   "source": [
    "Transactions_p2.drop(Transactions_p2[Transactions_p2['Class ID']=='1'].index,inplace=True)"
   ]
  },
  {
   "cell_type": "code",
   "execution_count": 700,
   "metadata": {},
   "outputs": [],
   "source": [
    "Transactions_p2 = pd.merge(Transactions_p2, Loyalty_Benefits, left_on=['Class ID', 'Service Group'], right_on=['Class ID', 'Group'], how='left')\n"
   ]
  },
  {
   "cell_type": "code",
   "execution_count": 701,
   "metadata": {},
   "outputs": [],
   "source": [
    "Transactions_p2.drop(Transactions_p2[Transactions_p2['Group'].isnull()].index,inplace=True)"
   ]
  },
  {
   "cell_type": "code",
   "execution_count": 702,
   "metadata": {},
   "outputs": [],
   "source": [
    "Transactions_p2['%cashback']=Transactions_p2['%cashback'].astype(int)\n"
   ]
  },
  {
   "cell_type": "code",
   "execution_count": 703,
   "metadata": {},
   "outputs": [],
   "source": [
    "Transactions_p2['total_cash_back']=(Transactions_p2['GMV']*Transactions_p2['%cashback'])/100"
   ]
  },
  {
   "cell_type": "code",
   "execution_count": 704,
   "metadata": {},
   "outputs": [],
   "source": [
    "Transactions_p2['total_cash_back']=Transactions_p2['total_cash_back'].astype(int)\n",
    "Transactions_p2.drop(['Class ID','Group'],axis=1,inplace=True)"
   ]
  },
  {
   "cell_type": "code",
   "execution_count": 705,
   "metadata": {},
   "outputs": [],
   "source": [
    "Transactions_p2['total_cash_back']=Transactions_p2['total_cash_back'].apply(lambda x : 10000 if x >10000 else x)"
   ]
  },
  {
   "cell_type": "code",
   "execution_count": 706,
   "metadata": {},
   "outputs": [
    {
     "data": {
      "text/html": [
       "<div>\n",
       "<style scoped>\n",
       "    .dataframe tbody tr th:only-of-type {\n",
       "        vertical-align: middle;\n",
       "    }\n",
       "\n",
       "    .dataframe tbody tr th {\n",
       "        vertical-align: top;\n",
       "    }\n",
       "\n",
       "    .dataframe thead th {\n",
       "        text-align: right;\n",
       "    }\n",
       "</style>\n",
       "<table border=\"1\" class=\"dataframe\">\n",
       "  <thead>\n",
       "    <tr style=\"text-align: right;\">\n",
       "      <th></th>\n",
       "      <th>User_id</th>\n",
       "      <th>Order_id</th>\n",
       "      <th>DATE</th>\n",
       "      <th>GMV</th>\n",
       "      <th>Service Group</th>\n",
       "      <th>MerchantID</th>\n",
       "      <th>Loyalty Points</th>\n",
       "      <th>%cashback</th>\n",
       "      <th>total_cash_back</th>\n",
       "    </tr>\n",
       "  </thead>\n",
       "  <tbody>\n",
       "    <tr>\n",
       "      <th>1</th>\n",
       "      <td>54396095</td>\n",
       "      <td>8734291772</td>\n",
       "      <td>2021-01-01</td>\n",
       "      <td>15000</td>\n",
       "      <td>data</td>\n",
       "      <td>41</td>\n",
       "      <td>0</td>\n",
       "      <td>7</td>\n",
       "      <td>1050</td>\n",
       "    </tr>\n",
       "    <tr>\n",
       "      <th>3</th>\n",
       "      <td>58700380</td>\n",
       "      <td>8775629488</td>\n",
       "      <td>2021-01-04</td>\n",
       "      <td>7500</td>\n",
       "      <td>data</td>\n",
       "      <td>43</td>\n",
       "      <td>0</td>\n",
       "      <td>5</td>\n",
       "      <td>375</td>\n",
       "    </tr>\n",
       "    <tr>\n",
       "      <th>6</th>\n",
       "      <td>10184635</td>\n",
       "      <td>8802092703</td>\n",
       "      <td>2021-01-06</td>\n",
       "      <td>37986</td>\n",
       "      <td>marketplace</td>\n",
       "      <td>24</td>\n",
       "      <td>0</td>\n",
       "      <td>2</td>\n",
       "      <td>759</td>\n",
       "    </tr>\n",
       "    <tr>\n",
       "      <th>7</th>\n",
       "      <td>54396095</td>\n",
       "      <td>8799213943</td>\n",
       "      <td>2021-01-06</td>\n",
       "      <td>15000</td>\n",
       "      <td>data</td>\n",
       "      <td>41</td>\n",
       "      <td>0</td>\n",
       "      <td>7</td>\n",
       "      <td>1050</td>\n",
       "    </tr>\n",
       "    <tr>\n",
       "      <th>9</th>\n",
       "      <td>54396095</td>\n",
       "      <td>8828489404</td>\n",
       "      <td>2021-01-07</td>\n",
       "      <td>30000</td>\n",
       "      <td>data</td>\n",
       "      <td>41</td>\n",
       "      <td>0</td>\n",
       "      <td>7</td>\n",
       "      <td>2100</td>\n",
       "    </tr>\n",
       "  </tbody>\n",
       "</table>\n",
       "</div>"
      ],
      "text/plain": [
       "    User_id    Order_id       DATE    GMV Service Group MerchantID  \\\n",
       "1  54396095  8734291772 2021-01-01  15000          data         41   \n",
       "3  58700380  8775629488 2021-01-04   7500          data         43   \n",
       "6  10184635  8802092703 2021-01-06  37986   marketplace         24   \n",
       "7  54396095  8799213943 2021-01-06  15000          data         41   \n",
       "9  54396095  8828489404 2021-01-07  30000          data         41   \n",
       "\n",
       "   Loyalty Points  %cashback  total_cash_back  \n",
       "1               0          7             1050  \n",
       "3               0          5              375  \n",
       "6               0          2              759  \n",
       "7               0          7             1050  \n",
       "9               0          7             2100  "
      ]
     },
     "execution_count": 706,
     "metadata": {},
     "output_type": "execute_result"
    }
   ],
   "source": [
    "Transactions_p2.head()"
   ]
  },
  {
   "cell_type": "code",
   "execution_count": 707,
   "metadata": {},
   "outputs": [
    {
     "name": "stdout",
     "output_type": "stream",
     "text": [
      "Tổng chi phí hoàn tiền vào tháng 2 năm 2022:4,831,497VND\n"
     ]
    }
   ],
   "source": [
    "condition = (Transactions_p2['DATE'].dt.year == 2022) & (Transactions_p2['DATE'].dt.month == 2)\n",
    "total_cashback_feb_2022 = Transactions_p2.loc[condition, 'total_cash_back'].sum()\n",
    "print('Tổng chi phí hoàn tiền vào tháng 2 năm 2022:{:,.0f}'.format(total_cashback_feb_2022)+'VND')"
   ]
  },
  {
   "cell_type": "code",
   "execution_count": 708,
   "metadata": {},
   "outputs": [],
   "source": [
    "# Transactions_p2.to_csv('Cashback.csv',index=False)"
   ]
  },
  {
   "attachments": {},
   "cell_type": "markdown",
   "metadata": {},
   "source": [
    "3,"
   ]
  },
  {
   "cell_type": "code",
   "execution_count": 709,
   "metadata": {},
   "outputs": [],
   "source": [
    "# start_date = pd.to_datetime('2022-01-01')\n",
    "# end_date = pd.to_datetime('2022-03-31')\n",
    "# # end_date = pd.to_datetime(datetime.datetime.now().date())\n",
    "# filtered_data = Transactions.loc[(Transactions['DATE'] >= start_date) & (Transactions['DATE'] <= end_date)]\n",
    "\n",
    "# plt.figure(figsize=(10, 6))\n",
    "# plt.plot(filtered_data['DATE'], filtered_data['total_cash_back'])\n",
    "# plt.xlabel('Ngày')\n",
    "# plt.ylabel('Giá trị')\n",
    "# plt.title('Biểu đồ duy trì hàng tuần')\n",
    "# plt.xticks(rotation=45)\n",
    "# plt.grid(True)\n",
    "\n",
    "# import matplotlib.dates as mdates\n",
    "\n",
    "# plt.gca().xaxis.set_major_locator(mdates.WeekdayLocator())\n",
    "# plt.gca().xaxis.set_major_formatter(mdates.DateFormatter('%Y-%m-%d'))\n",
    "\n",
    "# plt.show()\n",
    "\n"
   ]
  },
  {
   "attachments": {},
   "cell_type": "markdown",
   "metadata": {},
   "source": [
    "# Part 2"
   ]
  },
  {
   "attachments": {},
   "cell_type": "markdown",
   "metadata": {},
   "source": [
    "1,"
   ]
  },
  {
   "cell_type": "code",
   "execution_count": 710,
   "metadata": {},
   "outputs": [],
   "source": [
    "Transaction=pd.read_excel('2022 Case challenge_ DA update.xlsx',sheet_name='Data. Transactions')\n",
    "Transaction['User_id']=Transaction['User_id'].astype(str)\n",
    "Transaction['Order_id']=Transaction['Order_id'].astype(str)\n",
    "Transaction['MerchantID']=Transaction['MerchantID'].astype(str)\n",
    "Transaction.drop(Transaction[Transaction['DATE']<'2022-01-01'].index,inplace=True)"
   ]
  },
  {
   "cell_type": "code",
   "execution_count": 711,
   "metadata": {},
   "outputs": [],
   "source": [
    "count=Transaction.groupby(\"User_id\")['Order_id'].count().reset_index()"
   ]
  },
  {
   "cell_type": "code",
   "execution_count": 712,
   "metadata": {},
   "outputs": [],
   "source": [
    "sum=Transaction.groupby('User_id')['GMV'].sum().reset_index()"
   ]
  },
  {
   "cell_type": "code",
   "execution_count": 713,
   "metadata": {},
   "outputs": [],
   "source": [
    "User=count.merge(sum,on='User_id',how='outer')\n",
    "User=User.sort_values(['Order_id','GMV'],ascending=False)\n",
    "User.rename(columns={'Order_id': 'Total order', 'GMV': 'Sum GMV'}, inplace=True)"
   ]
  },
  {
   "cell_type": "code",
   "execution_count": 714,
   "metadata": {},
   "outputs": [
    {
     "data": {
      "text/html": [
       "<div>\n",
       "<style scoped>\n",
       "    .dataframe tbody tr th:only-of-type {\n",
       "        vertical-align: middle;\n",
       "    }\n",
       "\n",
       "    .dataframe tbody tr th {\n",
       "        vertical-align: top;\n",
       "    }\n",
       "\n",
       "    .dataframe thead th {\n",
       "        text-align: right;\n",
       "    }\n",
       "</style>\n",
       "<table border=\"1\" class=\"dataframe\">\n",
       "  <thead>\n",
       "    <tr style=\"text-align: right;\">\n",
       "      <th></th>\n",
       "      <th>User_id</th>\n",
       "      <th>Total order</th>\n",
       "      <th>Sum GMV</th>\n",
       "    </tr>\n",
       "  </thead>\n",
       "  <tbody>\n",
       "    <tr>\n",
       "      <th>2855</th>\n",
       "      <td>54960619</td>\n",
       "      <td>342</td>\n",
       "      <td>206726775</td>\n",
       "    </tr>\n",
       "    <tr>\n",
       "      <th>2326</th>\n",
       "      <td>49686091</td>\n",
       "      <td>208</td>\n",
       "      <td>8273015</td>\n",
       "    </tr>\n",
       "    <tr>\n",
       "      <th>2093</th>\n",
       "      <td>47662326</td>\n",
       "      <td>205</td>\n",
       "      <td>116291980</td>\n",
       "    </tr>\n",
       "    <tr>\n",
       "      <th>2394</th>\n",
       "      <td>50185392</td>\n",
       "      <td>175</td>\n",
       "      <td>66414378</td>\n",
       "    </tr>\n",
       "    <tr>\n",
       "      <th>61</th>\n",
       "      <td>13920492</td>\n",
       "      <td>171</td>\n",
       "      <td>10074600</td>\n",
       "    </tr>\n",
       "  </tbody>\n",
       "</table>\n",
       "</div>"
      ],
      "text/plain": [
       "       User_id  Total order    Sum GMV\n",
       "2855  54960619          342  206726775\n",
       "2326  49686091          208    8273015\n",
       "2093  47662326          205  116291980\n",
       "2394  50185392          175   66414378\n",
       "61    13920492          171   10074600"
      ]
     },
     "execution_count": 714,
     "metadata": {},
     "output_type": "execute_result"
    }
   ],
   "source": [
    "User.head()"
   ]
  },
  {
   "cell_type": "code",
   "execution_count": 715,
   "metadata": {},
   "outputs": [],
   "source": [
    "total_days = (pd.to_datetime('2022-03-31') - Transaction['DATE'].min()).days\n",
    "\n",
    "Frequency = Transaction.groupby('User_id')['DATE'].apply(lambda x: len(pd.unique(x))).astype(float)\n",
    "\n",
    "Frequency = Frequency / total_days\n",
    "\n",
    "Frequency = Frequency.reset_index()\n",
    "Frequency.rename(columns={'DATE':'Frequency'},inplace=True)\n"
   ]
  },
  {
   "cell_type": "code",
   "execution_count": 716,
   "metadata": {},
   "outputs": [],
   "source": [
    "User=User.merge(Frequency,on='User_id',how='outer')"
   ]
  },
  {
   "cell_type": "code",
   "execution_count": 717,
   "metadata": {},
   "outputs": [
    {
     "data": {
      "text/html": [
       "<div>\n",
       "<style scoped>\n",
       "    .dataframe tbody tr th:only-of-type {\n",
       "        vertical-align: middle;\n",
       "    }\n",
       "\n",
       "    .dataframe tbody tr th {\n",
       "        vertical-align: top;\n",
       "    }\n",
       "\n",
       "    .dataframe thead th {\n",
       "        text-align: right;\n",
       "    }\n",
       "</style>\n",
       "<table border=\"1\" class=\"dataframe\">\n",
       "  <thead>\n",
       "    <tr style=\"text-align: right;\">\n",
       "      <th></th>\n",
       "      <th>User_id</th>\n",
       "      <th>Total order</th>\n",
       "      <th>Sum GMV</th>\n",
       "      <th>Frequency</th>\n",
       "    </tr>\n",
       "  </thead>\n",
       "  <tbody>\n",
       "    <tr>\n",
       "      <th>0</th>\n",
       "      <td>54960619</td>\n",
       "      <td>342</td>\n",
       "      <td>206726775</td>\n",
       "      <td>0.123596</td>\n",
       "    </tr>\n",
       "    <tr>\n",
       "      <th>1</th>\n",
       "      <td>49686091</td>\n",
       "      <td>208</td>\n",
       "      <td>8273015</td>\n",
       "      <td>0.685393</td>\n",
       "    </tr>\n",
       "    <tr>\n",
       "      <th>2</th>\n",
       "      <td>47662326</td>\n",
       "      <td>205</td>\n",
       "      <td>116291980</td>\n",
       "      <td>0.696629</td>\n",
       "    </tr>\n",
       "    <tr>\n",
       "      <th>3</th>\n",
       "      <td>50185392</td>\n",
       "      <td>175</td>\n",
       "      <td>66414378</td>\n",
       "      <td>0.415730</td>\n",
       "    </tr>\n",
       "    <tr>\n",
       "      <th>4</th>\n",
       "      <td>13920492</td>\n",
       "      <td>171</td>\n",
       "      <td>10074600</td>\n",
       "      <td>0.887640</td>\n",
       "    </tr>\n",
       "  </tbody>\n",
       "</table>\n",
       "</div>"
      ],
      "text/plain": [
       "    User_id  Total order    Sum GMV  Frequency\n",
       "0  54960619          342  206726775   0.123596\n",
       "1  49686091          208    8273015   0.685393\n",
       "2  47662326          205  116291980   0.696629\n",
       "3  50185392          175   66414378   0.415730\n",
       "4  13920492          171   10074600   0.887640"
      ]
     },
     "execution_count": 717,
     "metadata": {},
     "output_type": "execute_result"
    }
   ],
   "source": [
    "User.head()"
   ]
  },
  {
   "cell_type": "code",
   "execution_count": 718,
   "metadata": {},
   "outputs": [
    {
     "name": "stdout",
     "output_type": "stream",
     "text": [
      "Tỷ lệ giữ chân người dùng: 50.80%\n"
     ]
    }
   ],
   "source": [
    "retained_users = len(User[User['Total order'] >=3])\n",
    "total_users = len(User)\n",
    "\n",
    "retention_rate = (retained_users / total_users) * 100\n",
    "print(\"Tỷ lệ giữ chân người dùng: {:.2f}%\".format(retention_rate))\n"
   ]
  },
  {
   "attachments": {},
   "cell_type": "markdown",
   "metadata": {},
   "source": [
    "# Part 3\n"
   ]
  },
  {
   "attachments": {},
   "cell_type": "markdown",
   "metadata": {},
   "source": [
    "2,"
   ]
  },
  {
   "cell_type": "code",
   "execution_count": 719,
   "metadata": {},
   "outputs": [
    {
     "data": {
      "text/html": [
       "<div>\n",
       "<style scoped>\n",
       "    .dataframe tbody tr th:only-of-type {\n",
       "        vertical-align: middle;\n",
       "    }\n",
       "\n",
       "    .dataframe tbody tr th {\n",
       "        vertical-align: top;\n",
       "    }\n",
       "\n",
       "    .dataframe thead th {\n",
       "        text-align: right;\n",
       "    }\n",
       "</style>\n",
       "<table border=\"1\" class=\"dataframe\">\n",
       "  <thead>\n",
       "    <tr style=\"text-align: right;\">\n",
       "      <th></th>\n",
       "      <th>User_id</th>\n",
       "      <th>Order_id</th>\n",
       "      <th>DATE</th>\n",
       "      <th>GMV</th>\n",
       "      <th>Service Group</th>\n",
       "      <th>MerchantID</th>\n",
       "      <th>Loyalty Points</th>\n",
       "    </tr>\n",
       "  </thead>\n",
       "  <tbody>\n",
       "    <tr>\n",
       "      <th>0</th>\n",
       "      <td>61386143</td>\n",
       "      <td>8733622706</td>\n",
       "      <td>2021-01-01</td>\n",
       "      <td>100000</td>\n",
       "      <td>marketplace</td>\n",
       "      <td>37</td>\n",
       "      <td>0</td>\n",
       "    </tr>\n",
       "    <tr>\n",
       "      <th>1</th>\n",
       "      <td>48453125</td>\n",
       "      <td>8726857991</td>\n",
       "      <td>2021-01-01</td>\n",
       "      <td>5000</td>\n",
       "      <td>supermarket</td>\n",
       "      <td>9</td>\n",
       "      <td>0</td>\n",
       "    </tr>\n",
       "    <tr>\n",
       "      <th>2</th>\n",
       "      <td>49921027</td>\n",
       "      <td>8737326894</td>\n",
       "      <td>2021-01-01</td>\n",
       "      <td>106600</td>\n",
       "      <td>supermarket</td>\n",
       "      <td>9</td>\n",
       "      <td>0</td>\n",
       "    </tr>\n",
       "    <tr>\n",
       "      <th>3</th>\n",
       "      <td>46022523</td>\n",
       "      <td>8732579078</td>\n",
       "      <td>2021-01-01</td>\n",
       "      <td>270000</td>\n",
       "      <td>supermarket</td>\n",
       "      <td>9</td>\n",
       "      <td>0</td>\n",
       "    </tr>\n",
       "    <tr>\n",
       "      <th>4</th>\n",
       "      <td>44014594</td>\n",
       "      <td>8725567343</td>\n",
       "      <td>2021-01-01</td>\n",
       "      <td>68000</td>\n",
       "      <td>cvs</td>\n",
       "      <td>8</td>\n",
       "      <td>0</td>\n",
       "    </tr>\n",
       "  </tbody>\n",
       "</table>\n",
       "</div>"
      ],
      "text/plain": [
       "    User_id    Order_id       DATE     GMV Service Group MerchantID  \\\n",
       "0  61386143  8733622706 2021-01-01  100000   marketplace         37   \n",
       "1  48453125  8726857991 2021-01-01    5000   supermarket          9   \n",
       "2  49921027  8737326894 2021-01-01  106600   supermarket          9   \n",
       "3  46022523  8732579078 2021-01-01  270000   supermarket          9   \n",
       "4  44014594  8725567343 2021-01-01   68000           cvs          8   \n",
       "\n",
       "   Loyalty Points  \n",
       "0               0  \n",
       "1               0  \n",
       "2               0  \n",
       "3               0  \n",
       "4               0  "
      ]
     },
     "execution_count": 719,
     "metadata": {},
     "output_type": "execute_result"
    }
   ],
   "source": [
    "Transactions_p3=Transactions\n",
    "Transactions_p3.head()"
   ]
  },
  {
   "cell_type": "code",
   "execution_count": 720,
   "metadata": {},
   "outputs": [],
   "source": [
    "start_date = pd.to_datetime('2022-03-01')\n",
    "end_date = pd.to_datetime('2022-03-31')\n",
    "Transaction_p3 = Transactions_p3[(Transactions_p3['DATE'] >= start_date) & (Transactions_p3['DATE'] <= end_date)]\n"
   ]
  },
  {
   "cell_type": "code",
   "execution_count": 721,
   "metadata": {},
   "outputs": [
    {
     "name": "stderr",
     "output_type": "stream",
     "text": [
      "C:\\Users\\ACER\\AppData\\Local\\Temp\\ipykernel_8524\\781931547.py:1: SettingWithCopyWarning: \n",
      "A value is trying to be set on a copy of a slice from a DataFrame\n",
      "\n",
      "See the caveats in the documentation: https://pandas.pydata.org/pandas-docs/stable/user_guide/indexing.html#returning-a-view-versus-a-copy\n",
      "  Transaction_p3.sort_values(['User_id', 'DATE'], inplace=True)\n"
     ]
    }
   ],
   "source": [
    "Transaction_p3.sort_values(['User_id', 'DATE'], inplace=True)"
   ]
  },
  {
   "cell_type": "code",
   "execution_count": 722,
   "metadata": {},
   "outputs": [],
   "source": [
    "total_point=Transaction_p3.groupby('User_id')['Loyalty Points'].sum().reset_index()\n",
    "total_point.rename(columns={'Loyalty Points':'Total points'},inplace=True)"
   ]
  },
  {
   "cell_type": "code",
   "execution_count": 723,
   "metadata": {},
   "outputs": [
    {
     "data": {
      "text/html": [
       "<div>\n",
       "<style scoped>\n",
       "    .dataframe tbody tr th:only-of-type {\n",
       "        vertical-align: middle;\n",
       "    }\n",
       "\n",
       "    .dataframe tbody tr th {\n",
       "        vertical-align: top;\n",
       "    }\n",
       "\n",
       "    .dataframe thead th {\n",
       "        text-align: right;\n",
       "    }\n",
       "</style>\n",
       "<table border=\"1\" class=\"dataframe\">\n",
       "  <thead>\n",
       "    <tr style=\"text-align: right;\">\n",
       "      <th></th>\n",
       "      <th>User_id</th>\n",
       "      <th>Total points</th>\n",
       "    </tr>\n",
       "  </thead>\n",
       "  <tbody>\n",
       "    <tr>\n",
       "      <th>0</th>\n",
       "      <td>10056218</td>\n",
       "      <td>880</td>\n",
       "    </tr>\n",
       "    <tr>\n",
       "      <th>1</th>\n",
       "      <td>10156282</td>\n",
       "      <td>100</td>\n",
       "    </tr>\n",
       "    <tr>\n",
       "      <th>2</th>\n",
       "      <td>10184635</td>\n",
       "      <td>4000</td>\n",
       "    </tr>\n",
       "    <tr>\n",
       "      <th>3</th>\n",
       "      <td>1018832</td>\n",
       "      <td>2130</td>\n",
       "    </tr>\n",
       "    <tr>\n",
       "      <th>4</th>\n",
       "      <td>10247812</td>\n",
       "      <td>150</td>\n",
       "    </tr>\n",
       "  </tbody>\n",
       "</table>\n",
       "</div>"
      ],
      "text/plain": [
       "    User_id  Total points\n",
       "0  10056218           880\n",
       "1  10156282           100\n",
       "2  10184635          4000\n",
       "3   1018832          2130\n",
       "4  10247812           150"
      ]
     },
     "execution_count": 723,
     "metadata": {},
     "output_type": "execute_result"
    }
   ],
   "source": [
    "total_point.head()"
   ]
  },
  {
   "cell_type": "code",
   "execution_count": 724,
   "metadata": {},
   "outputs": [],
   "source": [
    "#c1\n",
    "name = None\n",
    "date = None\n",
    "count = 1\n",
    "results = []\n",
    "\n",
    "def calculate_count(row):\n",
    "    global name, date, count\n",
    "    if row['User_id'] != name:\n",
    "        if name is not None:\n",
    "            results.append({'User_id': name, 'Total days': count})\n",
    "        name = row['User_id']\n",
    "        date = row['DATE']\n",
    "        count = 1\n",
    "    else:\n",
    "        if (row['DATE'] - date).days == 1:\n",
    "            count += 1\n",
    "    date = row['DATE']\n",
    "\n",
    "Transaction_p3.apply(calculate_count, axis=1)\n",
    "\n",
    "if name is not None:\n",
    "    results.append({'User_id': name, 'Total days': count})\n",
    "\n",
    "total_day = pd.DataFrame(results)\n"
   ]
  },
  {
   "cell_type": "code",
   "execution_count": 725,
   "metadata": {},
   "outputs": [
    {
     "data": {
      "text/html": [
       "<div>\n",
       "<style scoped>\n",
       "    .dataframe tbody tr th:only-of-type {\n",
       "        vertical-align: middle;\n",
       "    }\n",
       "\n",
       "    .dataframe tbody tr th {\n",
       "        vertical-align: top;\n",
       "    }\n",
       "\n",
       "    .dataframe thead th {\n",
       "        text-align: right;\n",
       "    }\n",
       "</style>\n",
       "<table border=\"1\" class=\"dataframe\">\n",
       "  <thead>\n",
       "    <tr style=\"text-align: right;\">\n",
       "      <th></th>\n",
       "      <th>User_id</th>\n",
       "      <th>Total days</th>\n",
       "    </tr>\n",
       "  </thead>\n",
       "  <tbody>\n",
       "    <tr>\n",
       "      <th>1725</th>\n",
       "      <td>55573444</td>\n",
       "      <td>31</td>\n",
       "    </tr>\n",
       "    <tr>\n",
       "      <th>455</th>\n",
       "      <td>36884902</td>\n",
       "      <td>29</td>\n",
       "    </tr>\n",
       "    <tr>\n",
       "      <th>33</th>\n",
       "      <td>13920492</td>\n",
       "      <td>25</td>\n",
       "    </tr>\n",
       "    <tr>\n",
       "      <th>41</th>\n",
       "      <td>14725339</td>\n",
       "      <td>23</td>\n",
       "    </tr>\n",
       "    <tr>\n",
       "      <th>354</th>\n",
       "      <td>34248817</td>\n",
       "      <td>21</td>\n",
       "    </tr>\n",
       "  </tbody>\n",
       "</table>\n",
       "</div>"
      ],
      "text/plain": [
       "       User_id  Total days\n",
       "1725  55573444          31\n",
       "455   36884902          29\n",
       "33    13920492          25\n",
       "41    14725339          23\n",
       "354   34248817          21"
      ]
     },
     "execution_count": 725,
     "metadata": {},
     "output_type": "execute_result"
    }
   ],
   "source": [
    "total_day.sort_values('Total days',ascending=False,inplace=True)\n",
    "total_day.head()"
   ]
  },
  {
   "cell_type": "code",
   "execution_count": 726,
   "metadata": {},
   "outputs": [
    {
     "data": {
      "text/html": [
       "<div>\n",
       "<style scoped>\n",
       "    .dataframe tbody tr th:only-of-type {\n",
       "        vertical-align: middle;\n",
       "    }\n",
       "\n",
       "    .dataframe tbody tr th {\n",
       "        vertical-align: top;\n",
       "    }\n",
       "\n",
       "    .dataframe thead th {\n",
       "        text-align: right;\n",
       "    }\n",
       "</style>\n",
       "<table border=\"1\" class=\"dataframe\">\n",
       "  <thead>\n",
       "    <tr style=\"text-align: right;\">\n",
       "      <th></th>\n",
       "      <th>User_id</th>\n",
       "      <th>Total days</th>\n",
       "      <th>Total points</th>\n",
       "    </tr>\n",
       "  </thead>\n",
       "  <tbody>\n",
       "    <tr>\n",
       "      <th>0</th>\n",
       "      <td>55573444</td>\n",
       "      <td>31</td>\n",
       "      <td>657</td>\n",
       "    </tr>\n",
       "    <tr>\n",
       "      <th>1</th>\n",
       "      <td>36884902</td>\n",
       "      <td>29</td>\n",
       "      <td>4908</td>\n",
       "    </tr>\n",
       "    <tr>\n",
       "      <th>2</th>\n",
       "      <td>13920492</td>\n",
       "      <td>25</td>\n",
       "      <td>2755</td>\n",
       "    </tr>\n",
       "    <tr>\n",
       "      <th>3</th>\n",
       "      <td>14725339</td>\n",
       "      <td>23</td>\n",
       "      <td>638</td>\n",
       "    </tr>\n",
       "    <tr>\n",
       "      <th>4</th>\n",
       "      <td>34248817</td>\n",
       "      <td>21</td>\n",
       "      <td>50</td>\n",
       "    </tr>\n",
       "  </tbody>\n",
       "</table>\n",
       "</div>"
      ],
      "text/plain": [
       "    User_id  Total days  Total points\n",
       "0  55573444          31           657\n",
       "1  36884902          29          4908\n",
       "2  13920492          25          2755\n",
       "3  14725339          23           638\n",
       "4  34248817          21            50"
      ]
     },
     "execution_count": 726,
     "metadata": {},
     "output_type": "execute_result"
    }
   ],
   "source": [
    "user=total_day.merge(total_point,on='User_id',how='outer')\n",
    "user.head()"
   ]
  },
  {
   "cell_type": "code",
   "execution_count": 727,
   "metadata": {},
   "outputs": [
    {
     "data": {
      "text/html": [
       "<div>\n",
       "<style scoped>\n",
       "    .dataframe tbody tr th:only-of-type {\n",
       "        vertical-align: middle;\n",
       "    }\n",
       "\n",
       "    .dataframe tbody tr th {\n",
       "        vertical-align: top;\n",
       "    }\n",
       "\n",
       "    .dataframe thead th {\n",
       "        text-align: right;\n",
       "    }\n",
       "</style>\n",
       "<table border=\"1\" class=\"dataframe\">\n",
       "  <thead>\n",
       "    <tr style=\"text-align: right;\">\n",
       "      <th></th>\n",
       "      <th>User_id</th>\n",
       "      <th>Total days</th>\n",
       "      <th>Total points</th>\n",
       "    </tr>\n",
       "  </thead>\n",
       "  <tbody>\n",
       "    <tr>\n",
       "      <th>1</th>\n",
       "      <td>36884902</td>\n",
       "      <td>29</td>\n",
       "      <td>4908</td>\n",
       "    </tr>\n",
       "  </tbody>\n",
       "</table>\n",
       "</div>"
      ],
      "text/plain": [
       "    User_id  Total days  Total points\n",
       "1  36884902          29          4908"
      ]
     },
     "execution_count": 727,
     "metadata": {},
     "output_type": "execute_result"
    }
   ],
   "source": [
    "user_win=user[(user['Total points']>=4000) & (user['Total days']>=20)]\n",
    "user_win"
   ]
  },
  {
   "cell_type": "code",
   "execution_count": 728,
   "metadata": {},
   "outputs": [
    {
     "name": "stdout",
     "output_type": "stream",
     "text": [
      "Có 1 người chiến thắng trong ba mươi ngày qua theo dữ liệu đã cho\n"
     ]
    }
   ],
   "source": [
    "print('Có {} người chiến thắng trong ba mươi ngày qua theo dữ liệu đã cho'.format(len(user_win)))"
   ]
  },
  {
   "cell_type": "code",
   "execution_count": 729,
   "metadata": {},
   "outputs": [
    {
     "name": "stdout",
     "output_type": "stream",
     "text": [
      "(Những) người có kỷ lục dài nhất trong thời gian đó :36884902 "
     ]
    }
   ],
   "source": [
    "def user_max(row):\n",
    "    max=row['Total days'].max()\n",
    "    print('(Những) người có kỷ lục dài nhất trong thời gian đó :',end='')\n",
    "    for index,row in row.iterrows():\n",
    "        if row['Total days']==max:\n",
    "            print(row['User_id'],end=' ')\n",
    "user_max(user_win)"
   ]
  },
  {
   "cell_type": "code",
   "execution_count": 730,
   "metadata": {},
   "outputs": [],
   "source": [
    "# c2\n",
    "name=None\n",
    "date=None\n",
    "count=1\n",
    "\n",
    "def caculate_days(row):\n",
    "    global name, date, count\n",
    "    result = (None, 0)\n",
    "    if row['User_id'] !=name:\n",
    "        result=(row['User_id'],count)     \n",
    "        name=row['User_id']\n",
    "        date=row['DATE']\n",
    "        count=1\n",
    "    else:\n",
    "        if (row['DATE']-date).days==1:\n",
    "                count+=1\n",
    "    date=row['DATE']\n",
    "    return result\n",
    "length_days=Transaction_p3[['User_id','DATE']].apply(caculate_days,axis=1,result_type='expand')\n",
    "length_days.columns = ['User_id', 'Total days']\n",
    "length_days['Total days'] = length_days['Total days'].astype(int)\n",
    "length_date = length_days.groupby('User_id')['Total days'].sum().reset_index()\n"
   ]
  },
  {
   "cell_type": "code",
   "execution_count": 731,
   "metadata": {},
   "outputs": [
    {
     "data": {
      "text/html": [
       "<div>\n",
       "<style scoped>\n",
       "    .dataframe tbody tr th:only-of-type {\n",
       "        vertical-align: middle;\n",
       "    }\n",
       "\n",
       "    .dataframe tbody tr th {\n",
       "        vertical-align: top;\n",
       "    }\n",
       "\n",
       "    .dataframe thead th {\n",
       "        text-align: right;\n",
       "    }\n",
       "</style>\n",
       "<table border=\"1\" class=\"dataframe\">\n",
       "  <thead>\n",
       "    <tr style=\"text-align: right;\">\n",
       "      <th></th>\n",
       "      <th>User_id</th>\n",
       "      <th>Total days</th>\n",
       "    </tr>\n",
       "  </thead>\n",
       "  <tbody>\n",
       "    <tr>\n",
       "      <th>0</th>\n",
       "      <td>10056218</td>\n",
       "      <td>1</td>\n",
       "    </tr>\n",
       "    <tr>\n",
       "      <th>1</th>\n",
       "      <td>10156282</td>\n",
       "      <td>1</td>\n",
       "    </tr>\n",
       "    <tr>\n",
       "      <th>2</th>\n",
       "      <td>10184635</td>\n",
       "      <td>1</td>\n",
       "    </tr>\n",
       "    <tr>\n",
       "      <th>3</th>\n",
       "      <td>1018832</td>\n",
       "      <td>4</td>\n",
       "    </tr>\n",
       "    <tr>\n",
       "      <th>4</th>\n",
       "      <td>10247812</td>\n",
       "      <td>1</td>\n",
       "    </tr>\n",
       "  </tbody>\n",
       "</table>\n",
       "</div>"
      ],
      "text/plain": [
       "    User_id  Total days\n",
       "0  10056218           1\n",
       "1  10156282           1\n",
       "2  10184635           1\n",
       "3   1018832           4\n",
       "4  10247812           1"
      ]
     },
     "execution_count": 731,
     "metadata": {},
     "output_type": "execute_result"
    }
   ],
   "source": [
    "length_date.head()"
   ]
  },
  {
   "attachments": {},
   "cell_type": "markdown",
   "metadata": {},
   "source": [
    "# 20 ngày không liên tiếp "
   ]
  },
  {
   "cell_type": "code",
   "execution_count": 732,
   "metadata": {},
   "outputs": [],
   "source": [
    "total_date=Transaction_p3.groupby('User_id')['DATE'].nunique().reset_index()        # đêm số ngày giao dịch k liên tiếp \n",
    "total_date.rename(columns={'DATE':'Total days'},inplace=True)"
   ]
  },
  {
   "cell_type": "code",
   "execution_count": 733,
   "metadata": {},
   "outputs": [
    {
     "data": {
      "text/html": [
       "<div>\n",
       "<style scoped>\n",
       "    .dataframe tbody tr th:only-of-type {\n",
       "        vertical-align: middle;\n",
       "    }\n",
       "\n",
       "    .dataframe tbody tr th {\n",
       "        vertical-align: top;\n",
       "    }\n",
       "\n",
       "    .dataframe thead th {\n",
       "        text-align: right;\n",
       "    }\n",
       "</style>\n",
       "<table border=\"1\" class=\"dataframe\">\n",
       "  <thead>\n",
       "    <tr style=\"text-align: right;\">\n",
       "      <th></th>\n",
       "      <th>User_id</th>\n",
       "      <th>Total days</th>\n",
       "    </tr>\n",
       "  </thead>\n",
       "  <tbody>\n",
       "    <tr>\n",
       "      <th>1725</th>\n",
       "      <td>55573444</td>\n",
       "      <td>31</td>\n",
       "    </tr>\n",
       "    <tr>\n",
       "      <th>455</th>\n",
       "      <td>36884902</td>\n",
       "      <td>30</td>\n",
       "    </tr>\n",
       "    <tr>\n",
       "      <th>33</th>\n",
       "      <td>13920492</td>\n",
       "      <td>28</td>\n",
       "    </tr>\n",
       "    <tr>\n",
       "      <th>41</th>\n",
       "      <td>14725339</td>\n",
       "      <td>27</td>\n",
       "    </tr>\n",
       "    <tr>\n",
       "      <th>354</th>\n",
       "      <td>34248817</td>\n",
       "      <td>26</td>\n",
       "    </tr>\n",
       "  </tbody>\n",
       "</table>\n",
       "</div>"
      ],
      "text/plain": [
       "       User_id  Total days\n",
       "1725  55573444          31\n",
       "455   36884902          30\n",
       "33    13920492          28\n",
       "41    14725339          27\n",
       "354   34248817          26"
      ]
     },
     "execution_count": 733,
     "metadata": {},
     "output_type": "execute_result"
    }
   ],
   "source": [
    "total_date.sort_values('Total days',ascending=False,inplace=True)\n",
    "total_date.head()"
   ]
  },
  {
   "cell_type": "code",
   "execution_count": 734,
   "metadata": {},
   "outputs": [
    {
     "data": {
      "text/html": [
       "<div>\n",
       "<style scoped>\n",
       "    .dataframe tbody tr th:only-of-type {\n",
       "        vertical-align: middle;\n",
       "    }\n",
       "\n",
       "    .dataframe tbody tr th {\n",
       "        vertical-align: top;\n",
       "    }\n",
       "\n",
       "    .dataframe thead th {\n",
       "        text-align: right;\n",
       "    }\n",
       "</style>\n",
       "<table border=\"1\" class=\"dataframe\">\n",
       "  <thead>\n",
       "    <tr style=\"text-align: right;\">\n",
       "      <th></th>\n",
       "      <th>User_id</th>\n",
       "      <th>Total days</th>\n",
       "      <th>Total points</th>\n",
       "    </tr>\n",
       "  </thead>\n",
       "  <tbody>\n",
       "    <tr>\n",
       "      <th>0</th>\n",
       "      <td>55573444</td>\n",
       "      <td>31</td>\n",
       "      <td>657</td>\n",
       "    </tr>\n",
       "    <tr>\n",
       "      <th>1</th>\n",
       "      <td>36884902</td>\n",
       "      <td>30</td>\n",
       "      <td>4908</td>\n",
       "    </tr>\n",
       "    <tr>\n",
       "      <th>2</th>\n",
       "      <td>13920492</td>\n",
       "      <td>28</td>\n",
       "      <td>2755</td>\n",
       "    </tr>\n",
       "    <tr>\n",
       "      <th>3</th>\n",
       "      <td>14725339</td>\n",
       "      <td>27</td>\n",
       "      <td>638</td>\n",
       "    </tr>\n",
       "    <tr>\n",
       "      <th>4</th>\n",
       "      <td>34248817</td>\n",
       "      <td>26</td>\n",
       "      <td>50</td>\n",
       "    </tr>\n",
       "  </tbody>\n",
       "</table>\n",
       "</div>"
      ],
      "text/plain": [
       "    User_id  Total days  Total points\n",
       "0  55573444          31           657\n",
       "1  36884902          30          4908\n",
       "2  13920492          28          2755\n",
       "3  14725339          27           638\n",
       "4  34248817          26            50"
      ]
     },
     "execution_count": 734,
     "metadata": {},
     "output_type": "execute_result"
    }
   ],
   "source": [
    "user=total_date.merge(total_point,on='User_id',how='outer')\n",
    "user.head()"
   ]
  },
  {
   "cell_type": "code",
   "execution_count": 735,
   "metadata": {},
   "outputs": [
    {
     "name": "stdout",
     "output_type": "stream",
     "text": [
      "Có 2 người chiến thắng trong ba mươi ngày qua theo dữ liệu đã cho\n"
     ]
    },
    {
     "data": {
      "text/html": [
       "<div>\n",
       "<style scoped>\n",
       "    .dataframe tbody tr th:only-of-type {\n",
       "        vertical-align: middle;\n",
       "    }\n",
       "\n",
       "    .dataframe tbody tr th {\n",
       "        vertical-align: top;\n",
       "    }\n",
       "\n",
       "    .dataframe thead th {\n",
       "        text-align: right;\n",
       "    }\n",
       "</style>\n",
       "<table border=\"1\" class=\"dataframe\">\n",
       "  <thead>\n",
       "    <tr style=\"text-align: right;\">\n",
       "      <th></th>\n",
       "      <th>User_id</th>\n",
       "      <th>Total days</th>\n",
       "      <th>Total points</th>\n",
       "    </tr>\n",
       "  </thead>\n",
       "  <tbody>\n",
       "    <tr>\n",
       "      <th>5</th>\n",
       "      <td>47662326</td>\n",
       "      <td>24</td>\n",
       "      <td>40090</td>\n",
       "    </tr>\n",
       "    <tr>\n",
       "      <th>6</th>\n",
       "      <td>49689927</td>\n",
       "      <td>24</td>\n",
       "      <td>9100</td>\n",
       "    </tr>\n",
       "  </tbody>\n",
       "</table>\n",
       "</div>"
      ],
      "text/plain": [
       "    User_id  Total days  Total points\n",
       "5  47662326          24         40090\n",
       "6  49689927          24          9100"
      ]
     },
     "execution_count": 735,
     "metadata": {},
     "output_type": "execute_result"
    }
   ],
   "source": [
    "USER=user[(user['Total points']>=5000) & (user['Total days']>=20)]\n",
    "print('Có {} người chiến thắng trong ba mươi ngày qua theo dữ liệu đã cho'.format(len(USER)))\n",
    "USER"
   ]
  },
  {
   "cell_type": "code",
   "execution_count": 736,
   "metadata": {},
   "outputs": [
    {
     "name": "stdout",
     "output_type": "stream",
     "text": [
      "(Những) người có kỷ lục dài nhất trong thời gian đó :47662326,49689927,"
     ]
    }
   ],
   "source": [
    "\n",
    "def user_max(row):\n",
    "    max=row['Total days'].max()\n",
    "    print('(Những) người có kỷ lục dài nhất trong thời gian đó :',end='')\n",
    "    for index,row in row.iterrows():\n",
    "        if row['Total days']==max:\n",
    "            print(row['User_id'],end=',')\n",
    "user_max(USER)\n",
    "        "
   ]
  },
  {
   "attachments": {},
   "cell_type": "markdown",
   "metadata": {},
   "source": [
    "# Plot"
   ]
  },
  {
   "cell_type": "code",
   "execution_count": 737,
   "metadata": {},
   "outputs": [],
   "source": [
    "sns.set_theme() "
   ]
  },
  {
   "cell_type": "code",
   "execution_count": 738,
   "metadata": {},
   "outputs": [
    {
     "name": "stderr",
     "output_type": "stream",
     "text": [
      "C:\\Users\\ACER\\AppData\\Local\\Temp\\ipykernel_8524\\626569146.py:1: SettingWithCopyWarning: \n",
      "A value is trying to be set on a copy of a slice from a DataFrame.\n",
      "Try using .loc[row_indexer,col_indexer] = value instead\n",
      "\n",
      "See the caveats in the documentation: https://pandas.pydata.org/pandas-docs/stable/user_guide/indexing.html#returning-a-view-versus-a-copy\n",
      "  Transaction_p3['DATE'] = Transaction_p3['DATE'].dt.strftime('%d-%m')\n"
     ]
    }
   ],
   "source": [
    "Transaction_p3['DATE'] = Transaction_p3['DATE'].dt.strftime('%d-%m')  "
   ]
  },
  {
   "cell_type": "code",
   "execution_count": 739,
   "metadata": {},
   "outputs": [
    {
     "data": {
      "image/png": "[encoded data removed]",
      "text/plain": [
       "<Figure size 800x500 with 1 Axes>"
      ]
     },
     "metadata": {},
     "output_type": "display_data"
    }
   ],
   "source": [
    "# Transaction_p3=Transaction_p3.groupby('DATE')['User_id'].count().reset_index()\n",
    "# fig, ax = plt.subplots(figsize=(8, 5))\n",
    "# plt.plot(Transaction_p3['DATE'],Transaction_p3['User_id'])\n",
    "# ax.set(xlabel='Day-Month', ylabel='Total transaction', title='Total transaction by day');\n",
    "\n",
    "fig, ax = plt.subplots(figsize=(8, 5))\n",
    "Transaction_p3['DATE'].value_counts().sort_index().plot(kind='line',ax=ax)\n",
    "ax.set(xlabel='Day-Month', ylabel='Total transaction', title='Total transaction by day');"
   ]
  },
  {
   "cell_type": "code",
   "execution_count": 740,
   "metadata": {},
   "outputs": [
    {
     "data": {
      "image/png": "[encoded data removed]",
      "text/plain": [
       "<Figure size 800x500 with 1 Axes>"
      ]
     },
     "metadata": {},
     "output_type": "display_data"
    }
   ],
   "source": [
    "fig,ax=plt.subplots(figsize=(8,5))\n",
    "sns.countplot(data=Loyalty_Ranking,x='Rank_name')\n",
    "ax.set(title=\"Distribute\");"
   ]
  },
  {
   "cell_type": "code",
   "execution_count": 741,
   "metadata": {},
   "outputs": [
    {
     "data": {
      "image/png": "[encoded data removed]",
      "text/plain": [
       "<Figure size 800x500 with 1 Axes>"
      ]
     },
     "metadata": {},
     "output_type": "display_data"
    }
   ],
   "source": [
    "fig, ax = plt.subplots(figsize=(8,5))\n",
    "ax=sns.histplot(data=Loyalty_Ranking, x=Loyalty_Ranking['Calculated_points'], kde=True, color='#5f9ea0')\n",
    "ax.axvline(np.percentile(Loyalty_Ranking['Calculated_points'], 25), color=\"blue\", linestyle=\"--\")\n",
    "ax.axvline(np.percentile(Loyalty_Ranking['Calculated_points'], 50), color=\"blue\", linestyle=\"--\")\n",
    "ax.axvline(np.percentile(Loyalty_Ranking['Calculated_points'], 75), color=\"blue\", linestyle=\"--\")\n",
    "plt.xlim(0, 5000)\n",
    "\n",
    "# vẽ các đường lưới ngang trên trục y của đồ thị.\n",
    "ax.yaxis.grid(color='gray', linestyle='dashed')\n",
    "# bỏ đường kẻ ở trên và bên phải chart\n",
    "spines = ['top', 'right']\n",
    "for s in spines:\n",
    "    ax.spines[s].set_visible(False) \n",
    "    \n",
    "# bỏ dấu tích ở  trục y\n",
    "ax.tick_params(left=False) \n",
    "\n",
    "plt.suptitle('Distribution of Point', fontweight='bold', size=14, horizontalalignment='center')\n",
    "plt.show();"
   ]
  },
  {
   "cell_type": "code",
   "execution_count": 742,
   "metadata": {},
   "outputs": [
    {
     "data": {
      "text/plain": [
       "count     1952.000000\n",
       "mean       728.445697\n",
       "std       1755.278325\n",
       "min          1.000000\n",
       "25%        108.000000\n",
       "50%        337.000000\n",
       "75%        900.000000\n",
       "max      42600.000000\n",
       "Name: Calculated_points, dtype: float64"
      ]
     },
     "execution_count": 742,
     "metadata": {},
     "output_type": "execute_result"
    }
   ],
   "source": [
    "Loyalty_Ranking['Calculated_points'].describe()"
   ]
  },
  {
   "cell_type": "code",
   "execution_count": 743,
   "metadata": {},
   "outputs": [
    {
     "data": {
      "image/png": "[encoded data removed]",
      "text/plain": [
       "<Figure size 640x480 with 1 Axes>"
      ]
     },
     "metadata": {},
     "output_type": "display_data"
    }
   ],
   "source": [
    "sns.boxplot(y=Loyalty_Ranking['Calculated_points']);"
   ]
  }
 ],
 "metadata": {
  "kernelspec": {
   "display_name": "base",
   "language": "python",
   "name": "python3"
  },
  "language_info": {
   "codemirror_mode": {
    "name": "ipython",
    "version": 3
   },
   "file_extension": ".py",
   "mimetype": "text/x-python",
   "name": "python",
   "nbconvert_exporter": "python",
   "pygments_lexer": "ipython3",
   "version": "3.10.9"
  },
  "orig_nbformat": 4
 },
 "nbformat": 4,
 "nbformat_minor": 2
}

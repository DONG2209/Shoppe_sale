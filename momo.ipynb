{
 "cells": [
  {
   "cell_type": "code",
   "execution_count": 1,
   "metadata": {},
   "outputs": [],
   "source": [
    "import numpy as np\n",
    "import pandas as pd\n",
    "import matplotlib.pyplot as plt\n",
    "import seaborn as sns\n",
    "import datetime"
   ]
  },
  {
   "cell_type": "code",
   "execution_count": 2,
   "metadata": {},
   "outputs": [],
   "source": [
    "Transactions=pd.read_excel('2022 Case challenge_ DA update.xlsx',sheet_name='Data. Transactions')"
   ]
  },
  {
   "cell_type": "code",
   "execution_count": 3,
   "metadata": {},
   "outputs": [],
   "source": [
    "Transactions=Transactions[['User_id','Order_id','DATE','GMV','Service Group','MerchantID']]\n"
   ]
  },
  {
   "cell_type": "code",
   "execution_count": 4,
   "metadata": {},
   "outputs": [],
   "source": [
    "Transactions['User_id']=Transactions['User_id'].astype(str)\n",
    "Transactions['Order_id']=Transactions['Order_id'].astype(str)\n",
    "Transactions['MerchantID']=Transactions['MerchantID'].astype(str)"
   ]
  },
  {
   "cell_type": "code",
   "execution_count": 5,
   "metadata": {},
   "outputs": [
    {
     "data": {
      "text/html": [
       "<div>\n",
       "<style scoped>\n",
       "    .dataframe tbody tr th:only-of-type {\n",
       "        vertical-align: middle;\n",
       "    }\n",
       "\n",
       "    .dataframe tbody tr th {\n",
       "        vertical-align: top;\n",
       "    }\n",
       "\n",
       "    .dataframe thead th {\n",
       "        text-align: right;\n",
       "    }\n",
       "</style>\n",
       "<table border=\"1\" class=\"dataframe\">\n",
       "  <thead>\n",
       "    <tr style=\"text-align: right;\">\n",
       "      <th></th>\n",
       "      <th>User_id</th>\n",
       "      <th>Order_id</th>\n",
       "      <th>DATE</th>\n",
       "      <th>GMV</th>\n",
       "      <th>Service Group</th>\n",
       "      <th>MerchantID</th>\n",
       "    </tr>\n",
       "  </thead>\n",
       "  <tbody>\n",
       "    <tr>\n",
       "      <th>0</th>\n",
       "      <td>61386143</td>\n",
       "      <td>8733622706</td>\n",
       "      <td>2021-01-01</td>\n",
       "      <td>100000</td>\n",
       "      <td>marketplace</td>\n",
       "      <td>37</td>\n",
       "    </tr>\n",
       "    <tr>\n",
       "      <th>1</th>\n",
       "      <td>48453125</td>\n",
       "      <td>8726857991</td>\n",
       "      <td>2021-01-01</td>\n",
       "      <td>5000</td>\n",
       "      <td>supermarket</td>\n",
       "      <td>9</td>\n",
       "    </tr>\n",
       "    <tr>\n",
       "      <th>2</th>\n",
       "      <td>49921027</td>\n",
       "      <td>8737326894</td>\n",
       "      <td>2021-01-01</td>\n",
       "      <td>106600</td>\n",
       "      <td>supermarket</td>\n",
       "      <td>9</td>\n",
       "    </tr>\n",
       "    <tr>\n",
       "      <th>3</th>\n",
       "      <td>46022523</td>\n",
       "      <td>8732579078</td>\n",
       "      <td>2021-01-01</td>\n",
       "      <td>270000</td>\n",
       "      <td>supermarket</td>\n",
       "      <td>9</td>\n",
       "    </tr>\n",
       "    <tr>\n",
       "      <th>4</th>\n",
       "      <td>44014594</td>\n",
       "      <td>8725567343</td>\n",
       "      <td>2021-01-01</td>\n",
       "      <td>68000</td>\n",
       "      <td>cvs</td>\n",
       "      <td>8</td>\n",
       "    </tr>\n",
       "  </tbody>\n",
       "</table>\n",
       "</div>"
      ],
      "text/plain": [
       "    User_id    Order_id       DATE     GMV Service Group MerchantID\n",
       "0  61386143  8733622706 2021-01-01  100000   marketplace         37\n",
       "1  48453125  8726857991 2021-01-01    5000   supermarket          9\n",
       "2  49921027  8737326894 2021-01-01  106600   supermarket          9\n",
       "3  46022523  8732579078 2021-01-01  270000   supermarket          9\n",
       "4  44014594  8725567343 2021-01-01   68000           cvs          8"
      ]
     },
     "execution_count": 5,
     "metadata": {},
     "output_type": "execute_result"
    }
   ],
   "source": [
    "Transactions.head()"
   ]
  },
  {
   "cell_type": "code",
   "execution_count": 6,
   "metadata": {},
   "outputs": [
    {
     "name": "stdout",
     "output_type": "stream",
     "text": [
      "Tổng tiền :7,561,407,694 VND\n"
     ]
    }
   ],
   "source": [
    "Total_GMV=Transactions['GMV'].sum()\n",
    "print('Tổng tiền :{:,.0f}'.format(Total_GMV)+' VND')\n"
   ]
  },
  {
   "cell_type": "code",
   "execution_count": 7,
   "metadata": {},
   "outputs": [],
   "source": [
    "Loyalty_Points=pd.read_excel('2022 Case challenge_ DA update.xlsx',sheet_name='Data. Loyalty Points')"
   ]
  },
  {
   "cell_type": "code",
   "execution_count": 8,
   "metadata": {},
   "outputs": [
    {
     "data": {
      "text/html": [
       "<div>\n",
       "<style scoped>\n",
       "    .dataframe tbody tr th:only-of-type {\n",
       "        vertical-align: middle;\n",
       "    }\n",
       "\n",
       "    .dataframe tbody tr th {\n",
       "        vertical-align: top;\n",
       "    }\n",
       "\n",
       "    .dataframe thead th {\n",
       "        text-align: right;\n",
       "    }\n",
       "</style>\n",
       "<table border=\"1\" class=\"dataframe\">\n",
       "  <thead>\n",
       "    <tr style=\"text-align: right;\">\n",
       "      <th></th>\n",
       "      <th>Service Group</th>\n",
       "      <th>Point Mechanism</th>\n",
       "      <th>Maximum Point Per Trans</th>\n",
       "    </tr>\n",
       "  </thead>\n",
       "  <tbody>\n",
       "    <tr>\n",
       "      <th>0</th>\n",
       "      <td>supermarket</td>\n",
       "      <td>1 points/1000VND GMV</td>\n",
       "      <td>500 points</td>\n",
       "    </tr>\n",
       "    <tr>\n",
       "      <th>1</th>\n",
       "      <td>data</td>\n",
       "      <td>10 points/1000VND GMV</td>\n",
       "      <td>1000 points</td>\n",
       "    </tr>\n",
       "    <tr>\n",
       "      <th>2</th>\n",
       "      <td>cvs</td>\n",
       "      <td>1 points/1000VND GMV</td>\n",
       "      <td>300 points</td>\n",
       "    </tr>\n",
       "    <tr>\n",
       "      <th>3</th>\n",
       "      <td>marketplace</td>\n",
       "      <td>1 points/1000VND GMV</td>\n",
       "      <td>500 points</td>\n",
       "    </tr>\n",
       "    <tr>\n",
       "      <th>4</th>\n",
       "      <td>Coffee chains and Milk tea</td>\n",
       "      <td>1 points/1000VND GMV</td>\n",
       "      <td>500 points</td>\n",
       "    </tr>\n",
       "    <tr>\n",
       "      <th>5</th>\n",
       "      <td>Offline Beverage</td>\n",
       "      <td>1 points/1000VND GMV</td>\n",
       "      <td>300 points</td>\n",
       "    </tr>\n",
       "  </tbody>\n",
       "</table>\n",
       "</div>"
      ],
      "text/plain": [
       "                Service Group        Point Mechanism Maximum Point Per Trans\n",
       "0                 supermarket   1 points/1000VND GMV              500 points\n",
       "1                        data  10 points/1000VND GMV             1000 points\n",
       "2                         cvs   1 points/1000VND GMV              300 points\n",
       "3                 marketplace   1 points/1000VND GMV              500 points\n",
       "4  Coffee chains and Milk tea   1 points/1000VND GMV              500 points\n",
       "5            Offline Beverage   1 points/1000VND GMV              300 points"
      ]
     },
     "execution_count": 8,
     "metadata": {},
     "output_type": "execute_result"
    }
   ],
   "source": [
    "Loyalty_Points"
   ]
  },
  {
   "cell_type": "code",
   "execution_count": 9,
   "metadata": {},
   "outputs": [],
   "source": [
    "Loyalty_Benefits=pd.read_excel('2022 Case challenge_ DA update.xlsx',sheet_name='Data. Loyalty benefits')"
   ]
  },
  {
   "cell_type": "code",
   "execution_count": 10,
   "metadata": {},
   "outputs": [
    {
     "data": {
      "text/html": [
       "<div>\n",
       "<style scoped>\n",
       "    .dataframe tbody tr th:only-of-type {\n",
       "        vertical-align: middle;\n",
       "    }\n",
       "\n",
       "    .dataframe tbody tr th {\n",
       "        vertical-align: top;\n",
       "    }\n",
       "\n",
       "    .dataframe thead th {\n",
       "        text-align: right;\n",
       "    }\n",
       "</style>\n",
       "<table border=\"1\" class=\"dataframe\">\n",
       "  <thead>\n",
       "    <tr style=\"text-align: right;\">\n",
       "      <th></th>\n",
       "      <th>Class ID</th>\n",
       "      <th>Group</th>\n",
       "      <th>%cashback</th>\n",
       "    </tr>\n",
       "  </thead>\n",
       "  <tbody>\n",
       "    <tr>\n",
       "      <th>0</th>\n",
       "      <td>2</td>\n",
       "      <td>cvs</td>\n",
       "      <td>5</td>\n",
       "    </tr>\n",
       "    <tr>\n",
       "      <th>1</th>\n",
       "      <td>2</td>\n",
       "      <td>Offline Beverage</td>\n",
       "      <td>5</td>\n",
       "    </tr>\n",
       "    <tr>\n",
       "      <th>2</th>\n",
       "      <td>2</td>\n",
       "      <td>data</td>\n",
       "      <td>5</td>\n",
       "    </tr>\n",
       "    <tr>\n",
       "      <th>3</th>\n",
       "      <td>3</td>\n",
       "      <td>cvs</td>\n",
       "      <td>7</td>\n",
       "    </tr>\n",
       "    <tr>\n",
       "      <th>4</th>\n",
       "      <td>3</td>\n",
       "      <td>Offline Beverage</td>\n",
       "      <td>7</td>\n",
       "    </tr>\n",
       "    <tr>\n",
       "      <th>5</th>\n",
       "      <td>3</td>\n",
       "      <td>data</td>\n",
       "      <td>7</td>\n",
       "    </tr>\n",
       "    <tr>\n",
       "      <th>6</th>\n",
       "      <td>3</td>\n",
       "      <td>marketplace</td>\n",
       "      <td>2</td>\n",
       "    </tr>\n",
       "    <tr>\n",
       "      <th>7</th>\n",
       "      <td>3</td>\n",
       "      <td>supermarket</td>\n",
       "      <td>2</td>\n",
       "    </tr>\n",
       "    <tr>\n",
       "      <th>8</th>\n",
       "      <td>4</td>\n",
       "      <td>cvs</td>\n",
       "      <td>12</td>\n",
       "    </tr>\n",
       "    <tr>\n",
       "      <th>9</th>\n",
       "      <td>4</td>\n",
       "      <td>Offline Beverage</td>\n",
       "      <td>12</td>\n",
       "    </tr>\n",
       "    <tr>\n",
       "      <th>10</th>\n",
       "      <td>4</td>\n",
       "      <td>data</td>\n",
       "      <td>12</td>\n",
       "    </tr>\n",
       "    <tr>\n",
       "      <th>11</th>\n",
       "      <td>4</td>\n",
       "      <td>marketplace</td>\n",
       "      <td>5</td>\n",
       "    </tr>\n",
       "    <tr>\n",
       "      <th>12</th>\n",
       "      <td>4</td>\n",
       "      <td>supermarket</td>\n",
       "      <td>5</td>\n",
       "    </tr>\n",
       "  </tbody>\n",
       "</table>\n",
       "</div>"
      ],
      "text/plain": [
       "   Class ID             Group  %cashback\n",
       "0         2               cvs          5\n",
       "1         2  Offline Beverage          5\n",
       "2         2              data          5\n",
       "3         3               cvs          7\n",
       "4         3  Offline Beverage          7\n",
       "5         3              data          7\n",
       "6         3       marketplace          2\n",
       "7         3       supermarket          2\n",
       "8         4               cvs         12\n",
       "9         4  Offline Beverage         12\n",
       "10        4              data         12\n",
       "11        4       marketplace          5\n",
       "12        4       supermarket          5"
      ]
     },
     "execution_count": 10,
     "metadata": {},
     "output_type": "execute_result"
    }
   ],
   "source": [
    "Loyalty_Benefits['Class ID']=Loyalty_Benefits['Class ID'].astype(str)\n",
    "Loyalty_Benefits"
   ]
  },
  {
   "cell_type": "code",
   "execution_count": 11,
   "metadata": {},
   "outputs": [],
   "source": [
    "# Loyalty_Benefits.dtypes"
   ]
  },
  {
   "attachments": {},
   "cell_type": "markdown",
   "metadata": {},
   "source": [
    "# Part 1"
   ]
  },
  {
   "attachments": {},
   "cell_type": "markdown",
   "metadata": {},
   "source": [
    "1,"
   ]
  },
  {
   "cell_type": "code",
   "execution_count": 12,
   "metadata": {},
   "outputs": [
    {
     "name": "stderr",
     "output_type": "stream",
     "text": [
      "C:\\Users\\ACER\\AppData\\Local\\Temp\\ipykernel_16232\\1909542948.py:2: SettingWithCopyWarning: \n",
      "A value is trying to be set on a copy of a slice from a DataFrame.\n",
      "Try using .loc[row_indexer,col_indexer] = value instead\n",
      "\n",
      "See the caveats in the documentation: https://pandas.pydata.org/pandas-docs/stable/user_guide/indexing.html#returning-a-view-versus-a-copy\n",
      "  new_Loyalty_Points['Maximum Point Per Trans']=new_Loyalty_Points['Maximum Point Per Trans'].apply(lambda x: x.split(' ')[0])\n"
     ]
    }
   ],
   "source": [
    "new_Loyalty_Points=Loyalty_Points[['Service Group','Maximum Point Per Trans']]\n",
    "new_Loyalty_Points['Maximum Point Per Trans']=new_Loyalty_Points['Maximum Point Per Trans'].apply(lambda x: x.split(' ')[0])\n",
    "Transactions=Transactions.merge(new_Loyalty_Points,on='Service Group',how='left')"
   ]
  },
  {
   "cell_type": "code",
   "execution_count": 13,
   "metadata": {},
   "outputs": [],
   "source": [
    "# Transactions['Loyalty Points 1'] =Transactions.apply(lambda row: int(row['GMV'] / 1000 * 10) if row['Service Group'] == 'data'\n",
    "#                                                        else int(row['GMV'] / 1000 * 1), axis=1)\n",
    "\n",
    "TIME = pd.to_datetime('2022-01-01')\n",
    "def calculate_loyalty_points(row):\n",
    "    if row['DATE'] >= TIME:\n",
    "        if row['Service Group'] == 'data':\n",
    "            return int(row['GMV'] / 1000 * 10)\n",
    "        else:\n",
    "            return int(row['GMV'] / 1000 * 1)\n",
    "    else:\n",
    "        return 0\n",
    "\n",
    "Transactions['Loyalty Points 1'] = Transactions.apply(calculate_loyalty_points, axis=1)"
   ]
  },
  {
   "cell_type": "code",
   "execution_count": 14,
   "metadata": {},
   "outputs": [
    {
     "data": {
      "text/html": [
       "<div>\n",
       "<style scoped>\n",
       "    .dataframe tbody tr th:only-of-type {\n",
       "        vertical-align: middle;\n",
       "    }\n",
       "\n",
       "    .dataframe tbody tr th {\n",
       "        vertical-align: top;\n",
       "    }\n",
       "\n",
       "    .dataframe thead th {\n",
       "        text-align: right;\n",
       "    }\n",
       "</style>\n",
       "<table border=\"1\" class=\"dataframe\">\n",
       "  <thead>\n",
       "    <tr style=\"text-align: right;\">\n",
       "      <th></th>\n",
       "      <th>User_id</th>\n",
       "      <th>Order_id</th>\n",
       "      <th>DATE</th>\n",
       "      <th>GMV</th>\n",
       "      <th>Service Group</th>\n",
       "      <th>MerchantID</th>\n",
       "      <th>Maximum Point Per Trans</th>\n",
       "      <th>Loyalty Points 1</th>\n",
       "    </tr>\n",
       "  </thead>\n",
       "  <tbody>\n",
       "    <tr>\n",
       "      <th>0</th>\n",
       "      <td>61386143</td>\n",
       "      <td>8733622706</td>\n",
       "      <td>2021-01-01</td>\n",
       "      <td>100000</td>\n",
       "      <td>marketplace</td>\n",
       "      <td>37</td>\n",
       "      <td>500</td>\n",
       "      <td>0</td>\n",
       "    </tr>\n",
       "    <tr>\n",
       "      <th>1</th>\n",
       "      <td>48453125</td>\n",
       "      <td>8726857991</td>\n",
       "      <td>2021-01-01</td>\n",
       "      <td>5000</td>\n",
       "      <td>supermarket</td>\n",
       "      <td>9</td>\n",
       "      <td>500</td>\n",
       "      <td>0</td>\n",
       "    </tr>\n",
       "    <tr>\n",
       "      <th>2</th>\n",
       "      <td>49921027</td>\n",
       "      <td>8737326894</td>\n",
       "      <td>2021-01-01</td>\n",
       "      <td>106600</td>\n",
       "      <td>supermarket</td>\n",
       "      <td>9</td>\n",
       "      <td>500</td>\n",
       "      <td>0</td>\n",
       "    </tr>\n",
       "    <tr>\n",
       "      <th>3</th>\n",
       "      <td>46022523</td>\n",
       "      <td>8732579078</td>\n",
       "      <td>2021-01-01</td>\n",
       "      <td>270000</td>\n",
       "      <td>supermarket</td>\n",
       "      <td>9</td>\n",
       "      <td>500</td>\n",
       "      <td>0</td>\n",
       "    </tr>\n",
       "    <tr>\n",
       "      <th>4</th>\n",
       "      <td>44014594</td>\n",
       "      <td>8725567343</td>\n",
       "      <td>2021-01-01</td>\n",
       "      <td>68000</td>\n",
       "      <td>cvs</td>\n",
       "      <td>8</td>\n",
       "      <td>300</td>\n",
       "      <td>0</td>\n",
       "    </tr>\n",
       "  </tbody>\n",
       "</table>\n",
       "</div>"
      ],
      "text/plain": [
       "    User_id    Order_id       DATE     GMV Service Group MerchantID  \\\n",
       "0  61386143  8733622706 2021-01-01  100000   marketplace         37   \n",
       "1  48453125  8726857991 2021-01-01    5000   supermarket          9   \n",
       "2  49921027  8737326894 2021-01-01  106600   supermarket          9   \n",
       "3  46022523  8732579078 2021-01-01  270000   supermarket          9   \n",
       "4  44014594  8725567343 2021-01-01   68000           cvs          8   \n",
       "\n",
       "  Maximum Point Per Trans  Loyalty Points 1  \n",
       "0                     500                 0  \n",
       "1                     500                 0  \n",
       "2                     500                 0  \n",
       "3                     500                 0  \n",
       "4                     300                 0  "
      ]
     },
     "execution_count": 14,
     "metadata": {},
     "output_type": "execute_result"
    }
   ],
   "source": [
    "Transactions.head()"
   ]
  },
  {
   "cell_type": "code",
   "execution_count": 15,
   "metadata": {},
   "outputs": [],
   "source": [
    "Transactions['Maximum Point Per Trans']=Transactions['Maximum Point Per Trans'].astype(int)"
   ]
  },
  {
   "cell_type": "code",
   "execution_count": 16,
   "metadata": {},
   "outputs": [],
   "source": [
    "Transactions['Loyalty Points']=Transactions.apply(lambda row : row['Loyalty Points 1'] if row['Loyalty Points 1'] < row['Maximum Point Per Trans'] \n",
    "                                                  else row['Maximum Point Per Trans'],axis=1)"
   ]
  },
  {
   "cell_type": "code",
   "execution_count": 17,
   "metadata": {},
   "outputs": [],
   "source": [
    "Transactions.drop(['Maximum Point Per Trans','Loyalty Points 1'],axis=1,inplace=True)\n"
   ]
  },
  {
   "cell_type": "code",
   "execution_count": 18,
   "metadata": {},
   "outputs": [
    {
     "data": {
      "text/html": [
       "<div>\n",
       "<style scoped>\n",
       "    .dataframe tbody tr th:only-of-type {\n",
       "        vertical-align: middle;\n",
       "    }\n",
       "\n",
       "    .dataframe tbody tr th {\n",
       "        vertical-align: top;\n",
       "    }\n",
       "\n",
       "    .dataframe thead th {\n",
       "        text-align: right;\n",
       "    }\n",
       "</style>\n",
       "<table border=\"1\" class=\"dataframe\">\n",
       "  <thead>\n",
       "    <tr style=\"text-align: right;\">\n",
       "      <th></th>\n",
       "      <th>User_id</th>\n",
       "      <th>Order_id</th>\n",
       "      <th>DATE</th>\n",
       "      <th>GMV</th>\n",
       "      <th>Service Group</th>\n",
       "      <th>MerchantID</th>\n",
       "      <th>Loyalty Points</th>\n",
       "    </tr>\n",
       "  </thead>\n",
       "  <tbody>\n",
       "    <tr>\n",
       "      <th>0</th>\n",
       "      <td>61386143</td>\n",
       "      <td>8733622706</td>\n",
       "      <td>2021-01-01</td>\n",
       "      <td>100000</td>\n",
       "      <td>marketplace</td>\n",
       "      <td>37</td>\n",
       "      <td>0</td>\n",
       "    </tr>\n",
       "    <tr>\n",
       "      <th>1</th>\n",
       "      <td>48453125</td>\n",
       "      <td>8726857991</td>\n",
       "      <td>2021-01-01</td>\n",
       "      <td>5000</td>\n",
       "      <td>supermarket</td>\n",
       "      <td>9</td>\n",
       "      <td>0</td>\n",
       "    </tr>\n",
       "    <tr>\n",
       "      <th>2</th>\n",
       "      <td>49921027</td>\n",
       "      <td>8737326894</td>\n",
       "      <td>2021-01-01</td>\n",
       "      <td>106600</td>\n",
       "      <td>supermarket</td>\n",
       "      <td>9</td>\n",
       "      <td>0</td>\n",
       "    </tr>\n",
       "    <tr>\n",
       "      <th>3</th>\n",
       "      <td>46022523</td>\n",
       "      <td>8732579078</td>\n",
       "      <td>2021-01-01</td>\n",
       "      <td>270000</td>\n",
       "      <td>supermarket</td>\n",
       "      <td>9</td>\n",
       "      <td>0</td>\n",
       "    </tr>\n",
       "    <tr>\n",
       "      <th>4</th>\n",
       "      <td>44014594</td>\n",
       "      <td>8725567343</td>\n",
       "      <td>2021-01-01</td>\n",
       "      <td>68000</td>\n",
       "      <td>cvs</td>\n",
       "      <td>8</td>\n",
       "      <td>0</td>\n",
       "    </tr>\n",
       "  </tbody>\n",
       "</table>\n",
       "</div>"
      ],
      "text/plain": [
       "    User_id    Order_id       DATE     GMV Service Group MerchantID  \\\n",
       "0  61386143  8733622706 2021-01-01  100000   marketplace         37   \n",
       "1  48453125  8726857991 2021-01-01    5000   supermarket          9   \n",
       "2  49921027  8737326894 2021-01-01  106600   supermarket          9   \n",
       "3  46022523  8732579078 2021-01-01  270000   supermarket          9   \n",
       "4  44014594  8725567343 2021-01-01   68000           cvs          8   \n",
       "\n",
       "   Loyalty Points  \n",
       "0               0  \n",
       "1               0  \n",
       "2               0  \n",
       "3               0  \n",
       "4               0  "
      ]
     },
     "execution_count": 18,
     "metadata": {},
     "output_type": "execute_result"
    }
   ],
   "source": [
    "Transactions.head()"
   ]
  },
  {
   "cell_type": "code",
   "execution_count": 19,
   "metadata": {},
   "outputs": [],
   "source": [
    "# x=input('nhập date (yyyy-mm-dd):')\n",
    "# current_date = datetime.datetime.strptime(x,'%Y-%m-%d')\n",
    "current_date = datetime.datetime(2022,3,31)\n",
    "days_to_reset = 30\n",
    "reset_date = current_date - datetime.timedelta(days=days_to_reset)\n",
    "# print(reset_date)\n",
    "Transactions.loc[Transactions['DATE'] < reset_date , 'Loyalty Points'] = 0\n"
   ]
  },
  {
   "cell_type": "code",
   "execution_count": 20,
   "metadata": {},
   "outputs": [],
   "source": [
    "Loyalty_Ranking=Transactions.groupby('User_id')['Loyalty Points'].sum().reset_index()"
   ]
  },
  {
   "cell_type": "code",
   "execution_count": 21,
   "metadata": {},
   "outputs": [
    {
     "data": {
      "text/html": [
       "<div>\n",
       "<style scoped>\n",
       "    .dataframe tbody tr th:only-of-type {\n",
       "        vertical-align: middle;\n",
       "    }\n",
       "\n",
       "    .dataframe tbody tr th {\n",
       "        vertical-align: top;\n",
       "    }\n",
       "\n",
       "    .dataframe thead th {\n",
       "        text-align: right;\n",
       "    }\n",
       "</style>\n",
       "<table border=\"1\" class=\"dataframe\">\n",
       "  <thead>\n",
       "    <tr style=\"text-align: right;\">\n",
       "      <th></th>\n",
       "      <th>User_id</th>\n",
       "      <th>Loyalty Points</th>\n",
       "    </tr>\n",
       "  </thead>\n",
       "  <tbody>\n",
       "    <tr>\n",
       "      <th>0</th>\n",
       "      <td>10056218</td>\n",
       "      <td>880</td>\n",
       "    </tr>\n",
       "    <tr>\n",
       "      <th>1</th>\n",
       "      <td>10071920</td>\n",
       "      <td>0</td>\n",
       "    </tr>\n",
       "    <tr>\n",
       "      <th>2</th>\n",
       "      <td>10093330</td>\n",
       "      <td>0</td>\n",
       "    </tr>\n",
       "    <tr>\n",
       "      <th>3</th>\n",
       "      <td>10154027</td>\n",
       "      <td>0</td>\n",
       "    </tr>\n",
       "    <tr>\n",
       "      <th>4</th>\n",
       "      <td>10156282</td>\n",
       "      <td>100</td>\n",
       "    </tr>\n",
       "  </tbody>\n",
       "</table>\n",
       "</div>"
      ],
      "text/plain": [
       "    User_id  Loyalty Points\n",
       "0  10056218             880\n",
       "1  10071920               0\n",
       "2  10093330               0\n",
       "3  10154027               0\n",
       "4  10156282             100"
      ]
     },
     "execution_count": 21,
     "metadata": {},
     "output_type": "execute_result"
    }
   ],
   "source": [
    "Loyalty_Ranking.head()"
   ]
  },
  {
   "cell_type": "code",
   "execution_count": 22,
   "metadata": {},
   "outputs": [],
   "source": [
    "Loyalty_Ranking.drop(Loyalty_Ranking[Loyalty_Ranking['Loyalty Points'] == 0].index, inplace=True)\n"
   ]
  },
  {
   "cell_type": "code",
   "execution_count": 23,
   "metadata": {},
   "outputs": [],
   "source": [
    "Loyalty_Ranking['Rank_name']=Loyalty_Ranking['Loyalty Points'].apply(lambda x: 'DIAMOND' if x>=5000 \n",
    "                                                                     else('GOLD' if x<5000 and x>=2000 \n",
    "                                                                          else('SILVER' if x<2000 and x >=1000 \n",
    "                                                                               else 'STANDARD')))"
   ]
  },
  {
   "cell_type": "code",
   "execution_count": 24,
   "metadata": {},
   "outputs": [],
   "source": [
    "Loyalty_Ranking['Class ID']=Loyalty_Ranking['Rank_name'].apply(lambda x : 1 if x=='STANDARD' \n",
    "                                                               else(2 if x=='SILVER' \n",
    "                                                                    else(3 if x=='GOLD' \n",
    "                                                                         else 4)))"
   ]
  },
  {
   "cell_type": "code",
   "execution_count": 25,
   "metadata": {},
   "outputs": [],
   "source": [
    "Loyalty_Ranking.rename(columns={'Loyalty Points':'Calculated_points'},inplace=True)"
   ]
  },
  {
   "cell_type": "code",
   "execution_count": 26,
   "metadata": {},
   "outputs": [
    {
     "data": {
      "text/html": [
       "<div>\n",
       "<style scoped>\n",
       "    .dataframe tbody tr th:only-of-type {\n",
       "        vertical-align: middle;\n",
       "    }\n",
       "\n",
       "    .dataframe tbody tr th {\n",
       "        vertical-align: top;\n",
       "    }\n",
       "\n",
       "    .dataframe thead th {\n",
       "        text-align: right;\n",
       "    }\n",
       "</style>\n",
       "<table border=\"1\" class=\"dataframe\">\n",
       "  <thead>\n",
       "    <tr style=\"text-align: right;\">\n",
       "      <th></th>\n",
       "      <th>User_id</th>\n",
       "      <th>Calculated_points</th>\n",
       "      <th>Rank_name</th>\n",
       "      <th>Class ID</th>\n",
       "    </tr>\n",
       "  </thead>\n",
       "  <tbody>\n",
       "    <tr>\n",
       "      <th>0</th>\n",
       "      <td>10056218</td>\n",
       "      <td>880</td>\n",
       "      <td>STANDARD</td>\n",
       "      <td>1</td>\n",
       "    </tr>\n",
       "    <tr>\n",
       "      <th>4</th>\n",
       "      <td>10156282</td>\n",
       "      <td>100</td>\n",
       "      <td>STANDARD</td>\n",
       "      <td>1</td>\n",
       "    </tr>\n",
       "    <tr>\n",
       "      <th>6</th>\n",
       "      <td>10184635</td>\n",
       "      <td>4000</td>\n",
       "      <td>GOLD</td>\n",
       "      <td>3</td>\n",
       "    </tr>\n",
       "    <tr>\n",
       "      <th>7</th>\n",
       "      <td>1018832</td>\n",
       "      <td>2130</td>\n",
       "      <td>GOLD</td>\n",
       "      <td>3</td>\n",
       "    </tr>\n",
       "    <tr>\n",
       "      <th>8</th>\n",
       "      <td>10247812</td>\n",
       "      <td>150</td>\n",
       "      <td>STANDARD</td>\n",
       "      <td>1</td>\n",
       "    </tr>\n",
       "  </tbody>\n",
       "</table>\n",
       "</div>"
      ],
      "text/plain": [
       "    User_id  Calculated_points Rank_name  Class ID\n",
       "0  10056218                880  STANDARD         1\n",
       "4  10156282                100  STANDARD         1\n",
       "6  10184635               4000      GOLD         3\n",
       "7   1018832               2130      GOLD         3\n",
       "8  10247812                150  STANDARD         1"
      ]
     },
     "execution_count": 26,
     "metadata": {},
     "output_type": "execute_result"
    }
   ],
   "source": [
    "Loyalty_Ranking.head()"
   ]
  },
  {
   "cell_type": "code",
   "execution_count": 27,
   "metadata": {},
   "outputs": [
    {
     "data": {
      "text/plain": [
       "STANDARD    1512\n",
       "SILVER       301\n",
       "GOLD         125\n",
       "DIAMOND       14\n",
       "Name: Rank_name, dtype: int64"
      ]
     },
     "execution_count": 27,
     "metadata": {},
     "output_type": "execute_result"
    }
   ],
   "source": [
    "Loyalty_Ranking['Rank_name'].value_counts()"
   ]
  },
  {
   "cell_type": "code",
   "execution_count": 28,
   "metadata": {},
   "outputs": [
    {
     "name": "stdout",
     "output_type": "stream",
     "text": [
      "Vào cuối tháng 3 năm 2022, có 125 người dùng đạt được thứ hạng Vàng\n"
     ]
    }
   ],
   "source": [
    "x=Loyalty_Ranking['Rank_name'].value_counts()['GOLD']\n",
    "print('Vào cuối tháng 3 năm 2022, có {} người dùng đạt được thứ hạng Vàng'.format(x))"
   ]
  },
  {
   "cell_type": "code",
   "execution_count": 29,
   "metadata": {},
   "outputs": [],
   "source": [
    "# Loyalty_Ranking.dtypes"
   ]
  },
  {
   "attachments": {},
   "cell_type": "markdown",
   "metadata": {},
   "source": [
    "2,"
   ]
  },
  {
   "cell_type": "code",
   "execution_count": 30,
   "metadata": {},
   "outputs": [],
   "source": [
    "Loyalty_Ranking['Class ID'] = Loyalty_Ranking['Class ID'].astype(str)"
   ]
  },
  {
   "cell_type": "code",
   "execution_count": 31,
   "metadata": {},
   "outputs": [],
   "source": [
    "Transactions_p2=Transactions.merge(Loyalty_Ranking[['User_id','Class ID']],on='User_id',how='left')"
   ]
  },
  {
   "cell_type": "code",
   "execution_count": 32,
   "metadata": {},
   "outputs": [],
   "source": [
    "# Transactions.dtypes"
   ]
  },
  {
   "cell_type": "code",
   "execution_count": 33,
   "metadata": {},
   "outputs": [],
   "source": [
    "Transactions_p2['Class ID'] = Transactions_p2['Class ID'].fillna('1')\n"
   ]
  },
  {
   "cell_type": "code",
   "execution_count": 34,
   "metadata": {},
   "outputs": [
    {
     "data": {
      "text/html": [
       "<div>\n",
       "<style scoped>\n",
       "    .dataframe tbody tr th:only-of-type {\n",
       "        vertical-align: middle;\n",
       "    }\n",
       "\n",
       "    .dataframe tbody tr th {\n",
       "        vertical-align: top;\n",
       "    }\n",
       "\n",
       "    .dataframe thead th {\n",
       "        text-align: right;\n",
       "    }\n",
       "</style>\n",
       "<table border=\"1\" class=\"dataframe\">\n",
       "  <thead>\n",
       "    <tr style=\"text-align: right;\">\n",
       "      <th></th>\n",
       "      <th>User_id</th>\n",
       "      <th>Order_id</th>\n",
       "      <th>DATE</th>\n",
       "      <th>GMV</th>\n",
       "      <th>Service Group</th>\n",
       "      <th>MerchantID</th>\n",
       "      <th>Loyalty Points</th>\n",
       "      <th>Class ID</th>\n",
       "    </tr>\n",
       "  </thead>\n",
       "  <tbody>\n",
       "    <tr>\n",
       "      <th>0</th>\n",
       "      <td>61386143</td>\n",
       "      <td>8733622706</td>\n",
       "      <td>2021-01-01</td>\n",
       "      <td>100000</td>\n",
       "      <td>marketplace</td>\n",
       "      <td>37</td>\n",
       "      <td>0</td>\n",
       "      <td>1</td>\n",
       "    </tr>\n",
       "    <tr>\n",
       "      <th>1</th>\n",
       "      <td>48453125</td>\n",
       "      <td>8726857991</td>\n",
       "      <td>2021-01-01</td>\n",
       "      <td>5000</td>\n",
       "      <td>supermarket</td>\n",
       "      <td>9</td>\n",
       "      <td>0</td>\n",
       "      <td>2</td>\n",
       "    </tr>\n",
       "    <tr>\n",
       "      <th>2</th>\n",
       "      <td>49921027</td>\n",
       "      <td>8737326894</td>\n",
       "      <td>2021-01-01</td>\n",
       "      <td>106600</td>\n",
       "      <td>supermarket</td>\n",
       "      <td>9</td>\n",
       "      <td>0</td>\n",
       "      <td>1</td>\n",
       "    </tr>\n",
       "    <tr>\n",
       "      <th>3</th>\n",
       "      <td>46022523</td>\n",
       "      <td>8732579078</td>\n",
       "      <td>2021-01-01</td>\n",
       "      <td>270000</td>\n",
       "      <td>supermarket</td>\n",
       "      <td>9</td>\n",
       "      <td>0</td>\n",
       "      <td>1</td>\n",
       "    </tr>\n",
       "    <tr>\n",
       "      <th>4</th>\n",
       "      <td>44014594</td>\n",
       "      <td>8725567343</td>\n",
       "      <td>2021-01-01</td>\n",
       "      <td>68000</td>\n",
       "      <td>cvs</td>\n",
       "      <td>8</td>\n",
       "      <td>0</td>\n",
       "      <td>1</td>\n",
       "    </tr>\n",
       "  </tbody>\n",
       "</table>\n",
       "</div>"
      ],
      "text/plain": [
       "    User_id    Order_id       DATE     GMV Service Group MerchantID  \\\n",
       "0  61386143  8733622706 2021-01-01  100000   marketplace         37   \n",
       "1  48453125  8726857991 2021-01-01    5000   supermarket          9   \n",
       "2  49921027  8737326894 2021-01-01  106600   supermarket          9   \n",
       "3  46022523  8732579078 2021-01-01  270000   supermarket          9   \n",
       "4  44014594  8725567343 2021-01-01   68000           cvs          8   \n",
       "\n",
       "   Loyalty Points Class ID  \n",
       "0               0        1  \n",
       "1               0        2  \n",
       "2               0        1  \n",
       "3               0        1  \n",
       "4               0        1  "
      ]
     },
     "execution_count": 34,
     "metadata": {},
     "output_type": "execute_result"
    }
   ],
   "source": [
    "Transactions_p2.head()"
   ]
  },
  {
   "cell_type": "code",
   "execution_count": 35,
   "metadata": {},
   "outputs": [],
   "source": [
    "# Transactions.dtypes"
   ]
  },
  {
   "cell_type": "code",
   "execution_count": 36,
   "metadata": {},
   "outputs": [],
   "source": [
    "Transactions_p2.drop(Transactions_p2[Transactions_p2['Class ID']=='1'].index,inplace=True)"
   ]
  },
  {
   "cell_type": "code",
   "execution_count": 37,
   "metadata": {},
   "outputs": [],
   "source": [
    "Transactions_p2 = pd.merge(Transactions_p2, Loyalty_Benefits, left_on=['Class ID', 'Service Group'], right_on=['Class ID', 'Group'], how='left')\n"
   ]
  },
  {
   "cell_type": "code",
   "execution_count": 38,
   "metadata": {},
   "outputs": [],
   "source": [
    "Transactions_p2.drop(Transactions_p2[Transactions_p2['Group'].isnull()].index,inplace=True)"
   ]
  },
  {
   "cell_type": "code",
   "execution_count": 39,
   "metadata": {},
   "outputs": [],
   "source": [
    "Transactions_p2['%cashback']=Transactions_p2['%cashback'].astype(int)\n"
   ]
  },
  {
   "cell_type": "code",
   "execution_count": 40,
   "metadata": {},
   "outputs": [],
   "source": [
    "Transactions_p2['total_cash_back']=(Transactions_p2['GMV']*Transactions_p2['%cashback'])/100"
   ]
  },
  {
   "cell_type": "code",
   "execution_count": 41,
   "metadata": {},
   "outputs": [],
   "source": [
    "Transactions_p2['total_cash_back']=Transactions_p2['total_cash_back'].astype(int)\n",
    "Transactions_p2.drop(['Class ID','Group'],axis=1,inplace=True)"
   ]
  },
  {
   "cell_type": "code",
   "execution_count": 42,
   "metadata": {},
   "outputs": [],
   "source": [
    "Transactions_p2['total_cash_back']=Transactions_p2['total_cash_back'].apply(lambda x : 10000 if x >10000 else x)"
   ]
  },
  {
   "cell_type": "code",
   "execution_count": 43,
   "metadata": {},
   "outputs": [
    {
     "data": {
      "text/html": [
       "<div>\n",
       "<style scoped>\n",
       "    .dataframe tbody tr th:only-of-type {\n",
       "        vertical-align: middle;\n",
       "    }\n",
       "\n",
       "    .dataframe tbody tr th {\n",
       "        vertical-align: top;\n",
       "    }\n",
       "\n",
       "    .dataframe thead th {\n",
       "        text-align: right;\n",
       "    }\n",
       "</style>\n",
       "<table border=\"1\" class=\"dataframe\">\n",
       "  <thead>\n",
       "    <tr style=\"text-align: right;\">\n",
       "      <th></th>\n",
       "      <th>User_id</th>\n",
       "      <th>Order_id</th>\n",
       "      <th>DATE</th>\n",
       "      <th>GMV</th>\n",
       "      <th>Service Group</th>\n",
       "      <th>MerchantID</th>\n",
       "      <th>Loyalty Points</th>\n",
       "      <th>%cashback</th>\n",
       "      <th>total_cash_back</th>\n",
       "    </tr>\n",
       "  </thead>\n",
       "  <tbody>\n",
       "    <tr>\n",
       "      <th>1</th>\n",
       "      <td>54396095</td>\n",
       "      <td>8734291772</td>\n",
       "      <td>2021-01-01</td>\n",
       "      <td>15000</td>\n",
       "      <td>data</td>\n",
       "      <td>41</td>\n",
       "      <td>0</td>\n",
       "      <td>7</td>\n",
       "      <td>1050</td>\n",
       "    </tr>\n",
       "    <tr>\n",
       "      <th>3</th>\n",
       "      <td>58700380</td>\n",
       "      <td>8775629488</td>\n",
       "      <td>2021-01-04</td>\n",
       "      <td>7500</td>\n",
       "      <td>data</td>\n",
       "      <td>43</td>\n",
       "      <td>0</td>\n",
       "      <td>5</td>\n",
       "      <td>375</td>\n",
       "    </tr>\n",
       "    <tr>\n",
       "      <th>6</th>\n",
       "      <td>10184635</td>\n",
       "      <td>8802092703</td>\n",
       "      <td>2021-01-06</td>\n",
       "      <td>37986</td>\n",
       "      <td>marketplace</td>\n",
       "      <td>24</td>\n",
       "      <td>0</td>\n",
       "      <td>2</td>\n",
       "      <td>759</td>\n",
       "    </tr>\n",
       "    <tr>\n",
       "      <th>7</th>\n",
       "      <td>54396095</td>\n",
       "      <td>8799213943</td>\n",
       "      <td>2021-01-06</td>\n",
       "      <td>15000</td>\n",
       "      <td>data</td>\n",
       "      <td>41</td>\n",
       "      <td>0</td>\n",
       "      <td>7</td>\n",
       "      <td>1050</td>\n",
       "    </tr>\n",
       "    <tr>\n",
       "      <th>9</th>\n",
       "      <td>54396095</td>\n",
       "      <td>8828489404</td>\n",
       "      <td>2021-01-07</td>\n",
       "      <td>30000</td>\n",
       "      <td>data</td>\n",
       "      <td>41</td>\n",
       "      <td>0</td>\n",
       "      <td>7</td>\n",
       "      <td>2100</td>\n",
       "    </tr>\n",
       "  </tbody>\n",
       "</table>\n",
       "</div>"
      ],
      "text/plain": [
       "    User_id    Order_id       DATE    GMV Service Group MerchantID  \\\n",
       "1  54396095  8734291772 2021-01-01  15000          data         41   \n",
       "3  58700380  8775629488 2021-01-04   7500          data         43   \n",
       "6  10184635  8802092703 2021-01-06  37986   marketplace         24   \n",
       "7  54396095  8799213943 2021-01-06  15000          data         41   \n",
       "9  54396095  8828489404 2021-01-07  30000          data         41   \n",
       "\n",
       "   Loyalty Points  %cashback  total_cash_back  \n",
       "1               0          7             1050  \n",
       "3               0          5              375  \n",
       "6               0          2              759  \n",
       "7               0          7             1050  \n",
       "9               0          7             2100  "
      ]
     },
     "execution_count": 43,
     "metadata": {},
     "output_type": "execute_result"
    }
   ],
   "source": [
    "Transactions_p2.head()"
   ]
  },
  {
   "cell_type": "code",
   "execution_count": 44,
   "metadata": {},
   "outputs": [
    {
     "name": "stdout",
     "output_type": "stream",
     "text": [
      "Tổng chi phí hoàn tiền vào tháng 2 năm 2022:4,831,497VND\n"
     ]
    }
   ],
   "source": [
    "condition = (Transactions_p2['DATE'].dt.year == 2022) & (Transactions_p2['DATE'].dt.month == 2)\n",
    "total_cashback_feb_2022 = Transactions_p2.loc[condition, 'total_cash_back'].sum()\n",
    "print('Tổng chi phí hoàn tiền vào tháng 2 năm 2022:{:,.0f}'.format(total_cashback_feb_2022)+'VND')"
   ]
  },
  {
   "cell_type": "code",
   "execution_count": 45,
   "metadata": {},
   "outputs": [],
   "source": [
    "# Transactions_p2.to_csv('Cashback.csv',index=False)"
   ]
  },
  {
   "attachments": {},
   "cell_type": "markdown",
   "metadata": {},
   "source": [
    "3,"
   ]
  },
  {
   "cell_type": "code",
   "execution_count": 46,
   "metadata": {},
   "outputs": [],
   "source": [
    "# start_date = pd.to_datetime('2022-01-01')\n",
    "# end_date = pd.to_datetime('2022-03-31')\n",
    "# # end_date = pd.to_datetime(datetime.datetime.now().date())\n",
    "# filtered_data = Transactions.loc[(Transactions['DATE'] >= start_date) & (Transactions['DATE'] <= end_date)]\n",
    "\n",
    "# plt.figure(figsize=(10, 6))\n",
    "# plt.plot(filtered_data['DATE'], filtered_data['total_cash_back'])\n",
    "# plt.xlabel('Ngày')\n",
    "# plt.ylabel('Giá trị')\n",
    "# plt.title('Biểu đồ duy trì hàng tuần')\n",
    "# plt.xticks(rotation=45)\n",
    "# plt.grid(True)\n",
    "\n",
    "# import matplotlib.dates as mdates\n",
    "\n",
    "# plt.gca().xaxis.set_major_locator(mdates.WeekdayLocator())\n",
    "# plt.gca().xaxis.set_major_formatter(mdates.DateFormatter('%Y-%m-%d'))\n",
    "\n",
    "# plt.show()\n",
    "\n"
   ]
  },
  {
   "attachments": {},
   "cell_type": "markdown",
   "metadata": {},
   "source": [
    "# Part 2"
   ]
  },
  {
   "attachments": {},
   "cell_type": "markdown",
   "metadata": {},
   "source": [
    "1,"
   ]
  },
  {
   "cell_type": "code",
   "execution_count": 47,
   "metadata": {},
   "outputs": [],
   "source": [
    "Transaction=pd.read_excel('2022 Case challenge_ DA update.xlsx',sheet_name='Data. Transactions')\n",
    "Transaction['User_id']=Transaction['User_id'].astype(str)\n",
    "Transaction['Order_id']=Transaction['Order_id'].astype(str)\n",
    "Transaction['MerchantID']=Transaction['MerchantID'].astype(str)\n",
    "Transaction.drop(Transaction[Transaction['DATE']<'2022-01-01'].index,inplace=True)"
   ]
  },
  {
   "cell_type": "code",
   "execution_count": 48,
   "metadata": {},
   "outputs": [],
   "source": [
    "count=Transaction.groupby(\"User_id\")['Order_id'].count().reset_index()"
   ]
  },
  {
   "cell_type": "code",
   "execution_count": 49,
   "metadata": {},
   "outputs": [],
   "source": [
    "sum=Transaction.groupby('User_id')['GMV'].sum().reset_index()"
   ]
  },
  {
   "cell_type": "code",
   "execution_count": 50,
   "metadata": {},
   "outputs": [],
   "source": [
    "User=count.merge(sum,on='User_id',how='outer')\n",
    "User=User.sort_values(['Order_id','GMV'],ascending=False)\n",
    "User.rename(columns={'Order_id': 'Total order', 'GMV': 'Sum GMV'}, inplace=True)"
   ]
  },
  {
   "cell_type": "code",
   "execution_count": 51,
   "metadata": {},
   "outputs": [
    {
     "data": {
      "text/html": [
       "<div>\n",
       "<style scoped>\n",
       "    .dataframe tbody tr th:only-of-type {\n",
       "        vertical-align: middle;\n",
       "    }\n",
       "\n",
       "    .dataframe tbody tr th {\n",
       "        vertical-align: top;\n",
       "    }\n",
       "\n",
       "    .dataframe thead th {\n",
       "        text-align: right;\n",
       "    }\n",
       "</style>\n",
       "<table border=\"1\" class=\"dataframe\">\n",
       "  <thead>\n",
       "    <tr style=\"text-align: right;\">\n",
       "      <th></th>\n",
       "      <th>User_id</th>\n",
       "      <th>Total order</th>\n",
       "      <th>Sum GMV</th>\n",
       "    </tr>\n",
       "  </thead>\n",
       "  <tbody>\n",
       "    <tr>\n",
       "      <th>2855</th>\n",
       "      <td>54960619</td>\n",
       "      <td>342</td>\n",
       "      <td>206726775</td>\n",
       "    </tr>\n",
       "    <tr>\n",
       "      <th>2326</th>\n",
       "      <td>49686091</td>\n",
       "      <td>208</td>\n",
       "      <td>8273015</td>\n",
       "    </tr>\n",
       "    <tr>\n",
       "      <th>2093</th>\n",
       "      <td>47662326</td>\n",
       "      <td>205</td>\n",
       "      <td>116291980</td>\n",
       "    </tr>\n",
       "    <tr>\n",
       "      <th>2394</th>\n",
       "      <td>50185392</td>\n",
       "      <td>175</td>\n",
       "      <td>66414378</td>\n",
       "    </tr>\n",
       "    <tr>\n",
       "      <th>61</th>\n",
       "      <td>13920492</td>\n",
       "      <td>171</td>\n",
       "      <td>10074600</td>\n",
       "    </tr>\n",
       "  </tbody>\n",
       "</table>\n",
       "</div>"
      ],
      "text/plain": [
       "       User_id  Total order    Sum GMV\n",
       "2855  54960619          342  206726775\n",
       "2326  49686091          208    8273015\n",
       "2093  47662326          205  116291980\n",
       "2394  50185392          175   66414378\n",
       "61    13920492          171   10074600"
      ]
     },
     "execution_count": 51,
     "metadata": {},
     "output_type": "execute_result"
    }
   ],
   "source": [
    "User.head()"
   ]
  },
  {
   "cell_type": "code",
   "execution_count": 52,
   "metadata": {},
   "outputs": [],
   "source": [
    "total_days = (pd.to_datetime('2022-03-31') - Transaction['DATE'].min()).days\n",
    "\n",
    "Frequency = Transaction.groupby('User_id')['DATE'].apply(lambda x: len(pd.unique(x))).astype(float)\n",
    "\n",
    "Frequency = Frequency / total_days\n",
    "\n",
    "Frequency = Frequency.reset_index()\n",
    "Frequency.rename(columns={'DATE':'Frequency'},inplace=True)\n"
   ]
  },
  {
   "cell_type": "code",
   "execution_count": 53,
   "metadata": {},
   "outputs": [],
   "source": [
    "User=User.merge(Frequency,on='User_id',how='outer')"
   ]
  },
  {
   "cell_type": "code",
   "execution_count": 54,
   "metadata": {},
   "outputs": [
    {
     "data": {
      "text/html": [
       "<div>\n",
       "<style scoped>\n",
       "    .dataframe tbody tr th:only-of-type {\n",
       "        vertical-align: middle;\n",
       "    }\n",
       "\n",
       "    .dataframe tbody tr th {\n",
       "        vertical-align: top;\n",
       "    }\n",
       "\n",
       "    .dataframe thead th {\n",
       "        text-align: right;\n",
       "    }\n",
       "</style>\n",
       "<table border=\"1\" class=\"dataframe\">\n",
       "  <thead>\n",
       "    <tr style=\"text-align: right;\">\n",
       "      <th></th>\n",
       "      <th>User_id</th>\n",
       "      <th>Total order</th>\n",
       "      <th>Sum GMV</th>\n",
       "      <th>Frequency</th>\n",
       "    </tr>\n",
       "  </thead>\n",
       "  <tbody>\n",
       "    <tr>\n",
       "      <th>0</th>\n",
       "      <td>54960619</td>\n",
       "      <td>342</td>\n",
       "      <td>206726775</td>\n",
       "      <td>0.123596</td>\n",
       "    </tr>\n",
       "    <tr>\n",
       "      <th>1</th>\n",
       "      <td>49686091</td>\n",
       "      <td>208</td>\n",
       "      <td>8273015</td>\n",
       "      <td>0.685393</td>\n",
       "    </tr>\n",
       "    <tr>\n",
       "      <th>2</th>\n",
       "      <td>47662326</td>\n",
       "      <td>205</td>\n",
       "      <td>116291980</td>\n",
       "      <td>0.696629</td>\n",
       "    </tr>\n",
       "    <tr>\n",
       "      <th>3</th>\n",
       "      <td>50185392</td>\n",
       "      <td>175</td>\n",
       "      <td>66414378</td>\n",
       "      <td>0.415730</td>\n",
       "    </tr>\n",
       "    <tr>\n",
       "      <th>4</th>\n",
       "      <td>13920492</td>\n",
       "      <td>171</td>\n",
       "      <td>10074600</td>\n",
       "      <td>0.887640</td>\n",
       "    </tr>\n",
       "  </tbody>\n",
       "</table>\n",
       "</div>"
      ],
      "text/plain": [
       "    User_id  Total order    Sum GMV  Frequency\n",
       "0  54960619          342  206726775   0.123596\n",
       "1  49686091          208    8273015   0.685393\n",
       "2  47662326          205  116291980   0.696629\n",
       "3  50185392          175   66414378   0.415730\n",
       "4  13920492          171   10074600   0.887640"
      ]
     },
     "execution_count": 54,
     "metadata": {},
     "output_type": "execute_result"
    }
   ],
   "source": [
    "User.head()"
   ]
  },
  {
   "cell_type": "code",
   "execution_count": 55,
   "metadata": {},
   "outputs": [
    {
     "name": "stdout",
     "output_type": "stream",
     "text": [
      "Tỷ lệ giữ chân người dùng: 50.80%\n"
     ]
    }
   ],
   "source": [
    "retained_users = len(User[User['Total order'] >=3])\n",
    "total_users = len(User)\n",
    "\n",
    "retention_rate = (retained_users / total_users) * 100\n",
    "print(\"Tỷ lệ giữ chân người dùng: {:.2f}%\".format(retention_rate))\n"
   ]
  },
  {
   "attachments": {},
   "cell_type": "markdown",
   "metadata": {},
   "source": [
    "# Part 3\n"
   ]
  },
  {
   "attachments": {},
   "cell_type": "markdown",
   "metadata": {},
   "source": [
    "2,"
   ]
  },
  {
   "cell_type": "code",
   "execution_count": 56,
   "metadata": {},
   "outputs": [
    {
     "data": {
      "text/html": [
       "<div>\n",
       "<style scoped>\n",
       "    .dataframe tbody tr th:only-of-type {\n",
       "        vertical-align: middle;\n",
       "    }\n",
       "\n",
       "    .dataframe tbody tr th {\n",
       "        vertical-align: top;\n",
       "    }\n",
       "\n",
       "    .dataframe thead th {\n",
       "        text-align: right;\n",
       "    }\n",
       "</style>\n",
       "<table border=\"1\" class=\"dataframe\">\n",
       "  <thead>\n",
       "    <tr style=\"text-align: right;\">\n",
       "      <th></th>\n",
       "      <th>User_id</th>\n",
       "      <th>Order_id</th>\n",
       "      <th>DATE</th>\n",
       "      <th>GMV</th>\n",
       "      <th>Service Group</th>\n",
       "      <th>MerchantID</th>\n",
       "      <th>Loyalty Points</th>\n",
       "    </tr>\n",
       "  </thead>\n",
       "  <tbody>\n",
       "    <tr>\n",
       "      <th>0</th>\n",
       "      <td>61386143</td>\n",
       "      <td>8733622706</td>\n",
       "      <td>2021-01-01</td>\n",
       "      <td>100000</td>\n",
       "      <td>marketplace</td>\n",
       "      <td>37</td>\n",
       "      <td>0</td>\n",
       "    </tr>\n",
       "    <tr>\n",
       "      <th>1</th>\n",
       "      <td>48453125</td>\n",
       "      <td>8726857991</td>\n",
       "      <td>2021-01-01</td>\n",
       "      <td>5000</td>\n",
       "      <td>supermarket</td>\n",
       "      <td>9</td>\n",
       "      <td>0</td>\n",
       "    </tr>\n",
       "    <tr>\n",
       "      <th>2</th>\n",
       "      <td>49921027</td>\n",
       "      <td>8737326894</td>\n",
       "      <td>2021-01-01</td>\n",
       "      <td>106600</td>\n",
       "      <td>supermarket</td>\n",
       "      <td>9</td>\n",
       "      <td>0</td>\n",
       "    </tr>\n",
       "    <tr>\n",
       "      <th>3</th>\n",
       "      <td>46022523</td>\n",
       "      <td>8732579078</td>\n",
       "      <td>2021-01-01</td>\n",
       "      <td>270000</td>\n",
       "      <td>supermarket</td>\n",
       "      <td>9</td>\n",
       "      <td>0</td>\n",
       "    </tr>\n",
       "    <tr>\n",
       "      <th>4</th>\n",
       "      <td>44014594</td>\n",
       "      <td>8725567343</td>\n",
       "      <td>2021-01-01</td>\n",
       "      <td>68000</td>\n",
       "      <td>cvs</td>\n",
       "      <td>8</td>\n",
       "      <td>0</td>\n",
       "    </tr>\n",
       "  </tbody>\n",
       "</table>\n",
       "</div>"
      ],
      "text/plain": [
       "    User_id    Order_id       DATE     GMV Service Group MerchantID  \\\n",
       "0  61386143  8733622706 2021-01-01  100000   marketplace         37   \n",
       "1  48453125  8726857991 2021-01-01    5000   supermarket          9   \n",
       "2  49921027  8737326894 2021-01-01  106600   supermarket          9   \n",
       "3  46022523  8732579078 2021-01-01  270000   supermarket          9   \n",
       "4  44014594  8725567343 2021-01-01   68000           cvs          8   \n",
       "\n",
       "   Loyalty Points  \n",
       "0               0  \n",
       "1               0  \n",
       "2               0  \n",
       "3               0  \n",
       "4               0  "
      ]
     },
     "execution_count": 56,
     "metadata": {},
     "output_type": "execute_result"
    }
   ],
   "source": [
    "Transactions_p3=Transactions\n",
    "Transactions_p3.head()"
   ]
  },
  {
   "cell_type": "code",
   "execution_count": 57,
   "metadata": {},
   "outputs": [],
   "source": [
    "start_date = pd.to_datetime('2022-03-01')\n",
    "end_date = pd.to_datetime('2022-03-31')\n",
    "Transaction_p3 = Transactions_p3[(Transactions_p3['DATE'] >= start_date) & (Transactions_p3['DATE'] <= end_date)]\n"
   ]
  },
  {
   "cell_type": "code",
   "execution_count": 58,
   "metadata": {},
   "outputs": [],
   "source": [
    "# Transaction_p3.sort_values(['User_id', 'DATE'], inplace=True)"
   ]
  },
  {
   "cell_type": "code",
   "execution_count": 59,
   "metadata": {},
   "outputs": [
    {
     "data": {
      "text/html": [
       "<div>\n",
       "<style scoped>\n",
       "    .dataframe tbody tr th:only-of-type {\n",
       "        vertical-align: middle;\n",
       "    }\n",
       "\n",
       "    .dataframe tbody tr th {\n",
       "        vertical-align: top;\n",
       "    }\n",
       "\n",
       "    .dataframe thead th {\n",
       "        text-align: right;\n",
       "    }\n",
       "</style>\n",
       "<table border=\"1\" class=\"dataframe\">\n",
       "  <thead>\n",
       "    <tr style=\"text-align: right;\">\n",
       "      <th></th>\n",
       "      <th>User_id</th>\n",
       "      <th>Order_id</th>\n",
       "      <th>DATE</th>\n",
       "      <th>GMV</th>\n",
       "      <th>Service Group</th>\n",
       "      <th>MerchantID</th>\n",
       "      <th>Loyalty Points</th>\n",
       "    </tr>\n",
       "  </thead>\n",
       "  <tbody>\n",
       "    <tr>\n",
       "      <th>42466</th>\n",
       "      <td>5550592</td>\n",
       "      <td>21535144602</td>\n",
       "      <td>2022-03-01</td>\n",
       "      <td>996000</td>\n",
       "      <td>supermarket</td>\n",
       "      <td>25</td>\n",
       "      <td>500</td>\n",
       "    </tr>\n",
       "    <tr>\n",
       "      <th>42467</th>\n",
       "      <td>43970734</td>\n",
       "      <td>21522629609</td>\n",
       "      <td>2022-03-01</td>\n",
       "      <td>20000</td>\n",
       "      <td>cvs</td>\n",
       "      <td>28</td>\n",
       "      <td>20</td>\n",
       "    </tr>\n",
       "    <tr>\n",
       "      <th>42468</th>\n",
       "      <td>58543493</td>\n",
       "      <td>21535146158</td>\n",
       "      <td>2022-03-01</td>\n",
       "      <td>23000</td>\n",
       "      <td>cvs</td>\n",
       "      <td>28</td>\n",
       "      <td>23</td>\n",
       "    </tr>\n",
       "    <tr>\n",
       "      <th>42469</th>\n",
       "      <td>9658247</td>\n",
       "      <td>21528981744</td>\n",
       "      <td>2022-03-01</td>\n",
       "      <td>31000</td>\n",
       "      <td>cvs</td>\n",
       "      <td>28</td>\n",
       "      <td>31</td>\n",
       "    </tr>\n",
       "    <tr>\n",
       "      <th>42470</th>\n",
       "      <td>58543493</td>\n",
       "      <td>21536659743</td>\n",
       "      <td>2022-03-01</td>\n",
       "      <td>19000</td>\n",
       "      <td>cvs</td>\n",
       "      <td>28</td>\n",
       "      <td>19</td>\n",
       "    </tr>\n",
       "  </tbody>\n",
       "</table>\n",
       "</div>"
      ],
      "text/plain": [
       "        User_id     Order_id       DATE     GMV Service Group MerchantID  \\\n",
       "42466   5550592  21535144602 2022-03-01  996000   supermarket         25   \n",
       "42467  43970734  21522629609 2022-03-01   20000           cvs         28   \n",
       "42468  58543493  21535146158 2022-03-01   23000           cvs         28   \n",
       "42469   9658247  21528981744 2022-03-01   31000           cvs         28   \n",
       "42470  58543493  21536659743 2022-03-01   19000           cvs         28   \n",
       "\n",
       "       Loyalty Points  \n",
       "42466             500  \n",
       "42467              20  \n",
       "42468              23  \n",
       "42469              31  \n",
       "42470              19  "
      ]
     },
     "execution_count": 59,
     "metadata": {},
     "output_type": "execute_result"
    }
   ],
   "source": [
    "Transaction_p3.head()"
   ]
  },
  {
   "cell_type": "code",
   "execution_count": 60,
   "metadata": {},
   "outputs": [],
   "source": [
    "total_point=Transaction_p3.groupby('User_id')['Loyalty Points'].sum().reset_index()\n",
    "total_point.rename(columns={'Loyalty Points':'Total points'},inplace=True)"
   ]
  },
  {
   "cell_type": "code",
   "execution_count": 61,
   "metadata": {},
   "outputs": [
    {
     "data": {
      "text/html": [
       "<div>\n",
       "<style scoped>\n",
       "    .dataframe tbody tr th:only-of-type {\n",
       "        vertical-align: middle;\n",
       "    }\n",
       "\n",
       "    .dataframe tbody tr th {\n",
       "        vertical-align: top;\n",
       "    }\n",
       "\n",
       "    .dataframe thead th {\n",
       "        text-align: right;\n",
       "    }\n",
       "</style>\n",
       "<table border=\"1\" class=\"dataframe\">\n",
       "  <thead>\n",
       "    <tr style=\"text-align: right;\">\n",
       "      <th></th>\n",
       "      <th>User_id</th>\n",
       "      <th>Total points</th>\n",
       "    </tr>\n",
       "  </thead>\n",
       "  <tbody>\n",
       "    <tr>\n",
       "      <th>0</th>\n",
       "      <td>10056218</td>\n",
       "      <td>880</td>\n",
       "    </tr>\n",
       "    <tr>\n",
       "      <th>1</th>\n",
       "      <td>10156282</td>\n",
       "      <td>100</td>\n",
       "    </tr>\n",
       "    <tr>\n",
       "      <th>2</th>\n",
       "      <td>10184635</td>\n",
       "      <td>4000</td>\n",
       "    </tr>\n",
       "    <tr>\n",
       "      <th>3</th>\n",
       "      <td>1018832</td>\n",
       "      <td>2130</td>\n",
       "    </tr>\n",
       "    <tr>\n",
       "      <th>4</th>\n",
       "      <td>10247812</td>\n",
       "      <td>150</td>\n",
       "    </tr>\n",
       "  </tbody>\n",
       "</table>\n",
       "</div>"
      ],
      "text/plain": [
       "    User_id  Total points\n",
       "0  10056218           880\n",
       "1  10156282           100\n",
       "2  10184635          4000\n",
       "3   1018832          2130\n",
       "4  10247812           150"
      ]
     },
     "execution_count": 61,
     "metadata": {},
     "output_type": "execute_result"
    }
   ],
   "source": [
    "total_point.head()"
   ]
  },
  {
   "cell_type": "code",
   "execution_count": 62,
   "metadata": {},
   "outputs": [],
   "source": [
    "total_date=Transaction_p3.groupby('User_id')['DATE'].count().reset_index()          # đếm số lượt giao dịch \n",
    "total_date.rename(columns={'DATE':'Total date'},inplace=True)\n",
    "# total_date=Transaction_p3.groupby('User_id')['DATE'].nunique().reset_index()        # đêm số ngày giao dịch \n",
    "# total_date.rename(columns={'DATE':'Total date'},inplace=True)"
   ]
  },
  {
   "cell_type": "code",
   "execution_count": 63,
   "metadata": {},
   "outputs": [
    {
     "data": {
      "text/html": [
       "<div>\n",
       "<style scoped>\n",
       "    .dataframe tbody tr th:only-of-type {\n",
       "        vertical-align: middle;\n",
       "    }\n",
       "\n",
       "    .dataframe tbody tr th {\n",
       "        vertical-align: top;\n",
       "    }\n",
       "\n",
       "    .dataframe thead th {\n",
       "        text-align: right;\n",
       "    }\n",
       "</style>\n",
       "<table border=\"1\" class=\"dataframe\">\n",
       "  <thead>\n",
       "    <tr style=\"text-align: right;\">\n",
       "      <th></th>\n",
       "      <th>User_id</th>\n",
       "      <th>Total date</th>\n",
       "    </tr>\n",
       "  </thead>\n",
       "  <tbody>\n",
       "    <tr>\n",
       "      <th>0</th>\n",
       "      <td>10056218</td>\n",
       "      <td>6</td>\n",
       "    </tr>\n",
       "    <tr>\n",
       "      <th>1</th>\n",
       "      <td>10156282</td>\n",
       "      <td>1</td>\n",
       "    </tr>\n",
       "    <tr>\n",
       "      <th>2</th>\n",
       "      <td>10184635</td>\n",
       "      <td>26</td>\n",
       "    </tr>\n",
       "    <tr>\n",
       "      <th>3</th>\n",
       "      <td>1018832</td>\n",
       "      <td>6</td>\n",
       "    </tr>\n",
       "    <tr>\n",
       "      <th>4</th>\n",
       "      <td>10247812</td>\n",
       "      <td>1</td>\n",
       "    </tr>\n",
       "  </tbody>\n",
       "</table>\n",
       "</div>"
      ],
      "text/plain": [
       "    User_id  Total date\n",
       "0  10056218           6\n",
       "1  10156282           1\n",
       "2  10184635          26\n",
       "3   1018832           6\n",
       "4  10247812           1"
      ]
     },
     "execution_count": 63,
     "metadata": {},
     "output_type": "execute_result"
    }
   ],
   "source": [
    "total_date.head()"
   ]
  },
  {
   "cell_type": "code",
   "execution_count": 64,
   "metadata": {},
   "outputs": [
    {
     "data": {
      "text/html": [
       "<div>\n",
       "<style scoped>\n",
       "    .dataframe tbody tr th:only-of-type {\n",
       "        vertical-align: middle;\n",
       "    }\n",
       "\n",
       "    .dataframe tbody tr th {\n",
       "        vertical-align: top;\n",
       "    }\n",
       "\n",
       "    .dataframe thead th {\n",
       "        text-align: right;\n",
       "    }\n",
       "</style>\n",
       "<table border=\"1\" class=\"dataframe\">\n",
       "  <thead>\n",
       "    <tr style=\"text-align: right;\">\n",
       "      <th></th>\n",
       "      <th>User_id</th>\n",
       "      <th>Total points</th>\n",
       "      <th>Total date</th>\n",
       "    </tr>\n",
       "  </thead>\n",
       "  <tbody>\n",
       "    <tr>\n",
       "      <th>0</th>\n",
       "      <td>10056218</td>\n",
       "      <td>880</td>\n",
       "      <td>6</td>\n",
       "    </tr>\n",
       "    <tr>\n",
       "      <th>1</th>\n",
       "      <td>10156282</td>\n",
       "      <td>100</td>\n",
       "      <td>1</td>\n",
       "    </tr>\n",
       "    <tr>\n",
       "      <th>2</th>\n",
       "      <td>10184635</td>\n",
       "      <td>4000</td>\n",
       "      <td>26</td>\n",
       "    </tr>\n",
       "    <tr>\n",
       "      <th>3</th>\n",
       "      <td>1018832</td>\n",
       "      <td>2130</td>\n",
       "      <td>6</td>\n",
       "    </tr>\n",
       "    <tr>\n",
       "      <th>4</th>\n",
       "      <td>10247812</td>\n",
       "      <td>150</td>\n",
       "      <td>1</td>\n",
       "    </tr>\n",
       "  </tbody>\n",
       "</table>\n",
       "</div>"
      ],
      "text/plain": [
       "    User_id  Total points  Total date\n",
       "0  10056218           880           6\n",
       "1  10156282           100           1\n",
       "2  10184635          4000          26\n",
       "3   1018832          2130           6\n",
       "4  10247812           150           1"
      ]
     },
     "execution_count": 64,
     "metadata": {},
     "output_type": "execute_result"
    }
   ],
   "source": [
    "user=total_point.merge(total_date,on='User_id',how='outer')\n",
    "user.head()"
   ]
  },
  {
   "cell_type": "code",
   "execution_count": 65,
   "metadata": {},
   "outputs": [
    {
     "name": "stdout",
     "output_type": "stream",
     "text": [
      "Có 13 người chiến thắng trong ba mươi ngày qua theo dữ liệu đã cho\n"
     ]
    },
    {
     "data": {
      "text/html": [
       "<div>\n",
       "<style scoped>\n",
       "    .dataframe tbody tr th:only-of-type {\n",
       "        vertical-align: middle;\n",
       "    }\n",
       "\n",
       "    .dataframe tbody tr th {\n",
       "        vertical-align: top;\n",
       "    }\n",
       "\n",
       "    .dataframe thead th {\n",
       "        text-align: right;\n",
       "    }\n",
       "</style>\n",
       "<table border=\"1\" class=\"dataframe\">\n",
       "  <thead>\n",
       "    <tr style=\"text-align: right;\">\n",
       "      <th></th>\n",
       "      <th>User_id</th>\n",
       "      <th>Total points</th>\n",
       "      <th>Total date</th>\n",
       "    </tr>\n",
       "  </thead>\n",
       "  <tbody>\n",
       "    <tr>\n",
       "      <th>560</th>\n",
       "      <td>39314846</td>\n",
       "      <td>7368</td>\n",
       "      <td>29</td>\n",
       "    </tr>\n",
       "    <tr>\n",
       "      <th>884</th>\n",
       "      <td>43160536</td>\n",
       "      <td>7118</td>\n",
       "      <td>20</td>\n",
       "    </tr>\n",
       "    <tr>\n",
       "      <th>1028</th>\n",
       "      <td>44850195</td>\n",
       "      <td>5712</td>\n",
       "      <td>26</td>\n",
       "    </tr>\n",
       "    <tr>\n",
       "      <th>1076</th>\n",
       "      <td>45426067</td>\n",
       "      <td>5471</td>\n",
       "      <td>29</td>\n",
       "    </tr>\n",
       "    <tr>\n",
       "      <th>1232</th>\n",
       "      <td>47662326</td>\n",
       "      <td>40090</td>\n",
       "      <td>101</td>\n",
       "    </tr>\n",
       "    <tr>\n",
       "      <th>1361</th>\n",
       "      <td>49689927</td>\n",
       "      <td>9100</td>\n",
       "      <td>54</td>\n",
       "    </tr>\n",
       "    <tr>\n",
       "      <th>1402</th>\n",
       "      <td>50185392</td>\n",
       "      <td>25985</td>\n",
       "      <td>80</td>\n",
       "    </tr>\n",
       "    <tr>\n",
       "      <th>1469</th>\n",
       "      <td>51432947</td>\n",
       "      <td>16089</td>\n",
       "      <td>62</td>\n",
       "    </tr>\n",
       "    <tr>\n",
       "      <th>1671</th>\n",
       "      <td>54788782</td>\n",
       "      <td>5350</td>\n",
       "      <td>26</td>\n",
       "    </tr>\n",
       "    <tr>\n",
       "      <th>1683</th>\n",
       "      <td>54960619</td>\n",
       "      <td>42600</td>\n",
       "      <td>102</td>\n",
       "    </tr>\n",
       "    <tr>\n",
       "      <th>1699</th>\n",
       "      <td>55200938</td>\n",
       "      <td>7528</td>\n",
       "      <td>53</td>\n",
       "    </tr>\n",
       "    <tr>\n",
       "      <th>1713</th>\n",
       "      <td>55443594</td>\n",
       "      <td>9714</td>\n",
       "      <td>32</td>\n",
       "    </tr>\n",
       "    <tr>\n",
       "      <th>1782</th>\n",
       "      <td>57207697</td>\n",
       "      <td>16752</td>\n",
       "      <td>42</td>\n",
       "    </tr>\n",
       "  </tbody>\n",
       "</table>\n",
       "</div>"
      ],
      "text/plain": [
       "       User_id  Total points  Total date\n",
       "560   39314846          7368          29\n",
       "884   43160536          7118          20\n",
       "1028  44850195          5712          26\n",
       "1076  45426067          5471          29\n",
       "1232  47662326         40090         101\n",
       "1361  49689927          9100          54\n",
       "1402  50185392         25985          80\n",
       "1469  51432947         16089          62\n",
       "1671  54788782          5350          26\n",
       "1683  54960619         42600         102\n",
       "1699  55200938          7528          53\n",
       "1713  55443594          9714          32\n",
       "1782  57207697         16752          42"
      ]
     },
     "execution_count": 65,
     "metadata": {},
     "output_type": "execute_result"
    }
   ],
   "source": [
    "USER=user[(user['Total points']>=5000) & (user['Total date']>=20)]\n",
    "print('Có {} người chiến thắng trong ba mươi ngày qua theo dữ liệu đã cho'.format(len(USER)))\n",
    "USER"
   ]
  },
  {
   "cell_type": "code",
   "execution_count": 66,
   "metadata": {},
   "outputs": [
    {
     "name": "stdout",
     "output_type": "stream",
     "text": [
      "(Những) người có kỷ lục dài nhất trong thời gian đó :54960619,"
     ]
    }
   ],
   "source": [
    "\n",
    "def user_max(df):\n",
    "    max=df['Total date'].max()\n",
    "    print('(Những) người có kỷ lục dài nhất trong thời gian đó :',end='')\n",
    "    for index,row in df.iterrows():\n",
    "        if row['Total date']==max:\n",
    "            print(row['User_id'],end=',')\n",
    "user_max(USER)\n",
    "        "
   ]
  },
  {
   "cell_type": "code",
   "execution_count": 72,
   "metadata": {},
   "outputs": [
    {
     "name": "stdout",
     "output_type": "stream",
     "text": [
      "Số người chiến thắng trong 30 ngày qua: 0\n",
      "Người dùng có kỷ lục dài nhất: ['61281293']\n"
     ]
    }
   ],
   "source": [
    "# đếm số ngày giao dịch liên tiếp \n",
    "winning_users = []\n",
    "longest_streak_users = []\n",
    "current_streak = 0\n",
    "max_streak = 0\n",
    "current_user = None\n",
    "prev_date = None\n",
    "start_date = pd.to_datetime('2022-03-01')\n",
    "end_date = pd.to_datetime('2022-03-31')\n",
    "\n",
    "filtered_transactions = Transactions_p3[(Transactions_p3['DATE'] >= start_date) & (Transactions_p3['DATE'] <= end_date)].copy()\n",
    "filtered_transactions.sort_values(['User_id', 'DATE'], inplace=True)\n",
    "\n",
    "for i, row in filtered_transactions.iterrows():\n",
    "    if current_user != row['User_id']:\n",
    "        if current_streak >= 20 and total_points >= 5000:\n",
    "            winning_users.append(current_user)\n",
    "        if current_streak > max_streak:\n",
    "            longest_streak_users = [current_user]\n",
    "            max_streak = current_streak\n",
    "        elif current_streak == max_streak:\n",
    "            longest_streak_users.append(current_user)\n",
    "\n",
    "        current_user = row['User_id']\n",
    "        current_streak = 1\n",
    "        total_points = row['Loyalty Points']\n",
    "    else:\n",
    "        if (row['DATE'] - prev_date).days == 1:\n",
    "            current_streak += 1\n",
    "            total_points += row['Loyalty Points']\n",
    "        else:\n",
    "            current_streak = 1\n",
    "            total_points = row['Loyalty Points']\n",
    "    prev_date = row['DATE']\n",
    "\n",
    "if current_streak >= 20 and total_points >= 5000:\n",
    "    winning_users.append(current_user)\n",
    "if current_streak > max_streak:\n",
    "    longest_streak_users = [current_user]\n",
    "    max_streak = current_streak\n",
    "elif current_streak == max_streak:\n",
    "    longest_streak_users.append(current_user)\n",
    "\n",
    "num_winners = len(winning_users)\n",
    "\n",
    "print(\"Số người chiến thắng trong 30 ngày qua:\", num_winners)\n",
    "print(\"Người dùng có kỷ lục dài nhất:\", longest_streak_users)\n"
   ]
  },
  {
   "attachments": {},
   "cell_type": "markdown",
   "metadata": {},
   "source": [
    "# Plot"
   ]
  },
  {
   "cell_type": "code",
   "execution_count": 68,
   "metadata": {},
   "outputs": [
    {
     "data": {
      "image/png": "[encoded data removed]",
      "text/plain": [
       "<Figure size 800x500 with 1 Axes>"
      ]
     },
     "metadata": {},
     "output_type": "display_data"
    }
   ],
   "source": [
    "fig,ax=plt.subplots(figsize=(8,5))\n",
    "sns.countplot(data=Loyalty_Ranking,x='Rank_name')\n",
    "ax.set(title=\"Distribute\");"
   ]
  },
  {
   "cell_type": "code",
   "execution_count": 69,
   "metadata": {},
   "outputs": [
    {
     "data": {
      "image/png": "[encoded data removed]",
      "text/plain": [
       "<Figure size 800x500 with 1 Axes>"
      ]
     },
     "metadata": {},
     "output_type": "display_data"
    }
   ],
   "source": [
    "fig, ax = plt.subplots(figsize=(8,5))\n",
    "ax=sns.histplot(data=Loyalty_Ranking, x=Loyalty_Ranking['Calculated_points'], kde=True, color='#5f9ea0')\n",
    "ax.axvline(np.percentile(Loyalty_Ranking['Calculated_points'], 25), color=\"blue\", linestyle=\"--\")\n",
    "ax.axvline(np.percentile(Loyalty_Ranking['Calculated_points'], 50), color=\"blue\", linestyle=\"--\")\n",
    "ax.axvline(np.percentile(Loyalty_Ranking['Calculated_points'], 75), color=\"blue\", linestyle=\"--\")\n",
    "plt.xlim(0, 5000)\n",
    "\n",
    "# vẽ các đường lưới ngang trên trục y của đồ thị.\n",
    "ax.yaxis.grid(color='gray', linestyle='dashed')\n",
    "# bỏ đường kẻ ở trên và bên phải chart\n",
    "spines = ['top', 'right']\n",
    "for s in spines:\n",
    "    ax.spines[s].set_visible(False) \n",
    "    \n",
    "# bỏ dấu tích ở  trục y\n",
    "ax.tick_params(left=False) \n",
    "\n",
    "plt.suptitle('Distribution of Point', fontweight='bold', size=14, horizontalalignment='center')\n",
    "plt.show();"
   ]
  },
  {
   "cell_type": "code",
   "execution_count": 70,
   "metadata": {},
   "outputs": [
    {
     "data": {
      "text/plain": [
       "count     1952.000000\n",
       "mean       728.445697\n",
       "std       1755.278325\n",
       "min          1.000000\n",
       "25%        108.000000\n",
       "50%        337.000000\n",
       "75%        900.000000\n",
       "max      42600.000000\n",
       "Name: Calculated_points, dtype: float64"
      ]
     },
     "execution_count": 70,
     "metadata": {},
     "output_type": "execute_result"
    }
   ],
   "source": [
    "Loyalty_Ranking['Calculated_points'].describe()"
   ]
  },
  {
   "cell_type": "code",
   "execution_count": 71,
   "metadata": {},
   "outputs": [
    {
     "data": {
      "image/png": "[encoded data removed]",
      "text/plain": [
       "<Figure size 640x480 with 1 Axes>"
      ]
     },
     "metadata": {},
     "output_type": "display_data"
    }
   ],
   "source": [
    "sns.boxplot(y=Loyalty_Ranking['Calculated_points']);"
   ]
  }
 ],
 "metadata": {
  "kernelspec": {
   "display_name": "base",
   "language": "python",
   "name": "python3"
  },
  "language_info": {
   "codemirror_mode": {
    "name": "ipython",
    "version": 3
   },
   "file_extension": ".py",
   "mimetype": "text/x-python",
   "name": "python",
   "nbconvert_exporter": "python",
   "pygments_lexer": "ipython3",
   "version": "3.10.9"
  },
  "orig_nbformat": 4
 },
 "nbformat": 4,
 "nbformat_minor": 2
}

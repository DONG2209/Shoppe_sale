{
 "cells": [
  {
   "cell_type": "code",
   "execution_count": 1,
   "metadata": {},
   "outputs": [],
   "source": [
    "import numpy as np\n",
    "import pandas as pd\n",
    "import matplotlib.pyplot as plt\n",
    "import seaborn as sns\n",
    "import datetime"
   ]
  },
  {
   "cell_type": "code",
   "execution_count": 2,
   "metadata": {},
   "outputs": [],
   "source": [
    "Transactions=pd.read_excel('2022 Case challenge_ DA update.xlsx',sheet_name='Data. Transactions')"
   ]
  },
  {
   "cell_type": "code",
   "execution_count": 3,
   "metadata": {},
   "outputs": [],
   "source": [
    "Transactions=Transactions[['User_id','Order_id','DATE','GMV','Service Group','MerchantID']]\n"
   ]
  },
  {
   "cell_type": "code",
   "execution_count": 4,
   "metadata": {},
   "outputs": [],
   "source": [
    "Transactions['User_id']=Transactions['User_id'].astype(str)\n",
    "Transactions['Order_id']=Transactions['Order_id'].astype(str)\n",
    "Transactions['MerchantID']=Transactions['MerchantID'].astype(str)"
   ]
  },
  {
   "cell_type": "code",
   "execution_count": 5,
   "metadata": {},
   "outputs": [
    {
     "data": {
      "text/html": [
       "<div>\n",
       "<style scoped>\n",
       "    .dataframe tbody tr th:only-of-type {\n",
       "        vertical-align: middle;\n",
       "    }\n",
       "\n",
       "    .dataframe tbody tr th {\n",
       "        vertical-align: top;\n",
       "    }\n",
       "\n",
       "    .dataframe thead th {\n",
       "        text-align: right;\n",
       "    }\n",
       "</style>\n",
       "<table border=\"1\" class=\"dataframe\">\n",
       "  <thead>\n",
       "    <tr style=\"text-align: right;\">\n",
       "      <th></th>\n",
       "      <th>User_id</th>\n",
       "      <th>Order_id</th>\n",
       "      <th>DATE</th>\n",
       "      <th>GMV</th>\n",
       "      <th>Service Group</th>\n",
       "      <th>MerchantID</th>\n",
       "    </tr>\n",
       "  </thead>\n",
       "  <tbody>\n",
       "    <tr>\n",
       "      <th>0</th>\n",
       "      <td>61386143</td>\n",
       "      <td>8733622706</td>\n",
       "      <td>2021-01-01</td>\n",
       "      <td>100000</td>\n",
       "      <td>marketplace</td>\n",
       "      <td>37</td>\n",
       "    </tr>\n",
       "    <tr>\n",
       "      <th>1</th>\n",
       "      <td>48453125</td>\n",
       "      <td>8726857991</td>\n",
       "      <td>2021-01-01</td>\n",
       "      <td>5000</td>\n",
       "      <td>supermarket</td>\n",
       "      <td>9</td>\n",
       "    </tr>\n",
       "    <tr>\n",
       "      <th>2</th>\n",
       "      <td>49921027</td>\n",
       "      <td>8737326894</td>\n",
       "      <td>2021-01-01</td>\n",
       "      <td>106600</td>\n",
       "      <td>supermarket</td>\n",
       "      <td>9</td>\n",
       "    </tr>\n",
       "    <tr>\n",
       "      <th>3</th>\n",
       "      <td>46022523</td>\n",
       "      <td>8732579078</td>\n",
       "      <td>2021-01-01</td>\n",
       "      <td>270000</td>\n",
       "      <td>supermarket</td>\n",
       "      <td>9</td>\n",
       "    </tr>\n",
       "    <tr>\n",
       "      <th>4</th>\n",
       "      <td>44014594</td>\n",
       "      <td>8725567343</td>\n",
       "      <td>2021-01-01</td>\n",
       "      <td>68000</td>\n",
       "      <td>cvs</td>\n",
       "      <td>8</td>\n",
       "    </tr>\n",
       "  </tbody>\n",
       "</table>\n",
       "</div>"
      ],
      "text/plain": [
       "    User_id    Order_id       DATE     GMV Service Group MerchantID\n",
       "0  61386143  8733622706 2021-01-01  100000   marketplace         37\n",
       "1  48453125  8726857991 2021-01-01    5000   supermarket          9\n",
       "2  49921027  8737326894 2021-01-01  106600   supermarket          9\n",
       "3  46022523  8732579078 2021-01-01  270000   supermarket          9\n",
       "4  44014594  8725567343 2021-01-01   68000           cvs          8"
      ]
     },
     "execution_count": 5,
     "metadata": {},
     "output_type": "execute_result"
    }
   ],
   "source": [
    "Transactions.head()"
   ]
  },
  {
   "cell_type": "code",
   "execution_count": 6,
   "metadata": {},
   "outputs": [
    {
     "name": "stdout",
     "output_type": "stream",
     "text": [
      "Tổng tiền :7,561,407,694 VND\n"
     ]
    }
   ],
   "source": [
    "Total_GMV=Transactions['GMV'].sum()\n",
    "print('Tổng tiền :{:,.0f}'.format(Total_GMV)+' VND')\n"
   ]
  },
  {
   "cell_type": "code",
   "execution_count": 7,
   "metadata": {},
   "outputs": [],
   "source": [
    "Loyalty_Points=pd.read_excel('2022 Case challenge_ DA update.xlsx',sheet_name='Data. Loyalty Points')"
   ]
  },
  {
   "cell_type": "code",
   "execution_count": 8,
   "metadata": {},
   "outputs": [
    {
     "data": {
      "text/html": [
       "<div>\n",
       "<style scoped>\n",
       "    .dataframe tbody tr th:only-of-type {\n",
       "        vertical-align: middle;\n",
       "    }\n",
       "\n",
       "    .dataframe tbody tr th {\n",
       "        vertical-align: top;\n",
       "    }\n",
       "\n",
       "    .dataframe thead th {\n",
       "        text-align: right;\n",
       "    }\n",
       "</style>\n",
       "<table border=\"1\" class=\"dataframe\">\n",
       "  <thead>\n",
       "    <tr style=\"text-align: right;\">\n",
       "      <th></th>\n",
       "      <th>Service Group</th>\n",
       "      <th>Point Mechanism</th>\n",
       "      <th>Maximum Point Per Trans</th>\n",
       "    </tr>\n",
       "  </thead>\n",
       "  <tbody>\n",
       "    <tr>\n",
       "      <th>0</th>\n",
       "      <td>supermarket</td>\n",
       "      <td>1 points/1000VND GMV</td>\n",
       "      <td>500 points</td>\n",
       "    </tr>\n",
       "    <tr>\n",
       "      <th>1</th>\n",
       "      <td>data</td>\n",
       "      <td>10 points/1000VND GMV</td>\n",
       "      <td>1000 points</td>\n",
       "    </tr>\n",
       "    <tr>\n",
       "      <th>2</th>\n",
       "      <td>cvs</td>\n",
       "      <td>1 points/1000VND GMV</td>\n",
       "      <td>300 points</td>\n",
       "    </tr>\n",
       "    <tr>\n",
       "      <th>3</th>\n",
       "      <td>marketplace</td>\n",
       "      <td>1 points/1000VND GMV</td>\n",
       "      <td>500 points</td>\n",
       "    </tr>\n",
       "    <tr>\n",
       "      <th>4</th>\n",
       "      <td>Coffee chains and Milk tea</td>\n",
       "      <td>1 points/1000VND GMV</td>\n",
       "      <td>500 points</td>\n",
       "    </tr>\n",
       "    <tr>\n",
       "      <th>5</th>\n",
       "      <td>Offline Beverage</td>\n",
       "      <td>1 points/1000VND GMV</td>\n",
       "      <td>300 points</td>\n",
       "    </tr>\n",
       "  </tbody>\n",
       "</table>\n",
       "</div>"
      ],
      "text/plain": [
       "                Service Group        Point Mechanism Maximum Point Per Trans\n",
       "0                 supermarket   1 points/1000VND GMV              500 points\n",
       "1                        data  10 points/1000VND GMV             1000 points\n",
       "2                         cvs   1 points/1000VND GMV              300 points\n",
       "3                 marketplace   1 points/1000VND GMV              500 points\n",
       "4  Coffee chains and Milk tea   1 points/1000VND GMV              500 points\n",
       "5            Offline Beverage   1 points/1000VND GMV              300 points"
      ]
     },
     "execution_count": 8,
     "metadata": {},
     "output_type": "execute_result"
    }
   ],
   "source": [
    "Loyalty_Points"
   ]
  },
  {
   "cell_type": "code",
   "execution_count": 9,
   "metadata": {},
   "outputs": [],
   "source": [
    "Loyalty_Benefits=pd.read_excel('2022 Case challenge_ DA update.xlsx',sheet_name='Data. Loyalty benefits')"
   ]
  },
  {
   "cell_type": "code",
   "execution_count": 10,
   "metadata": {},
   "outputs": [
    {
     "data": {
      "text/html": [
       "<div>\n",
       "<style scoped>\n",
       "    .dataframe tbody tr th:only-of-type {\n",
       "        vertical-align: middle;\n",
       "    }\n",
       "\n",
       "    .dataframe tbody tr th {\n",
       "        vertical-align: top;\n",
       "    }\n",
       "\n",
       "    .dataframe thead th {\n",
       "        text-align: right;\n",
       "    }\n",
       "</style>\n",
       "<table border=\"1\" class=\"dataframe\">\n",
       "  <thead>\n",
       "    <tr style=\"text-align: right;\">\n",
       "      <th></th>\n",
       "      <th>Class ID</th>\n",
       "      <th>Group</th>\n",
       "      <th>%cashback</th>\n",
       "    </tr>\n",
       "  </thead>\n",
       "  <tbody>\n",
       "    <tr>\n",
       "      <th>0</th>\n",
       "      <td>2</td>\n",
       "      <td>cvs</td>\n",
       "      <td>5</td>\n",
       "    </tr>\n",
       "    <tr>\n",
       "      <th>1</th>\n",
       "      <td>2</td>\n",
       "      <td>Offline Beverage</td>\n",
       "      <td>5</td>\n",
       "    </tr>\n",
       "    <tr>\n",
       "      <th>2</th>\n",
       "      <td>2</td>\n",
       "      <td>data</td>\n",
       "      <td>5</td>\n",
       "    </tr>\n",
       "    <tr>\n",
       "      <th>3</th>\n",
       "      <td>3</td>\n",
       "      <td>cvs</td>\n",
       "      <td>7</td>\n",
       "    </tr>\n",
       "    <tr>\n",
       "      <th>4</th>\n",
       "      <td>3</td>\n",
       "      <td>Offline Beverage</td>\n",
       "      <td>7</td>\n",
       "    </tr>\n",
       "    <tr>\n",
       "      <th>5</th>\n",
       "      <td>3</td>\n",
       "      <td>data</td>\n",
       "      <td>7</td>\n",
       "    </tr>\n",
       "    <tr>\n",
       "      <th>6</th>\n",
       "      <td>3</td>\n",
       "      <td>marketplace</td>\n",
       "      <td>2</td>\n",
       "    </tr>\n",
       "    <tr>\n",
       "      <th>7</th>\n",
       "      <td>3</td>\n",
       "      <td>supermarket</td>\n",
       "      <td>2</td>\n",
       "    </tr>\n",
       "    <tr>\n",
       "      <th>8</th>\n",
       "      <td>4</td>\n",
       "      <td>cvs</td>\n",
       "      <td>12</td>\n",
       "    </tr>\n",
       "    <tr>\n",
       "      <th>9</th>\n",
       "      <td>4</td>\n",
       "      <td>Offline Beverage</td>\n",
       "      <td>12</td>\n",
       "    </tr>\n",
       "    <tr>\n",
       "      <th>10</th>\n",
       "      <td>4</td>\n",
       "      <td>data</td>\n",
       "      <td>12</td>\n",
       "    </tr>\n",
       "    <tr>\n",
       "      <th>11</th>\n",
       "      <td>4</td>\n",
       "      <td>marketplace</td>\n",
       "      <td>5</td>\n",
       "    </tr>\n",
       "    <tr>\n",
       "      <th>12</th>\n",
       "      <td>4</td>\n",
       "      <td>supermarket</td>\n",
       "      <td>5</td>\n",
       "    </tr>\n",
       "  </tbody>\n",
       "</table>\n",
       "</div>"
      ],
      "text/plain": [
       "   Class ID             Group  %cashback\n",
       "0         2               cvs          5\n",
       "1         2  Offline Beverage          5\n",
       "2         2              data          5\n",
       "3         3               cvs          7\n",
       "4         3  Offline Beverage          7\n",
       "5         3              data          7\n",
       "6         3       marketplace          2\n",
       "7         3       supermarket          2\n",
       "8         4               cvs         12\n",
       "9         4  Offline Beverage         12\n",
       "10        4              data         12\n",
       "11        4       marketplace          5\n",
       "12        4       supermarket          5"
      ]
     },
     "execution_count": 10,
     "metadata": {},
     "output_type": "execute_result"
    }
   ],
   "source": [
    "Loyalty_Benefits['Class ID']=Loyalty_Benefits['Class ID'].astype(str)\n",
    "Loyalty_Benefits"
   ]
  },
  {
   "cell_type": "code",
   "execution_count": 11,
   "metadata": {},
   "outputs": [],
   "source": [
    "# Loyalty_Benefits.dtypes"
   ]
  },
  {
   "attachments": {},
   "cell_type": "markdown",
   "metadata": {},
   "source": [
    "# Part 1"
   ]
  },
  {
   "attachments": {},
   "cell_type": "markdown",
   "metadata": {},
   "source": [
    "1,"
   ]
  },
  {
   "cell_type": "code",
   "execution_count": 12,
   "metadata": {},
   "outputs": [
    {
     "name": "stderr",
     "output_type": "stream",
     "text": [
      "C:\\Users\\ACER\\AppData\\Local\\Temp\\ipykernel_29680\\1909542948.py:2: SettingWithCopyWarning: \n",
      "A value is trying to be set on a copy of a slice from a DataFrame.\n",
      "Try using .loc[row_indexer,col_indexer] = value instead\n",
      "\n",
      "See the caveats in the documentation: https://pandas.pydata.org/pandas-docs/stable/user_guide/indexing.html#returning-a-view-versus-a-copy\n",
      "  new_Loyalty_Points['Maximum Point Per Trans']=new_Loyalty_Points['Maximum Point Per Trans'].apply(lambda x: x.split(' ')[0])\n"
     ]
    }
   ],
   "source": [
    "new_Loyalty_Points=Loyalty_Points[['Service Group','Maximum Point Per Trans']]\n",
    "new_Loyalty_Points['Maximum Point Per Trans']=new_Loyalty_Points['Maximum Point Per Trans'].apply(lambda x: x.split(' ')[0])\n",
    "Transactions=Transactions.merge(new_Loyalty_Points,on='Service Group',how='left')"
   ]
  },
  {
   "cell_type": "code",
   "execution_count": 13,
   "metadata": {},
   "outputs": [],
   "source": [
    "Transactions['Loyalty Points 1'] = Transactions.apply(lambda row: int(row['GMV'] / 1000 * 10) if row['Service Group'] == 'data'\n",
    "                                                       else int(row['GMV'] / 1000 * 1), axis=1)\n"
   ]
  },
  {
   "cell_type": "code",
   "execution_count": 14,
   "metadata": {},
   "outputs": [
    {
     "data": {
      "text/html": [
       "<div>\n",
       "<style scoped>\n",
       "    .dataframe tbody tr th:only-of-type {\n",
       "        vertical-align: middle;\n",
       "    }\n",
       "\n",
       "    .dataframe tbody tr th {\n",
       "        vertical-align: top;\n",
       "    }\n",
       "\n",
       "    .dataframe thead th {\n",
       "        text-align: right;\n",
       "    }\n",
       "</style>\n",
       "<table border=\"1\" class=\"dataframe\">\n",
       "  <thead>\n",
       "    <tr style=\"text-align: right;\">\n",
       "      <th></th>\n",
       "      <th>User_id</th>\n",
       "      <th>Order_id</th>\n",
       "      <th>DATE</th>\n",
       "      <th>GMV</th>\n",
       "      <th>Service Group</th>\n",
       "      <th>MerchantID</th>\n",
       "      <th>Maximum Point Per Trans</th>\n",
       "      <th>Loyalty Points 1</th>\n",
       "    </tr>\n",
       "  </thead>\n",
       "  <tbody>\n",
       "    <tr>\n",
       "      <th>0</th>\n",
       "      <td>61386143</td>\n",
       "      <td>8733622706</td>\n",
       "      <td>2021-01-01</td>\n",
       "      <td>100000</td>\n",
       "      <td>marketplace</td>\n",
       "      <td>37</td>\n",
       "      <td>500</td>\n",
       "      <td>100</td>\n",
       "    </tr>\n",
       "    <tr>\n",
       "      <th>1</th>\n",
       "      <td>48453125</td>\n",
       "      <td>8726857991</td>\n",
       "      <td>2021-01-01</td>\n",
       "      <td>5000</td>\n",
       "      <td>supermarket</td>\n",
       "      <td>9</td>\n",
       "      <td>500</td>\n",
       "      <td>5</td>\n",
       "    </tr>\n",
       "    <tr>\n",
       "      <th>2</th>\n",
       "      <td>49921027</td>\n",
       "      <td>8737326894</td>\n",
       "      <td>2021-01-01</td>\n",
       "      <td>106600</td>\n",
       "      <td>supermarket</td>\n",
       "      <td>9</td>\n",
       "      <td>500</td>\n",
       "      <td>106</td>\n",
       "    </tr>\n",
       "    <tr>\n",
       "      <th>3</th>\n",
       "      <td>46022523</td>\n",
       "      <td>8732579078</td>\n",
       "      <td>2021-01-01</td>\n",
       "      <td>270000</td>\n",
       "      <td>supermarket</td>\n",
       "      <td>9</td>\n",
       "      <td>500</td>\n",
       "      <td>270</td>\n",
       "    </tr>\n",
       "    <tr>\n",
       "      <th>4</th>\n",
       "      <td>44014594</td>\n",
       "      <td>8725567343</td>\n",
       "      <td>2021-01-01</td>\n",
       "      <td>68000</td>\n",
       "      <td>cvs</td>\n",
       "      <td>8</td>\n",
       "      <td>300</td>\n",
       "      <td>68</td>\n",
       "    </tr>\n",
       "  </tbody>\n",
       "</table>\n",
       "</div>"
      ],
      "text/plain": [
       "    User_id    Order_id       DATE     GMV Service Group MerchantID  \\\n",
       "0  61386143  8733622706 2021-01-01  100000   marketplace         37   \n",
       "1  48453125  8726857991 2021-01-01    5000   supermarket          9   \n",
       "2  49921027  8737326894 2021-01-01  106600   supermarket          9   \n",
       "3  46022523  8732579078 2021-01-01  270000   supermarket          9   \n",
       "4  44014594  8725567343 2021-01-01   68000           cvs          8   \n",
       "\n",
       "  Maximum Point Per Trans  Loyalty Points 1  \n",
       "0                     500               100  \n",
       "1                     500                 5  \n",
       "2                     500               106  \n",
       "3                     500               270  \n",
       "4                     300                68  "
      ]
     },
     "execution_count": 14,
     "metadata": {},
     "output_type": "execute_result"
    }
   ],
   "source": [
    "Transactions.head()"
   ]
  },
  {
   "cell_type": "code",
   "execution_count": 15,
   "metadata": {},
   "outputs": [],
   "source": [
    "Transactions['Maximum Point Per Trans']=Transactions['Maximum Point Per Trans'].astype(int)"
   ]
  },
  {
   "cell_type": "code",
   "execution_count": 16,
   "metadata": {},
   "outputs": [],
   "source": [
    "Transactions['Loyalty Points']=Transactions.apply(lambda row : row['Loyalty Points 1'] if row['Loyalty Points 1'] < row['Maximum Point Per Trans'] \n",
    "                                                  else row['Maximum Point Per Trans'],axis=1)"
   ]
  },
  {
   "cell_type": "code",
   "execution_count": 17,
   "metadata": {},
   "outputs": [],
   "source": [
    "Transactions.drop(['Maximum Point Per Trans','Loyalty Points 1'],axis=1,inplace=True)"
   ]
  },
  {
   "cell_type": "code",
   "execution_count": 18,
   "metadata": {},
   "outputs": [
    {
     "data": {
      "text/html": [
       "<div>\n",
       "<style scoped>\n",
       "    .dataframe tbody tr th:only-of-type {\n",
       "        vertical-align: middle;\n",
       "    }\n",
       "\n",
       "    .dataframe tbody tr th {\n",
       "        vertical-align: top;\n",
       "    }\n",
       "\n",
       "    .dataframe thead th {\n",
       "        text-align: right;\n",
       "    }\n",
       "</style>\n",
       "<table border=\"1\" class=\"dataframe\">\n",
       "  <thead>\n",
       "    <tr style=\"text-align: right;\">\n",
       "      <th></th>\n",
       "      <th>User_id</th>\n",
       "      <th>Order_id</th>\n",
       "      <th>DATE</th>\n",
       "      <th>GMV</th>\n",
       "      <th>Service Group</th>\n",
       "      <th>MerchantID</th>\n",
       "      <th>Loyalty Points</th>\n",
       "    </tr>\n",
       "  </thead>\n",
       "  <tbody>\n",
       "    <tr>\n",
       "      <th>0</th>\n",
       "      <td>61386143</td>\n",
       "      <td>8733622706</td>\n",
       "      <td>2021-01-01</td>\n",
       "      <td>100000</td>\n",
       "      <td>marketplace</td>\n",
       "      <td>37</td>\n",
       "      <td>100</td>\n",
       "    </tr>\n",
       "    <tr>\n",
       "      <th>1</th>\n",
       "      <td>48453125</td>\n",
       "      <td>8726857991</td>\n",
       "      <td>2021-01-01</td>\n",
       "      <td>5000</td>\n",
       "      <td>supermarket</td>\n",
       "      <td>9</td>\n",
       "      <td>5</td>\n",
       "    </tr>\n",
       "    <tr>\n",
       "      <th>2</th>\n",
       "      <td>49921027</td>\n",
       "      <td>8737326894</td>\n",
       "      <td>2021-01-01</td>\n",
       "      <td>106600</td>\n",
       "      <td>supermarket</td>\n",
       "      <td>9</td>\n",
       "      <td>106</td>\n",
       "    </tr>\n",
       "    <tr>\n",
       "      <th>3</th>\n",
       "      <td>46022523</td>\n",
       "      <td>8732579078</td>\n",
       "      <td>2021-01-01</td>\n",
       "      <td>270000</td>\n",
       "      <td>supermarket</td>\n",
       "      <td>9</td>\n",
       "      <td>270</td>\n",
       "    </tr>\n",
       "    <tr>\n",
       "      <th>4</th>\n",
       "      <td>44014594</td>\n",
       "      <td>8725567343</td>\n",
       "      <td>2021-01-01</td>\n",
       "      <td>68000</td>\n",
       "      <td>cvs</td>\n",
       "      <td>8</td>\n",
       "      <td>68</td>\n",
       "    </tr>\n",
       "  </tbody>\n",
       "</table>\n",
       "</div>"
      ],
      "text/plain": [
       "    User_id    Order_id       DATE     GMV Service Group MerchantID  \\\n",
       "0  61386143  8733622706 2021-01-01  100000   marketplace         37   \n",
       "1  48453125  8726857991 2021-01-01    5000   supermarket          9   \n",
       "2  49921027  8737326894 2021-01-01  106600   supermarket          9   \n",
       "3  46022523  8732579078 2021-01-01  270000   supermarket          9   \n",
       "4  44014594  8725567343 2021-01-01   68000           cvs          8   \n",
       "\n",
       "   Loyalty Points  \n",
       "0             100  \n",
       "1               5  \n",
       "2             106  \n",
       "3             270  \n",
       "4              68  "
      ]
     },
     "execution_count": 18,
     "metadata": {},
     "output_type": "execute_result"
    }
   ],
   "source": [
    "Transactions.head()"
   ]
  },
  {
   "cell_type": "code",
   "execution_count": 19,
   "metadata": {},
   "outputs": [],
   "source": [
    "# x=input('nhập date (yyyy-mm-dd):')\n",
    "# current_date = datetime.datetime.strptime(x,'%Y-%m-%d')\n",
    "current_date = datetime.datetime(2022,3,31)\n",
    "days_to_reset = 30\n",
    "reset_date = current_date - datetime.timedelta(days=days_to_reset)\n",
    "# print(reset_date)\n",
    "Transactions.loc[Transactions['DATE'] < reset_date , 'Loyalty Points'] = 0\n"
   ]
  },
  {
   "cell_type": "code",
   "execution_count": 20,
   "metadata": {},
   "outputs": [],
   "source": [
    "Loyalty_Ranking=Transactions.groupby('User_id')['Loyalty Points'].sum().reset_index()"
   ]
  },
  {
   "cell_type": "code",
   "execution_count": 21,
   "metadata": {},
   "outputs": [
    {
     "data": {
      "text/html": [
       "<div>\n",
       "<style scoped>\n",
       "    .dataframe tbody tr th:only-of-type {\n",
       "        vertical-align: middle;\n",
       "    }\n",
       "\n",
       "    .dataframe tbody tr th {\n",
       "        vertical-align: top;\n",
       "    }\n",
       "\n",
       "    .dataframe thead th {\n",
       "        text-align: right;\n",
       "    }\n",
       "</style>\n",
       "<table border=\"1\" class=\"dataframe\">\n",
       "  <thead>\n",
       "    <tr style=\"text-align: right;\">\n",
       "      <th></th>\n",
       "      <th>User_id</th>\n",
       "      <th>Loyalty Points</th>\n",
       "    </tr>\n",
       "  </thead>\n",
       "  <tbody>\n",
       "    <tr>\n",
       "      <th>0</th>\n",
       "      <td>10056218</td>\n",
       "      <td>880</td>\n",
       "    </tr>\n",
       "    <tr>\n",
       "      <th>1</th>\n",
       "      <td>10071920</td>\n",
       "      <td>0</td>\n",
       "    </tr>\n",
       "    <tr>\n",
       "      <th>2</th>\n",
       "      <td>10093330</td>\n",
       "      <td>0</td>\n",
       "    </tr>\n",
       "    <tr>\n",
       "      <th>3</th>\n",
       "      <td>10154027</td>\n",
       "      <td>0</td>\n",
       "    </tr>\n",
       "    <tr>\n",
       "      <th>4</th>\n",
       "      <td>10156282</td>\n",
       "      <td>100</td>\n",
       "    </tr>\n",
       "  </tbody>\n",
       "</table>\n",
       "</div>"
      ],
      "text/plain": [
       "    User_id  Loyalty Points\n",
       "0  10056218             880\n",
       "1  10071920               0\n",
       "2  10093330               0\n",
       "3  10154027               0\n",
       "4  10156282             100"
      ]
     },
     "execution_count": 21,
     "metadata": {},
     "output_type": "execute_result"
    }
   ],
   "source": [
    "Loyalty_Ranking.head()"
   ]
  },
  {
   "cell_type": "code",
   "execution_count": 22,
   "metadata": {},
   "outputs": [],
   "source": [
    "Loyalty_Ranking.drop(Loyalty_Ranking[Loyalty_Ranking['Loyalty Points'] == 0].index, inplace=True)\n"
   ]
  },
  {
   "cell_type": "code",
   "execution_count": 23,
   "metadata": {},
   "outputs": [],
   "source": [
    "Loyalty_Ranking['Rank_name']=Loyalty_Ranking['Loyalty Points'].apply(lambda x: 'DIAMOND' if x>=5000 \n",
    "                                                                     else('GOLD' if x<5000 and x>=2000 \n",
    "                                                                          else('SILVER' if x<2000 and x >=1000 \n",
    "                                                                               else 'STANDARD')))"
   ]
  },
  {
   "cell_type": "code",
   "execution_count": 24,
   "metadata": {},
   "outputs": [],
   "source": [
    "Loyalty_Ranking['Class ID']=Loyalty_Ranking['Rank_name'].apply(lambda x : 1 if x=='STANDARD' \n",
    "                                                               else(2 if x=='SILVER' \n",
    "                                                                    else(3 if x=='GOLD' \n",
    "                                                                         else 4)))"
   ]
  },
  {
   "cell_type": "code",
   "execution_count": 25,
   "metadata": {},
   "outputs": [],
   "source": [
    "Loyalty_Ranking.rename(columns={'Loyalty Points':'Calculated_points'},inplace=True)"
   ]
  },
  {
   "cell_type": "code",
   "execution_count": 26,
   "metadata": {},
   "outputs": [
    {
     "data": {
      "text/html": [
       "<div>\n",
       "<style scoped>\n",
       "    .dataframe tbody tr th:only-of-type {\n",
       "        vertical-align: middle;\n",
       "    }\n",
       "\n",
       "    .dataframe tbody tr th {\n",
       "        vertical-align: top;\n",
       "    }\n",
       "\n",
       "    .dataframe thead th {\n",
       "        text-align: right;\n",
       "    }\n",
       "</style>\n",
       "<table border=\"1\" class=\"dataframe\">\n",
       "  <thead>\n",
       "    <tr style=\"text-align: right;\">\n",
       "      <th></th>\n",
       "      <th>User_id</th>\n",
       "      <th>Calculated_points</th>\n",
       "      <th>Rank_name</th>\n",
       "      <th>Class ID</th>\n",
       "    </tr>\n",
       "  </thead>\n",
       "  <tbody>\n",
       "    <tr>\n",
       "      <th>0</th>\n",
       "      <td>10056218</td>\n",
       "      <td>880</td>\n",
       "      <td>STANDARD</td>\n",
       "      <td>1</td>\n",
       "    </tr>\n",
       "    <tr>\n",
       "      <th>4</th>\n",
       "      <td>10156282</td>\n",
       "      <td>100</td>\n",
       "      <td>STANDARD</td>\n",
       "      <td>1</td>\n",
       "    </tr>\n",
       "    <tr>\n",
       "      <th>6</th>\n",
       "      <td>10184635</td>\n",
       "      <td>4000</td>\n",
       "      <td>GOLD</td>\n",
       "      <td>3</td>\n",
       "    </tr>\n",
       "    <tr>\n",
       "      <th>7</th>\n",
       "      <td>1018832</td>\n",
       "      <td>2130</td>\n",
       "      <td>GOLD</td>\n",
       "      <td>3</td>\n",
       "    </tr>\n",
       "    <tr>\n",
       "      <th>8</th>\n",
       "      <td>10247812</td>\n",
       "      <td>150</td>\n",
       "      <td>STANDARD</td>\n",
       "      <td>1</td>\n",
       "    </tr>\n",
       "  </tbody>\n",
       "</table>\n",
       "</div>"
      ],
      "text/plain": [
       "    User_id  Calculated_points Rank_name  Class ID\n",
       "0  10056218                880  STANDARD         1\n",
       "4  10156282                100  STANDARD         1\n",
       "6  10184635               4000      GOLD         3\n",
       "7   1018832               2130      GOLD         3\n",
       "8  10247812                150  STANDARD         1"
      ]
     },
     "execution_count": 26,
     "metadata": {},
     "output_type": "execute_result"
    }
   ],
   "source": [
    "Loyalty_Ranking.head()"
   ]
  },
  {
   "cell_type": "code",
   "execution_count": 27,
   "metadata": {},
   "outputs": [
    {
     "data": {
      "text/plain": [
       "STANDARD    1512\n",
       "SILVER       301\n",
       "GOLD         125\n",
       "DIAMOND       14\n",
       "Name: Rank_name, dtype: int64"
      ]
     },
     "execution_count": 27,
     "metadata": {},
     "output_type": "execute_result"
    }
   ],
   "source": [
    "Loyalty_Ranking['Rank_name'].value_counts()"
   ]
  },
  {
   "cell_type": "code",
   "execution_count": 28,
   "metadata": {},
   "outputs": [
    {
     "name": "stdout",
     "output_type": "stream",
     "text": [
      "Vào cuối tháng 3 năm 2022, có 125 người dùng đạt được thứ hạng Vàng\n"
     ]
    }
   ],
   "source": [
    "x=Loyalty_Ranking['Rank_name'].value_counts()['GOLD']\n",
    "print('Vào cuối tháng 3 năm 2022, có {} người dùng đạt được thứ hạng Vàng'.format(x))"
   ]
  },
  {
   "cell_type": "code",
   "execution_count": 29,
   "metadata": {},
   "outputs": [],
   "source": [
    "# Loyalty_Ranking.dtypes"
   ]
  },
  {
   "attachments": {},
   "cell_type": "markdown",
   "metadata": {},
   "source": [
    "2,"
   ]
  },
  {
   "cell_type": "code",
   "execution_count": 30,
   "metadata": {},
   "outputs": [],
   "source": [
    "Loyalty_Ranking['Class ID'] = Loyalty_Ranking['Class ID'].astype(str)"
   ]
  },
  {
   "cell_type": "code",
   "execution_count": 31,
   "metadata": {},
   "outputs": [],
   "source": [
    "Transactions.drop(Transactions[Transactions['DATE']<'2022-01-01'].index,inplace=True)"
   ]
  },
  {
   "cell_type": "code",
   "execution_count": 32,
   "metadata": {},
   "outputs": [],
   "source": [
    "Transactions=Transactions.merge(Loyalty_Ranking[['User_id','Class ID']],on='User_id',how='left')"
   ]
  },
  {
   "cell_type": "code",
   "execution_count": 33,
   "metadata": {},
   "outputs": [],
   "source": [
    "# Transactions.dtypes"
   ]
  },
  {
   "cell_type": "code",
   "execution_count": 34,
   "metadata": {},
   "outputs": [],
   "source": [
    "Transactions['Class ID'] = Transactions['Class ID'].fillna('1')\n"
   ]
  },
  {
   "cell_type": "code",
   "execution_count": 35,
   "metadata": {},
   "outputs": [
    {
     "data": {
      "text/html": [
       "<div>\n",
       "<style scoped>\n",
       "    .dataframe tbody tr th:only-of-type {\n",
       "        vertical-align: middle;\n",
       "    }\n",
       "\n",
       "    .dataframe tbody tr th {\n",
       "        vertical-align: top;\n",
       "    }\n",
       "\n",
       "    .dataframe thead th {\n",
       "        text-align: right;\n",
       "    }\n",
       "</style>\n",
       "<table border=\"1\" class=\"dataframe\">\n",
       "  <thead>\n",
       "    <tr style=\"text-align: right;\">\n",
       "      <th></th>\n",
       "      <th>User_id</th>\n",
       "      <th>Order_id</th>\n",
       "      <th>DATE</th>\n",
       "      <th>GMV</th>\n",
       "      <th>Service Group</th>\n",
       "      <th>MerchantID</th>\n",
       "      <th>Loyalty Points</th>\n",
       "      <th>Class ID</th>\n",
       "    </tr>\n",
       "  </thead>\n",
       "  <tbody>\n",
       "    <tr>\n",
       "      <th>0</th>\n",
       "      <td>45715492</td>\n",
       "      <td>19502954801</td>\n",
       "      <td>2022-01-01</td>\n",
       "      <td>41400</td>\n",
       "      <td>supermarket</td>\n",
       "      <td>25</td>\n",
       "      <td>0</td>\n",
       "      <td>3</td>\n",
       "    </tr>\n",
       "    <tr>\n",
       "      <th>1</th>\n",
       "      <td>41720789</td>\n",
       "      <td>19492487660</td>\n",
       "      <td>2022-01-01</td>\n",
       "      <td>205000</td>\n",
       "      <td>cvs</td>\n",
       "      <td>28</td>\n",
       "      <td>0</td>\n",
       "      <td>2</td>\n",
       "    </tr>\n",
       "    <tr>\n",
       "      <th>2</th>\n",
       "      <td>55200938</td>\n",
       "      <td>19491373621</td>\n",
       "      <td>2022-01-01</td>\n",
       "      <td>237000</td>\n",
       "      <td>cvs</td>\n",
       "      <td>28</td>\n",
       "      <td>0</td>\n",
       "      <td>4</td>\n",
       "    </tr>\n",
       "    <tr>\n",
       "      <th>3</th>\n",
       "      <td>17144057</td>\n",
       "      <td>19485025779</td>\n",
       "      <td>2022-01-01</td>\n",
       "      <td>17000</td>\n",
       "      <td>cvs</td>\n",
       "      <td>28</td>\n",
       "      <td>0</td>\n",
       "      <td>1</td>\n",
       "    </tr>\n",
       "    <tr>\n",
       "      <th>4</th>\n",
       "      <td>46410460</td>\n",
       "      <td>19497349350</td>\n",
       "      <td>2022-01-01</td>\n",
       "      <td>340000</td>\n",
       "      <td>marketplace</td>\n",
       "      <td>37</td>\n",
       "      <td>0</td>\n",
       "      <td>1</td>\n",
       "    </tr>\n",
       "  </tbody>\n",
       "</table>\n",
       "</div>"
      ],
      "text/plain": [
       "    User_id     Order_id       DATE     GMV Service Group MerchantID  \\\n",
       "0  45715492  19502954801 2022-01-01   41400   supermarket         25   \n",
       "1  41720789  19492487660 2022-01-01  205000           cvs         28   \n",
       "2  55200938  19491373621 2022-01-01  237000           cvs         28   \n",
       "3  17144057  19485025779 2022-01-01   17000           cvs         28   \n",
       "4  46410460  19497349350 2022-01-01  340000   marketplace         37   \n",
       "\n",
       "   Loyalty Points Class ID  \n",
       "0               0        3  \n",
       "1               0        2  \n",
       "2               0        4  \n",
       "3               0        1  \n",
       "4               0        1  "
      ]
     },
     "execution_count": 35,
     "metadata": {},
     "output_type": "execute_result"
    }
   ],
   "source": [
    "Transactions.head()"
   ]
  },
  {
   "cell_type": "code",
   "execution_count": 36,
   "metadata": {},
   "outputs": [],
   "source": [
    "# Transactions.dtypes"
   ]
  },
  {
   "cell_type": "code",
   "execution_count": 37,
   "metadata": {},
   "outputs": [],
   "source": [
    "Transactions.drop(Transactions[Transactions['Class ID']=='1'].index,inplace=True)"
   ]
  },
  {
   "cell_type": "code",
   "execution_count": 38,
   "metadata": {},
   "outputs": [],
   "source": [
    "Transactions = pd.merge(Transactions, Loyalty_Benefits, left_on=['Class ID', 'Service Group'], right_on=['Class ID', 'Group'], how='left')\n"
   ]
  },
  {
   "cell_type": "code",
   "execution_count": 39,
   "metadata": {},
   "outputs": [],
   "source": [
    "Transactions.drop(Transactions[Transactions['Group'].isnull()].index,inplace=True)"
   ]
  },
  {
   "cell_type": "code",
   "execution_count": 40,
   "metadata": {},
   "outputs": [],
   "source": [
    "Transactions['%cashback']=Transactions['%cashback'].astype(int)\n"
   ]
  },
  {
   "cell_type": "code",
   "execution_count": 41,
   "metadata": {},
   "outputs": [],
   "source": [
    "Transactions['total_cash_back']=(Transactions['GMV']*Transactions['%cashback'])/100"
   ]
  },
  {
   "cell_type": "code",
   "execution_count": 42,
   "metadata": {},
   "outputs": [],
   "source": [
    "Transactions['total_cash_back']=Transactions['total_cash_back'].astype(int)\n",
    "Transactions.drop(['Class ID','Group'],axis=1,inplace=True)"
   ]
  },
  {
   "cell_type": "code",
   "execution_count": 43,
   "metadata": {},
   "outputs": [],
   "source": [
    "Transactions['total_cash_back']=Transactions['total_cash_back'].apply(lambda x : 10000 if x >10000 else x)"
   ]
  },
  {
   "cell_type": "code",
   "execution_count": 44,
   "metadata": {},
   "outputs": [
    {
     "data": {
      "text/html": [
       "<div>\n",
       "<style scoped>\n",
       "    .dataframe tbody tr th:only-of-type {\n",
       "        vertical-align: middle;\n",
       "    }\n",
       "\n",
       "    .dataframe tbody tr th {\n",
       "        vertical-align: top;\n",
       "    }\n",
       "\n",
       "    .dataframe thead th {\n",
       "        text-align: right;\n",
       "    }\n",
       "</style>\n",
       "<table border=\"1\" class=\"dataframe\">\n",
       "  <thead>\n",
       "    <tr style=\"text-align: right;\">\n",
       "      <th></th>\n",
       "      <th>User_id</th>\n",
       "      <th>Order_id</th>\n",
       "      <th>DATE</th>\n",
       "      <th>GMV</th>\n",
       "      <th>Service Group</th>\n",
       "      <th>MerchantID</th>\n",
       "      <th>Loyalty Points</th>\n",
       "      <th>%cashback</th>\n",
       "      <th>total_cash_back</th>\n",
       "    </tr>\n",
       "  </thead>\n",
       "  <tbody>\n",
       "    <tr>\n",
       "      <th>0</th>\n",
       "      <td>45715492</td>\n",
       "      <td>19502954801</td>\n",
       "      <td>2022-01-01</td>\n",
       "      <td>41400</td>\n",
       "      <td>supermarket</td>\n",
       "      <td>25</td>\n",
       "      <td>0</td>\n",
       "      <td>2</td>\n",
       "      <td>828</td>\n",
       "    </tr>\n",
       "    <tr>\n",
       "      <th>1</th>\n",
       "      <td>41720789</td>\n",
       "      <td>19492487660</td>\n",
       "      <td>2022-01-01</td>\n",
       "      <td>205000</td>\n",
       "      <td>cvs</td>\n",
       "      <td>28</td>\n",
       "      <td>0</td>\n",
       "      <td>5</td>\n",
       "      <td>10000</td>\n",
       "    </tr>\n",
       "    <tr>\n",
       "      <th>2</th>\n",
       "      <td>55200938</td>\n",
       "      <td>19491373621</td>\n",
       "      <td>2022-01-01</td>\n",
       "      <td>237000</td>\n",
       "      <td>cvs</td>\n",
       "      <td>28</td>\n",
       "      <td>0</td>\n",
       "      <td>12</td>\n",
       "      <td>10000</td>\n",
       "    </tr>\n",
       "    <tr>\n",
       "      <th>4</th>\n",
       "      <td>21752575</td>\n",
       "      <td>19488038888</td>\n",
       "      <td>2022-01-01</td>\n",
       "      <td>499000</td>\n",
       "      <td>marketplace</td>\n",
       "      <td>37</td>\n",
       "      <td>0</td>\n",
       "      <td>2</td>\n",
       "      <td>9980</td>\n",
       "    </tr>\n",
       "    <tr>\n",
       "      <th>5</th>\n",
       "      <td>40418705</td>\n",
       "      <td>19492658771</td>\n",
       "      <td>2022-01-01</td>\n",
       "      <td>138000</td>\n",
       "      <td>marketplace</td>\n",
       "      <td>37</td>\n",
       "      <td>0</td>\n",
       "      <td>2</td>\n",
       "      <td>2760</td>\n",
       "    </tr>\n",
       "  </tbody>\n",
       "</table>\n",
       "</div>"
      ],
      "text/plain": [
       "    User_id     Order_id       DATE     GMV Service Group MerchantID  \\\n",
       "0  45715492  19502954801 2022-01-01   41400   supermarket         25   \n",
       "1  41720789  19492487660 2022-01-01  205000           cvs         28   \n",
       "2  55200938  19491373621 2022-01-01  237000           cvs         28   \n",
       "4  21752575  19488038888 2022-01-01  499000   marketplace         37   \n",
       "5  40418705  19492658771 2022-01-01  138000   marketplace         37   \n",
       "\n",
       "   Loyalty Points  %cashback  total_cash_back  \n",
       "0               0          2              828  \n",
       "1               0          5            10000  \n",
       "2               0         12            10000  \n",
       "4               0          2             9980  \n",
       "5               0          2             2760  "
      ]
     },
     "execution_count": 44,
     "metadata": {},
     "output_type": "execute_result"
    }
   ],
   "source": [
    "Transactions.head()"
   ]
  },
  {
   "cell_type": "code",
   "execution_count": 45,
   "metadata": {},
   "outputs": [
    {
     "name": "stdout",
     "output_type": "stream",
     "text": [
      "Tổng chi phí hoàn tiền vào tháng 2 năm 2022:4,831,497VND\n"
     ]
    }
   ],
   "source": [
    "condition = (Transactions['DATE'].dt.year == 2022) & (Transactions['DATE'].dt.month == 2)\n",
    "total_cashback_feb_2022 = Transactions.loc[condition, 'total_cash_back'].sum()\n",
    "print('Tổng chi phí hoàn tiền vào tháng 2 năm 2022:{:,.0f}'.format(total_cashback_feb_2022)+'VND')"
   ]
  },
  {
   "cell_type": "code",
   "execution_count": 46,
   "metadata": {},
   "outputs": [],
   "source": [
    "Transactions.to_csv('Cashback.csv',index=False)"
   ]
  },
  {
   "attachments": {},
   "cell_type": "markdown",
   "metadata": {},
   "source": [
    "3,"
   ]
  },
  {
   "cell_type": "code",
   "execution_count": 47,
   "metadata": {},
   "outputs": [
    {
     "data": {
      "image/png": "[encoded data removed]",
      "text/plain": [
       "<Figure size 1000x600 with 1 Axes>"
      ]
     },
     "metadata": {},
     "output_type": "display_data"
    }
   ],
   "source": [
    "start_date = pd.to_datetime('2022-01-01')\n",
    "end_date = pd.to_datetime('2022-03-31')\n",
    "# end_date = pd.to_datetime(datetime.datetime.now().date())\n",
    "filtered_data = Transactions.loc[(Transactions['DATE'] >= start_date) & (Transactions['DATE'] <= end_date)]\n",
    "\n",
    "plt.figure(figsize=(10, 6))\n",
    "plt.plot(filtered_data['DATE'], filtered_data['total_cash_back'])\n",
    "plt.xlabel('Ngày')\n",
    "plt.ylabel('Giá trị')\n",
    "plt.title('Biểu đồ duy trì hàng tuần')\n",
    "plt.xticks(rotation=45)\n",
    "plt.grid(True)\n",
    "\n",
    "import matplotlib.dates as mdates\n",
    "\n",
    "plt.gca().xaxis.set_major_locator(mdates.WeekdayLocator())\n",
    "plt.gca().xaxis.set_major_formatter(mdates.DateFormatter('%Y-%m-%d'))\n",
    "\n",
    "plt.show()\n",
    "\n"
   ]
  },
  {
   "attachments": {},
   "cell_type": "markdown",
   "metadata": {},
   "source": [
    "# Part 2"
   ]
  },
  {
   "cell_type": "code",
   "execution_count": 48,
   "metadata": {},
   "outputs": [
    {
     "data": {
      "image/png": "[encoded data removed]",
      "text/plain": [
       "<Figure size 800x500 with 1 Axes>"
      ]
     },
     "metadata": {},
     "output_type": "display_data"
    }
   ],
   "source": [
    "fig,ax=plt.subplots(figsize=(8,5))\n",
    "sns.countplot(data=Loyalty_Ranking,x='Rank_name')\n",
    "ax.set(title=\"Distribute\");"
   ]
  },
  {
   "cell_type": "code",
   "execution_count": 49,
   "metadata": {},
   "outputs": [
    {
     "data": {
      "image/png": "[encoded data removed]",
      "text/plain": [
       "<Figure size 800x500 with 1 Axes>"
      ]
     },
     "metadata": {},
     "output_type": "display_data"
    }
   ],
   "source": [
    "fig, ax = plt.subplots(figsize=(8,5))\n",
    "ax=sns.histplot(data=Loyalty_Ranking, x=Loyalty_Ranking['Calculated_points'], kde=True, color='#5f9ea0')\n",
    "ax.axvline(np.percentile(Loyalty_Ranking['Calculated_points'], 25), color=\"blue\", linestyle=\"--\")\n",
    "ax.axvline(np.percentile(Loyalty_Ranking['Calculated_points'], 50), color=\"blue\", linestyle=\"--\")\n",
    "ax.axvline(np.percentile(Loyalty_Ranking['Calculated_points'], 75), color=\"blue\", linestyle=\"--\")\n",
    "plt.xlim(0, 5000)\n",
    "\n",
    "# vẽ các đường lưới ngang trên trục y của đồ thị.\n",
    "ax.yaxis.grid(color='gray', linestyle='dashed')\n",
    "# bỏ đường kẻ ở trên và bên phải chart\n",
    "spines = ['top', 'right']\n",
    "for s in spines:\n",
    "    ax.spines[s].set_visible(False) \n",
    "    \n",
    "# bỏ dấu tích ở  trục y\n",
    "ax.tick_params(left=False) \n",
    "\n",
    "plt.suptitle('Distribution of Point', fontweight='bold', size=14, horizontalalignment='center')\n",
    "plt.show();"
   ]
  },
  {
   "cell_type": "code",
   "execution_count": 50,
   "metadata": {},
   "outputs": [
    {
     "data": {
      "text/plain": [
       "count     1952.000000\n",
       "mean       728.445697\n",
       "std       1755.278325\n",
       "min          1.000000\n",
       "25%        108.000000\n",
       "50%        337.000000\n",
       "75%        900.000000\n",
       "max      42600.000000\n",
       "Name: Calculated_points, dtype: float64"
      ]
     },
     "execution_count": 50,
     "metadata": {},
     "output_type": "execute_result"
    }
   ],
   "source": [
    "Loyalty_Ranking['Calculated_points'].describe()"
   ]
  },
  {
   "cell_type": "code",
   "execution_count": 51,
   "metadata": {},
   "outputs": [
    {
     "data": {
      "image/png": "[encoded data removed]",
      "text/plain": [
       "<Figure size 640x480 with 1 Axes>"
      ]
     },
     "metadata": {},
     "output_type": "display_data"
    }
   ],
   "source": [
    "sns.boxplot(y=Loyalty_Ranking['Calculated_points']);"
   ]
  }
 ],
 "metadata": {
  "kernelspec": {
   "display_name": "base",
   "language": "python",
   "name": "python3"
  },
  "language_info": {
   "codemirror_mode": {
    "name": "ipython",
    "version": 3
   },
   "file_extension": ".py",
   "mimetype": "text/x-python",
   "name": "python",
   "nbconvert_exporter": "python",
   "pygments_lexer": "ipython3",
   "version": "3.10.9"
  },
  "orig_nbformat": 4
 },
 "nbformat": 4,
 "nbformat_minor": 2
}
